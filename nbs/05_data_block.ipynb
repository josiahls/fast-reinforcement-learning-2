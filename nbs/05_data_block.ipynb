{
 "cells": [
  {
   "cell_type": "code",
   "execution_count": null,
   "metadata": {},
   "outputs": [
    {
     "name": "stdout",
     "output_type": "stream",
     "text": [
      "The autoreload extension is already loaded. To reload it, use:\n",
      "  %reload_ext autoreload\n"
     ]
    }
   ],
   "source": [
    "# default_exp data_block\n",
    "%load_ext autoreload\n",
    "%autoreload 2"
   ]
  },
  {
   "cell_type": "code",
   "execution_count": null,
   "metadata": {},
   "outputs": [],
   "source": [
    "# hide\n",
    "from nbdev.showdoc import *\n",
    "from nbdev.imports import *\n",
    "from nbdev.export2html import *\n",
    "if not os.environ.get(\"IN_TEST\", None):\n",
    "    assert IN_NOTEBOOK\n",
    "    assert not IN_COLAB\n",
    "    assert IN_IPYTHON"
   ]
  },
  {
   "cell_type": "markdown",
   "metadata": {},
   "source": [
    "# Data Block\n",
    "\n",
    "> Primary handlers for interfacing the openai gym envs"
   ]
  },
  {
   "cell_type": "code",
   "execution_count": null,
   "metadata": {},
   "outputs": [],
   "source": [
    "# export\n",
    "from fastai.basic_data import *\n",
    "from fastai.basic_train import *\n",
    "from fastai.torch_core import *\n",
    "from fastai.callbacks import *\n",
    "from fastrl.wrappers import *\n",
    "from fastrl.basic_agents import *\n",
    "from fastrl.metrics import *\n",
    "from dataclasses import asdict\n",
    "from functools import partial\n",
    "from fastprogress.fastprogress import IN_NOTEBOOK\n",
    "from fastcore.utils import *\n",
    "import torch.multiprocessing as mp\n",
    "from functools import wraps\n",
    "from queue import Empty\n",
    "import textwrap\n",
    "import logging\n",
    "import gym\n",
    "\n",
    "logging.basicConfig(format='[%(asctime)s] p%(process)s line:%(lineno)d %(levelname)s - %(message)s',\n",
    "                    datefmt='%m-%d %H:%M:%S')\n",
    "_logger=logging.getLogger(__name__)"
   ]
  },
  {
   "cell_type": "code",
   "execution_count": null,
   "metadata": {},
   "outputs": [],
   "source": [
    "# hide\n",
    "_logger.setLevel('INFO')\n",
    "from fastcore.foundation import *\n",
    "import sys"
   ]
  },
  {
   "cell_type": "markdown",
   "metadata": {},
   "source": [
    "## Dataset\n",
    "\n",
    "`Dataset` instances are going to be a little different from the typically classification dataset that you might use in pytorch. Commonly, datasets have:\n",
    "- A known size to iter through\n",
    "- Maintain their state during the training sequence\n",
    "- Randomly sample their dataset\n",
    "- Have a common `x`/`y` or `input`/`target` data format\n",
    "\n",
    "For our `ExperienceSourceDataset`, most of this is going to be different. \n",
    "- We can have multiple sources (envs)\n",
    "\n",
    "You could think of a traditional dataset approach as being a mix of a `ExperienceSourceDataset` and a form of `ExperienceReplay`."
   ]
  },
  {
   "cell_type": "code",
   "execution_count": null,
   "metadata": {},
   "outputs": [],
   "source": [
    "# export\n",
    "def fix_s(x):\n",
    "    \"Flatten `x` to `(1,-1)` where `1` is the batch dim (B) unless **seems** to be an image e.g. has 3 dims (W,H,C), then it will attempt (B,W,H,C).\"\n",
    "    return (x if x.shape[0]==1 else \n",
    "            x.reshape(1,-1) if len(x.shape)==2 else\n",
    "            np.expand_dims(x,0))\n",
    "\n",
    "@dataclass\n",
    "class Experience(object):\n",
    "    s:np.array\n",
    "    sp:np.array\n",
    "    a:np.array\n",
    "    r:np.array\n",
    "    d:np.array\n",
    "    agent_s:np.array\n",
    "        \n",
    "    # TODO possibly have x,y for more generic experience integration with datasets.\n",
    "        \n",
    "#     def __post_init__(self):\n",
    "#         for k,v in asdict(self).items():\n",
    "#             setattr(self,k,fix_s(v) if k in ['s','sp'] else np.array(v,dtype=float).reshape(1,-1))"
   ]
  },
  {
   "cell_type": "code",
   "execution_count": null,
   "metadata": {},
   "outputs": [
    {
     "data": {
      "text/plain": [
       "{'s': array([[2, 2, 1, 1, 1],\n",
       "        [1, 1, 1, 1, 1],\n",
       "        [1, 2, 2, 1, 1],\n",
       "        [2, 1, 1, 1, 1],\n",
       "        [2, 1, 2, 2, 1]]),\n",
       " 'sp': array([[1, 1, 1, 1, 1],\n",
       "        [2, 1, 2, 1, 2],\n",
       "        [1, 1, 1, 2, 1],\n",
       "        [2, 1, 2, 1, 1],\n",
       "        [1, 2, 1, 1, 1]]),\n",
       " 'a': array([[2, 2]]),\n",
       " 'r': array([[2, 1, 2, 1, 1, 1, 2, 2, 2, 1, 1, 1, 1, 1, 1, 1, 2, 2, 1, 2]]),\n",
       " 'd': array([[0, 0, 0, 0, 0],\n",
       "        [0, 0, 0, 0, 0],\n",
       "        [0, 0, 0, 0, 0],\n",
       "        [0, 0, 0, 0, 0],\n",
       "        [0, 0, 0, 0, 0]]),\n",
       " 'agent_s': array([[5, 2, 5, 0, 0]])}"
      ]
     },
     "execution_count": null,
     "metadata": {},
     "output_type": "execute_result"
    }
   ],
   "source": [
    "exp=Experience(s=np.random.randint(1,3,(5,5)),\n",
    "               sp=np.random.randint(1,3,(5,5)),\n",
    "               a=np.random.randint(1,3,(1,2)),\n",
    "               r=np.random.randint(1,3,(1,20)),\n",
    "               d=np.random.randint(0,1,(5,5)),\n",
    "               agent_s=np.random.randint(0,6,(1,5)))\n",
    "asdict(exp)"
   ]
  },
  {
   "cell_type": "markdown",
   "metadata": {},
   "source": [
    "## Datasets"
   ]
  },
  {
   "cell_type": "code",
   "execution_count": null,
   "metadata": {},
   "outputs": [],
   "source": [
    "# export\n",
    "class ExperienceSourceCallback(LearnerCallback):\n",
    "    def on_train_begin(self,*args,**kwargs):\n",
    "        self.learn.data.train_dl.dataset.learn=self.learn\n",
    "        if not self.learn.data.empty_val:\n",
    "            self.learn.data.valid_dl.dataset.learn=self.learn\n",
    "\n",
    "class ExperienceSourceDataset(Dataset):\n",
    "    \"Similar to fastai's `LabelList`, iters in-order samples from `1->len(envs)` `envs`.\"\n",
    "    def __init__(self,env:str,n_envs=1,steps=1,steps_delta=1,max_episode_step=None,pixels=False):\n",
    "        def make_env():\n",
    "            env=gym.make(\"CartPole-v1\")\n",
    "            if pixels:env.reset()\n",
    "            return env\n",
    "            \n",
    "        self.envs=[make_env() for _ in range(n_envs)]\n",
    "        if pixels:self.envs=[PixelObservationWrapper(e) for e in self.envs]\n",
    "        self.steps=steps\n",
    "        self.steps_delta=steps_delta\n",
    "        self.max_episode_step=max_episode_step\n",
    "        self.d=np.zeros((len(self.envs),))+1\n",
    "        self.s=np.zeros((len(self.envs),*self.envs[0].observation_space.sample().shape))\n",
    "        self.iterations=np.zeros((len(self.envs)))\n",
    "        self.current_r=np.zeros((len(self.envs)))\n",
    "        self.total_r=[]\n",
    "        self.total_iterations=[]\n",
    "        self.learn=None\n",
    "        self._warned=False\n",
    "        self.callback_fns=[ExperienceSourceCallback]\n",
    "        self.inc=0\n",
    "        self._end_interation=False\n",
    "        \n",
    "    def __len__(self): return ifnone(self.max_episode_step,self.envs[0].spec.max_episode_steps)*len(self.envs)\n",
    "    def is_envs_last_step(self,idx):return bool(self.d[idx]) or self.iterations[idx]>len(self)-1\n",
    "    def cycle_env(self):self.inc=0 if self.inc==len(self.envs) else self.inc+1\n",
    "    \n",
    "    def get_action(self,idx):\n",
    "        if self.learn is None:\n",
    "            if not self._warned:_logger.warning('`self.learn` is None. will use random actions instead.')\n",
    "            self._warned=True\n",
    "            return self.envs[0].action_space.sample(),np.zeros((1,1))\n",
    "        return self.learn.predict(self.s[idx])\n",
    "    \n",
    "    @log_args\n",
    "    def __getitem__(self,_):\n",
    "        idx=self.inc\n",
    "        if self._end_interation:\n",
    "            self._end_interation=False\n",
    "            raise StopIteration()\n",
    "        \n",
    "        _logger.debug('Idx:%s,Iter:%s',idx,self.iterations[idx])\n",
    "        if idx==0 and self.iterations[idx]==0:\n",
    "            for i,e in enumerate(self.envs): self.s[i]=e.reset() # There is the possiblity this will equal None (and crash)?\n",
    "            self.iterations=np.zeros((len(self.envs)),dtype=int)\n",
    "            self.current_r=np.zeros((len(self.envs)))\n",
    "            \n",
    "        exps:List[Experience]=[]\n",
    "        while True:\n",
    "            a,agent_s=self.get_action(idx)\n",
    "            sp,r,self.d[idx],_=self.envs[idx].step(a)\n",
    "            if self.iterations[idx]%self.steps_delta==0 or self.d[idx]:\n",
    "                exps.append(Experience(self.s[idx],sp,a,r,self.d[idx],agent_s=ifnone(agent_s,[])))\n",
    "            \n",
    "            self.current_r[idx]+=r\n",
    "            self.s[idx]=sp\n",
    "            self.iterations[idx]+=1\n",
    "            if self.is_envs_last_step(idx):\n",
    "            if self.is_envs_last_step(idx):\n",
    "                self.total_r.append(self.current_r[idx])\n",
    "                self.total_iterations.append(self.iterations[idx])\n",
    "                self.iterations[idx]=0\n",
    "                \n",
    "                self.cycle_env()\n",
    "                self._end_interation=True\n",
    "                break\n",
    "            if len(exps)%self.steps==0:break\n",
    "        return [e.s for e in exps],[asdict(e) for e in exps]\n",
    "    \n",
    "    def pop_total_r(self):\n",
    "        r=self.total_r\n",
    "        if r:self.total_r,self.total_steps=[],[]\n",
    "        return r\n",
    "\n",
    "    def pop_r_interations(self):\n",
    "        res = list(zip(self.total_r, self.total_iterations))\n",
    "        if res:self.total_r,self.total_iterations=[],[]\n",
    "        return res"
   ]
  },
  {
   "cell_type": "code",
   "execution_count": null,
   "metadata": {},
   "outputs": [
    {
     "name": "stderr",
     "output_type": "stream",
     "text": [
      "[07-25 19:42:41] p186 line:39 WARNING - `self.learn` is None. will use random actions instead.\n"
     ]
    }
   ],
   "source": [
    "import sys\n",
    "# make_env = lambda: gym.make(\"Acrobot-v1\")\n",
    "ds=ExperienceSourceDataset(\"CartPole-v1\",n_envs=15,max_episode_step=50,steps=5)\n",
    "dl=DataLoader(ds,batch_size=1,num_workers=0)\n",
    "dones=[]\n",
    "idx=0\n",
    "for xb,yb in dl:\n",
    "    dones.extend([o['d'] for o in yb])\n",
    "    assert torch.cat(xb).shape[0]<=5 # Assert equal to the step size\n",
    "    sys.stdout.flush()\n",
    "    idx+=1\n",
    "assert idx>2 # We hope that the env can at least loop twice"
   ]
  },
  {
   "cell_type": "code",
   "execution_count": null,
   "metadata": {},
   "outputs": [
    {
     "name": "stderr",
     "output_type": "stream",
     "text": [
      "[07-25 19:43:47] p186 line:39 WARNING - `self.learn` is None. will use random actions instead.\n",
      "[07-25 19:43:47] p186 line:8 CRITICAL - xb: torch.Size([15, 4]), yb: dict_keys(['s', 'sp', 'a', 'r', 'd', 'agent_s'])\n"
     ]
    },
    {
     "ename": "AssertionError",
     "evalue": "",
     "output_type": "error",
     "traceback": [
      "\u001b[0;31m---------------------------------------------------------------------------\u001b[0m",
      "\u001b[0;31mAssertionError\u001b[0m                            Traceback (most recent call last)",
      "\u001b[0;32m<ipython-input-132-06457c9925d7>\u001b[0m in \u001b[0;36m<module>\u001b[0;34m\u001b[0m\n\u001b[1;32m      9\u001b[0m     \u001b[0;32massert\u001b[0m \u001b[0mtorch\u001b[0m\u001b[0;34m.\u001b[0m\u001b[0mcat\u001b[0m\u001b[0;34m(\u001b[0m\u001b[0mxb\u001b[0m\u001b[0;34m)\u001b[0m\u001b[0;34m.\u001b[0m\u001b[0mshape\u001b[0m\u001b[0;34m[\u001b[0m\u001b[0;36m0\u001b[0m\u001b[0;34m]\u001b[0m\u001b[0;34m<=\u001b[0m\u001b[0;36m5\u001b[0m\u001b[0;34m*\u001b[0m\u001b[0;36m3\u001b[0m\u001b[0;34m\u001b[0m\u001b[0;34m\u001b[0m\u001b[0m\n\u001b[1;32m     10\u001b[0m     \u001b[0msys\u001b[0m\u001b[0;34m.\u001b[0m\u001b[0mstdout\u001b[0m\u001b[0;34m.\u001b[0m\u001b[0mflush\u001b[0m\u001b[0;34m(\u001b[0m\u001b[0;34m)\u001b[0m\u001b[0;34m\u001b[0m\u001b[0;34m\u001b[0m\u001b[0m\n\u001b[0;32m---> 11\u001b[0;31m \u001b[0;32massert\u001b[0m\u001b[0;34m(\u001b[0m\u001b[0many\u001b[0m\u001b[0;34m(\u001b[0m\u001b[0;34m[\u001b[0m\u001b[0msum\u001b[0m\u001b[0;34m(\u001b[0m\u001b[0mi\u001b[0m\u001b[0;34m)\u001b[0m\u001b[0;34m>\u001b[0m\u001b[0;36m0\u001b[0m \u001b[0;32mfor\u001b[0m \u001b[0mi\u001b[0m \u001b[0;32min\u001b[0m \u001b[0mdones\u001b[0m\u001b[0;34m]\u001b[0m\u001b[0;34m)\u001b[0m\u001b[0;34m)\u001b[0m\u001b[0;34m\u001b[0m\u001b[0;34m\u001b[0m\u001b[0m\n\u001b[0m\u001b[1;32m     12\u001b[0m \u001b[0;34m\u001b[0m\u001b[0m\n\u001b[1;32m     13\u001b[0m \u001b[0;31m# make_env = lambda: gym.make(\"Acrobot-v1\")\u001b[0m\u001b[0;34m\u001b[0m\u001b[0;34m\u001b[0m\u001b[0;34m\u001b[0m\u001b[0m\n",
      "\u001b[0;31mAssertionError\u001b[0m: "
     ]
    }
   ],
   "source": [
    "import sys\n",
    "# make_env = lambda: gym.make(\"Acrobot-v1\")\n",
    "ds=ExperienceSourceDataset(\"CartPole-v1\",n_envs=3,max_episode_step=50,steps=5)\n",
    "dl=DataLoader(ds,batch_size=3,num_workers=0)\n",
    "dones=[]\n",
    "for xb,yb in dl:\n",
    "    dones.extend([o['d'] for o in yb])\n",
    "    _logger.critical('xb: %s, yb: %s',torch.cat(xb).shape,yb[0].keys())\n",
    "    assert torch.cat(xb).shape[0]<=5*3\n",
    "    sys.stdout.flush()\n",
    "assert(any([sum(i)>0 for i in dones]))\n",
    "    \n",
    "# make_env = lambda: gym.make(\"Acrobot-v1\")\n",
    "make_env = lambda: gym.make(\"CartPole-v1\")\n",
    "envs=[make_env() for _ in range(5)]\n",
    "ds=ExperienceSourceDataset(\"CartPole-v1\",n_envs=5,max_episode_step=50,steps=5)\n",
    "dl=DataLoader(ds,batch_size=5,num_workers=0)\n",
    "for xb,yb in dl:\n",
    "    _logger.critical('xb: %s, yb: %s',torch.cat(xb).shape,yb[0].keys())\n",
    "    assert torch.cat(xb).shape[0]<=5*5\n",
    "    sys.stdout.flush()\n",
    "    \n",
    "lsr=ds.pop_total_r()\n",
    "assert len(lsr)>1\n",
    "assert np.average(lsr)>15"
   ]
  },
  {
   "cell_type": "code",
   "execution_count": null,
   "metadata": {},
   "outputs": [
    {
     "name": "stderr",
     "output_type": "stream",
     "text": [
      "[07-25 18:39:22] p186 line:35 WARNING - `self.learn` is None. will use random actions instead.\n",
      "[07-25 18:39:22] p186 line:4 CRITICAL - xb: torch.Size([15, 400, 600, 3]), yb: dict_keys(['s', 'sp', 'a', 'r', 'd', 'agent_s'])\n",
      "[07-25 18:39:22] p186 line:4 CRITICAL - xb: torch.Size([15, 400, 600, 3]), yb: dict_keys(['s', 'sp', 'a', 'r', 'd', 'agent_s'])\n",
      "[07-25 18:39:22] p186 line:4 CRITICAL - xb: torch.Size([9, 400, 600, 3]), yb: dict_keys(['s', 'sp', 'a', 'r', 'd', 'agent_s'])\n",
      "[07-25 18:39:22] p186 line:4 CRITICAL - xb: torch.Size([12, 400, 600, 3]), yb: dict_keys(['s', 'sp', 'a', 'r', 'd', 'agent_s'])\n",
      "[07-25 18:39:23] p186 line:4 CRITICAL - xb: torch.Size([15, 400, 600, 3]), yb: dict_keys(['s', 'sp', 'a', 'r', 'd', 'agent_s'])\n",
      "[07-25 18:39:23] p186 line:4 CRITICAL - xb: torch.Size([15, 400, 600, 3]), yb: dict_keys(['s', 'sp', 'a', 'r', 'd', 'agent_s'])\n",
      "[07-25 18:39:23] p186 line:4 CRITICAL - xb: torch.Size([9, 400, 600, 3]), yb: dict_keys(['s', 'sp', 'a', 'r', 'd', 'agent_s'])\n",
      "[07-25 18:39:23] p186 line:4 CRITICAL - xb: torch.Size([6, 400, 600, 3]), yb: dict_keys(['s', 'sp', 'a', 'r', 'd', 'agent_s'])\n",
      "[07-25 18:39:23] p186 line:4 CRITICAL - xb: torch.Size([15, 400, 600, 3]), yb: dict_keys(['s', 'sp', 'a', 'r', 'd', 'agent_s'])\n",
      "[07-25 18:39:23] p186 line:4 CRITICAL - xb: torch.Size([15, 400, 600, 3]), yb: dict_keys(['s', 'sp', 'a', 'r', 'd', 'agent_s'])\n",
      "[07-25 18:39:23] p186 line:4 CRITICAL - xb: torch.Size([9, 400, 600, 3]), yb: dict_keys(['s', 'sp', 'a', 'r', 'd', 'agent_s'])\n",
      "[07-25 18:39:23] p186 line:4 CRITICAL - xb: torch.Size([3, 400, 600, 3]), yb: dict_keys(['s', 'sp', 'a', 'r', 'd', 'agent_s'])\n",
      "[07-25 18:39:23] p186 line:4 CRITICAL - xb: torch.Size([15, 400, 600, 3]), yb: dict_keys(['s', 'sp', 'a', 'r', 'd', 'agent_s'])\n",
      "[07-25 18:39:23] p186 line:4 CRITICAL - xb: torch.Size([6, 400, 600, 3]), yb: dict_keys(['s', 'sp', 'a', 'r', 'd', 'agent_s'])\n",
      "[07-25 18:39:24] p186 line:4 CRITICAL - xb: torch.Size([6, 400, 600, 3]), yb: dict_keys(['s', 'sp', 'a', 'r', 'd', 'agent_s'])\n",
      "[07-25 18:39:24] p186 line:4 CRITICAL - xb: torch.Size([15, 400, 600, 3]), yb: dict_keys(['s', 'sp', 'a', 'r', 'd', 'agent_s'])\n",
      "[07-25 18:39:24] p186 line:4 CRITICAL - xb: torch.Size([15, 400, 600, 3]), yb: dict_keys(['s', 'sp', 'a', 'r', 'd', 'agent_s'])\n",
      "[07-25 18:39:24] p186 line:4 CRITICAL - xb: torch.Size([15, 400, 600, 3]), yb: dict_keys(['s', 'sp', 'a', 'r', 'd', 'agent_s'])\n",
      "[07-25 18:39:24] p186 line:4 CRITICAL - xb: torch.Size([3, 400, 600, 3]), yb: dict_keys(['s', 'sp', 'a', 'r', 'd', 'agent_s'])\n",
      "[07-25 18:39:24] p186 line:4 CRITICAL - xb: torch.Size([15, 400, 600, 3]), yb: dict_keys(['s', 'sp', 'a', 'r', 'd', 'agent_s'])\n",
      "[07-25 18:39:24] p186 line:4 CRITICAL - xb: torch.Size([15, 400, 600, 3]), yb: dict_keys(['s', 'sp', 'a', 'r', 'd', 'agent_s'])\n",
      "[07-25 18:39:24] p186 line:4 CRITICAL - xb: torch.Size([6, 400, 600, 3]), yb: dict_keys(['s', 'sp', 'a', 'r', 'd', 'agent_s'])\n",
      "[07-25 18:39:25] p186 line:4 CRITICAL - xb: torch.Size([15, 400, 600, 3]), yb: dict_keys(['s', 'sp', 'a', 'r', 'd', 'agent_s'])\n",
      "[07-25 18:39:25] p186 line:4 CRITICAL - xb: torch.Size([15, 400, 600, 3]), yb: dict_keys(['s', 'sp', 'a', 'r', 'd', 'agent_s'])\n",
      "[07-25 18:39:25] p186 line:4 CRITICAL - xb: torch.Size([9, 400, 600, 3]), yb: dict_keys(['s', 'sp', 'a', 'r', 'd', 'agent_s'])\n",
      "[07-25 18:39:25] p186 line:4 CRITICAL - xb: torch.Size([15, 400, 600, 3]), yb: dict_keys(['s', 'sp', 'a', 'r', 'd', 'agent_s'])\n",
      "[07-25 18:39:25] p186 line:4 CRITICAL - xb: torch.Size([15, 400, 600, 3]), yb: dict_keys(['s', 'sp', 'a', 'r', 'd', 'agent_s'])\n",
      "[07-25 18:39:25] p186 line:4 CRITICAL - xb: torch.Size([15, 400, 600, 3]), yb: dict_keys(['s', 'sp', 'a', 'r', 'd', 'agent_s'])\n",
      "[07-25 18:39:25] p186 line:4 CRITICAL - xb: torch.Size([3, 400, 600, 3]), yb: dict_keys(['s', 'sp', 'a', 'r', 'd', 'agent_s'])\n",
      "[07-25 18:39:25] p186 line:4 CRITICAL - xb: torch.Size([9, 400, 600, 3]), yb: dict_keys(['s', 'sp', 'a', 'r', 'd', 'agent_s'])\n",
      "[07-25 18:39:26] p186 line:4 CRITICAL - xb: torch.Size([15, 400, 600, 3]), yb: dict_keys(['s', 'sp', 'a', 'r', 'd', 'agent_s'])\n",
      "[07-25 18:39:26] p186 line:4 CRITICAL - xb: torch.Size([9, 400, 600, 3]), yb: dict_keys(['s', 'sp', 'a', 'r', 'd', 'agent_s'])\n",
      "[07-25 18:39:26] p186 line:4 CRITICAL - xb: torch.Size([15, 400, 600, 3]), yb: dict_keys(['s', 'sp', 'a', 'r', 'd', 'agent_s'])\n",
      "[07-25 18:39:26] p186 line:4 CRITICAL - xb: torch.Size([15, 400, 600, 3]), yb: dict_keys(['s', 'sp', 'a', 'r', 'd', 'agent_s'])\n",
      "[07-25 18:39:26] p186 line:4 CRITICAL - xb: torch.Size([15, 400, 600, 3]), yb: dict_keys(['s', 'sp', 'a', 'r', 'd', 'agent_s'])\n",
      "[07-25 18:39:26] p186 line:4 CRITICAL - xb: torch.Size([6, 400, 600, 3]), yb: dict_keys(['s', 'sp', 'a', 'r', 'd', 'agent_s'])\n",
      "[07-25 18:39:26] p186 line:4 CRITICAL - xb: torch.Size([12, 400, 600, 3]), yb: dict_keys(['s', 'sp', 'a', 'r', 'd', 'agent_s'])\n",
      "[07-25 18:39:26] p186 line:4 CRITICAL - xb: torch.Size([15, 400, 600, 3]), yb: dict_keys(['s', 'sp', 'a', 'r', 'd', 'agent_s'])\n",
      "[07-25 18:39:26] p186 line:4 CRITICAL - xb: torch.Size([15, 400, 600, 3]), yb: dict_keys(['s', 'sp', 'a', 'r', 'd', 'agent_s'])\n",
      "[07-25 18:39:27] p186 line:4 CRITICAL - xb: torch.Size([12, 400, 600, 3]), yb: dict_keys(['s', 'sp', 'a', 'r', 'd', 'agent_s'])\n",
      "[07-25 18:39:27] p186 line:4 CRITICAL - xb: torch.Size([15, 400, 600, 3]), yb: dict_keys(['s', 'sp', 'a', 'r', 'd', 'agent_s'])\n",
      "[07-25 18:39:27] p186 line:4 CRITICAL - xb: torch.Size([9, 400, 600, 3]), yb: dict_keys(['s', 'sp', 'a', 'r', 'd', 'agent_s'])\n",
      "[07-25 18:39:27] p186 line:4 CRITICAL - xb: torch.Size([9, 400, 600, 3]), yb: dict_keys(['s', 'sp', 'a', 'r', 'd', 'agent_s'])\n",
      "[07-25 18:39:27] p186 line:4 CRITICAL - xb: torch.Size([15, 400, 600, 3]), yb: dict_keys(['s', 'sp', 'a', 'r', 'd', 'agent_s'])\n",
      "[07-25 18:39:27] p186 line:4 CRITICAL - xb: torch.Size([9, 400, 600, 3]), yb: dict_keys(['s', 'sp', 'a', 'r', 'd', 'agent_s'])\n",
      "[07-25 18:39:27] p186 line:4 CRITICAL - xb: torch.Size([15, 400, 600, 3]), yb: dict_keys(['s', 'sp', 'a', 'r', 'd', 'agent_s'])\n",
      "[07-25 18:39:27] p186 line:4 CRITICAL - xb: torch.Size([12, 400, 600, 3]), yb: dict_keys(['s', 'sp', 'a', 'r', 'd', 'agent_s'])\n",
      "[07-25 18:39:27] p186 line:4 CRITICAL - xb: torch.Size([15, 400, 600, 3]), yb: dict_keys(['s', 'sp', 'a', 'r', 'd', 'agent_s'])\n",
      "[07-25 18:39:27] p186 line:4 CRITICAL - xb: torch.Size([15, 400, 600, 3]), yb: dict_keys(['s', 'sp', 'a', 'r', 'd', 'agent_s'])\n",
      "[07-25 18:39:28] p186 line:4 CRITICAL - xb: torch.Size([15, 400, 600, 3]), yb: dict_keys(['s', 'sp', 'a', 'r', 'd', 'agent_s'])\n"
     ]
    }
   ],
   "source": [
    "ds=ExperienceSourceDataset('CartPole-v1',n_envs=3,max_episode_step=50,steps=5,pixels=True)\n",
    "dl=DataLoader(ds,batch_size=3,num_workers=0)\n",
    "for xb,yb in dl:\n",
    "    _logger.critical('xb: %s, yb: %s',torch.cat(xb).shape,yb[0].keys())\n",
    "    assert torch.cat(xb).shape[0]<=5*3\n",
    "    sys.stdout.flush()\n",
    "ls_r_iter=ds.pop_r_interations()\n",
    "assert len(ls_r_iter)>2\n",
    "assert np.average([o[0] for o in ls_r_iter])>10\n",
    "test_eq(int(sum([o[0] for o in ls_r_iter])),int(sum([o[1] for o in ls_r_iter])))"
   ]
  },
  {
   "cell_type": "code",
   "execution_count": null,
   "metadata": {},
   "outputs": [],
   "source": [
    "# export\n",
    "class FirstLastExperienceSourceDataset(ExperienceSourceDataset):\n",
    "    \"Similar to `ExperienceSourceDataset` but only keeps the first and last parts of a step. Can be seen as frame skipping.\"\n",
    "    def __init__(self,*args,discount=0.99,**kwargs):\n",
    "        super(FirstLastExperienceSourceDataset,self).__init__(*args,**kwargs)\n",
    "        self.discount=discount\n",
    "    \n",
    "    @log_args\n",
    "    def __getitem__(self,idx):\n",
    "        s,exps=super(FirstLastExperienceSourceDataset,self).__getitem__(idx)\n",
    "        exp=exps[-1]\n",
    "        exp['s']=exps[0]['s']\n",
    "        \n",
    "        total_reward=0.0\n",
    "        for e in reversed(exps):\n",
    "            total_reward*=self.discount\n",
    "            total_reward+=e['r']\n",
    "        exp['r']=total_reward\n",
    "        \n",
    "        return [exps[0]['s']],[exp]"
   ]
  },
  {
   "cell_type": "code",
   "execution_count": null,
   "metadata": {},
   "outputs": [
    {
     "name": "stderr",
     "output_type": "stream",
     "text": [
      "[07-25 18:39:28] p186 line:35 WARNING - `self.learn` is None. will use random actions instead.\n",
      "[07-25 18:39:28] p186 line:5 CRITICAL - xb: torch.Size([3, 4]), yb: dict_keys(['s', 'sp', 'a', 'r', 'd', 'agent_s'])\n",
      "[07-25 18:39:28] p186 line:5 CRITICAL - xb: torch.Size([3, 4]), yb: dict_keys(['s', 'sp', 'a', 'r', 'd', 'agent_s'])\n",
      "[07-25 18:39:28] p186 line:5 CRITICAL - xb: torch.Size([3, 4]), yb: dict_keys(['s', 'sp', 'a', 'r', 'd', 'agent_s'])\n",
      "[07-25 18:39:28] p186 line:5 CRITICAL - xb: torch.Size([3, 4]), yb: dict_keys(['s', 'sp', 'a', 'r', 'd', 'agent_s'])\n",
      "[07-25 18:39:28] p186 line:5 CRITICAL - xb: torch.Size([3, 4]), yb: dict_keys(['s', 'sp', 'a', 'r', 'd', 'agent_s'])\n",
      "[07-25 18:39:28] p186 line:5 CRITICAL - xb: torch.Size([3, 4]), yb: dict_keys(['s', 'sp', 'a', 'r', 'd', 'agent_s'])\n",
      "[07-25 18:39:28] p186 line:5 CRITICAL - xb: torch.Size([3, 4]), yb: dict_keys(['s', 'sp', 'a', 'r', 'd', 'agent_s'])\n",
      "[07-25 18:39:28] p186 line:5 CRITICAL - xb: torch.Size([3, 4]), yb: dict_keys(['s', 'sp', 'a', 'r', 'd', 'agent_s'])\n",
      "[07-25 18:39:28] p186 line:5 CRITICAL - xb: torch.Size([3, 4]), yb: dict_keys(['s', 'sp', 'a', 'r', 'd', 'agent_s'])\n",
      "[07-25 18:39:28] p186 line:5 CRITICAL - xb: torch.Size([3, 4]), yb: dict_keys(['s', 'sp', 'a', 'r', 'd', 'agent_s'])\n",
      "[07-25 18:39:28] p186 line:5 CRITICAL - xb: torch.Size([3, 4]), yb: dict_keys(['s', 'sp', 'a', 'r', 'd', 'agent_s'])\n",
      "[07-25 18:39:28] p186 line:5 CRITICAL - xb: torch.Size([3, 4]), yb: dict_keys(['s', 'sp', 'a', 'r', 'd', 'agent_s'])\n",
      "[07-25 18:39:28] p186 line:5 CRITICAL - xb: torch.Size([3, 4]), yb: dict_keys(['s', 'sp', 'a', 'r', 'd', 'agent_s'])\n",
      "[07-25 18:39:28] p186 line:5 CRITICAL - xb: torch.Size([3, 4]), yb: dict_keys(['s', 'sp', 'a', 'r', 'd', 'agent_s'])\n",
      "[07-25 18:39:28] p186 line:5 CRITICAL - xb: torch.Size([3, 4]), yb: dict_keys(['s', 'sp', 'a', 'r', 'd', 'agent_s'])\n",
      "[07-25 18:39:28] p186 line:5 CRITICAL - xb: torch.Size([3, 4]), yb: dict_keys(['s', 'sp', 'a', 'r', 'd', 'agent_s'])\n",
      "[07-25 18:39:28] p186 line:5 CRITICAL - xb: torch.Size([3, 4]), yb: dict_keys(['s', 'sp', 'a', 'r', 'd', 'agent_s'])\n",
      "[07-25 18:39:28] p186 line:5 CRITICAL - xb: torch.Size([3, 4]), yb: dict_keys(['s', 'sp', 'a', 'r', 'd', 'agent_s'])\n",
      "[07-25 18:39:28] p186 line:5 CRITICAL - xb: torch.Size([3, 4]), yb: dict_keys(['s', 'sp', 'a', 'r', 'd', 'agent_s'])\n",
      "[07-25 18:39:28] p186 line:5 CRITICAL - xb: torch.Size([3, 4]), yb: dict_keys(['s', 'sp', 'a', 'r', 'd', 'agent_s'])\n",
      "[07-25 18:39:28] p186 line:5 CRITICAL - xb: torch.Size([3, 4]), yb: dict_keys(['s', 'sp', 'a', 'r', 'd', 'agent_s'])\n",
      "[07-25 18:39:28] p186 line:5 CRITICAL - xb: torch.Size([3, 4]), yb: dict_keys(['s', 'sp', 'a', 'r', 'd', 'agent_s'])\n",
      "[07-25 18:39:28] p186 line:5 CRITICAL - xb: torch.Size([3, 4]), yb: dict_keys(['s', 'sp', 'a', 'r', 'd', 'agent_s'])\n",
      "[07-25 18:39:28] p186 line:5 CRITICAL - xb: torch.Size([3, 4]), yb: dict_keys(['s', 'sp', 'a', 'r', 'd', 'agent_s'])\n",
      "[07-25 18:39:28] p186 line:5 CRITICAL - xb: torch.Size([3, 4]), yb: dict_keys(['s', 'sp', 'a', 'r', 'd', 'agent_s'])\n",
      "[07-25 18:39:28] p186 line:5 CRITICAL - xb: torch.Size([3, 4]), yb: dict_keys(['s', 'sp', 'a', 'r', 'd', 'agent_s'])\n",
      "[07-25 18:39:28] p186 line:5 CRITICAL - xb: torch.Size([3, 4]), yb: dict_keys(['s', 'sp', 'a', 'r', 'd', 'agent_s'])\n",
      "[07-25 18:39:28] p186 line:5 CRITICAL - xb: torch.Size([3, 4]), yb: dict_keys(['s', 'sp', 'a', 'r', 'd', 'agent_s'])\n",
      "[07-25 18:39:28] p186 line:5 CRITICAL - xb: torch.Size([3, 4]), yb: dict_keys(['s', 'sp', 'a', 'r', 'd', 'agent_s'])\n",
      "[07-25 18:39:28] p186 line:5 CRITICAL - xb: torch.Size([3, 4]), yb: dict_keys(['s', 'sp', 'a', 'r', 'd', 'agent_s'])\n",
      "[07-25 18:39:28] p186 line:5 CRITICAL - xb: torch.Size([3, 4]), yb: dict_keys(['s', 'sp', 'a', 'r', 'd', 'agent_s'])\n",
      "[07-25 18:39:28] p186 line:5 CRITICAL - xb: torch.Size([3, 4]), yb: dict_keys(['s', 'sp', 'a', 'r', 'd', 'agent_s'])\n",
      "[07-25 18:39:28] p186 line:5 CRITICAL - xb: torch.Size([3, 4]), yb: dict_keys(['s', 'sp', 'a', 'r', 'd', 'agent_s'])\n",
      "[07-25 18:39:28] p186 line:5 CRITICAL - xb: torch.Size([3, 4]), yb: dict_keys(['s', 'sp', 'a', 'r', 'd', 'agent_s'])\n",
      "[07-25 18:39:28] p186 line:5 CRITICAL - xb: torch.Size([3, 4]), yb: dict_keys(['s', 'sp', 'a', 'r', 'd', 'agent_s'])\n",
      "[07-25 18:39:28] p186 line:5 CRITICAL - xb: torch.Size([3, 4]), yb: dict_keys(['s', 'sp', 'a', 'r', 'd', 'agent_s'])\n",
      "[07-25 18:39:28] p186 line:5 CRITICAL - xb: torch.Size([3, 4]), yb: dict_keys(['s', 'sp', 'a', 'r', 'd', 'agent_s'])\n",
      "[07-25 18:39:28] p186 line:5 CRITICAL - xb: torch.Size([3, 4]), yb: dict_keys(['s', 'sp', 'a', 'r', 'd', 'agent_s'])\n",
      "[07-25 18:39:28] p186 line:5 CRITICAL - xb: torch.Size([3, 4]), yb: dict_keys(['s', 'sp', 'a', 'r', 'd', 'agent_s'])\n",
      "[07-25 18:39:28] p186 line:5 CRITICAL - xb: torch.Size([3, 4]), yb: dict_keys(['s', 'sp', 'a', 'r', 'd', 'agent_s'])\n",
      "[07-25 18:39:28] p186 line:5 CRITICAL - xb: torch.Size([3, 4]), yb: dict_keys(['s', 'sp', 'a', 'r', 'd', 'agent_s'])\n",
      "[07-25 18:39:28] p186 line:5 CRITICAL - xb: torch.Size([3, 4]), yb: dict_keys(['s', 'sp', 'a', 'r', 'd', 'agent_s'])\n",
      "[07-25 18:39:28] p186 line:5 CRITICAL - xb: torch.Size([3, 4]), yb: dict_keys(['s', 'sp', 'a', 'r', 'd', 'agent_s'])\n",
      "[07-25 18:39:28] p186 line:5 CRITICAL - xb: torch.Size([3, 4]), yb: dict_keys(['s', 'sp', 'a', 'r', 'd', 'agent_s'])\n",
      "[07-25 18:39:28] p186 line:5 CRITICAL - xb: torch.Size([3, 4]), yb: dict_keys(['s', 'sp', 'a', 'r', 'd', 'agent_s'])\n",
      "[07-25 18:39:28] p186 line:5 CRITICAL - xb: torch.Size([3, 4]), yb: dict_keys(['s', 'sp', 'a', 'r', 'd', 'agent_s'])\n",
      "[07-25 18:39:28] p186 line:5 CRITICAL - xb: torch.Size([3, 4]), yb: dict_keys(['s', 'sp', 'a', 'r', 'd', 'agent_s'])\n",
      "[07-25 18:39:28] p186 line:5 CRITICAL - xb: torch.Size([3, 4]), yb: dict_keys(['s', 'sp', 'a', 'r', 'd', 'agent_s'])\n",
      "[07-25 18:39:28] p186 line:5 CRITICAL - xb: torch.Size([3, 4]), yb: dict_keys(['s', 'sp', 'a', 'r', 'd', 'agent_s'])\n",
      "[07-25 18:39:28] p186 line:5 CRITICAL - xb: torch.Size([3, 4]), yb: dict_keys(['s', 'sp', 'a', 'r', 'd', 'agent_s'])\n"
     ]
    }
   ],
   "source": [
    "ds=FirstLastExperienceSourceDataset(\"CartPole-v1\",n_envs=3,max_episode_step=50,steps=5)\n",
    "dl=DataLoader(ds,batch_size=3,num_workers=0)\n",
    "index=0\n",
    "for xb,yb in dl:\n",
    "    _logger.critical('xb: %s, yb: %s',torch.cat(xb).shape,yb[0].keys())\n",
    "    assert torch.cat(xb).shape[0]<=3\n",
    "    sys.stdout.flush()\n",
    "    index+=1"
   ]
  },
  {
   "cell_type": "code",
   "execution_count": null,
   "metadata": {},
   "outputs": [],
   "source": [
    "# export\n",
    "class AsyncExperienceSourceCallback(LearnerCallback):\n",
    "    _order = -11\n",
    "    \n",
    "    def on_epoch_begin(self,**kwargs):\n",
    "        ds=(self.learn.data.train_ds if self.learn.model.training or self.learn.data.empty_val else\n",
    "            self.learn.data.valid_ds)\n",
    "        if not self.learn.data.empty_val:ds.pause_event.clear()\n",
    "\n",
    "        if len(ds.data_proc_list)==0:\n",
    "            if not hasattr(self.learn,'fitter'):\n",
    "                _logger.warning('Using the default fitter function which will likely not work. Make sure your `AgentLearner` has a `fitter` attribute to actually run/train.')\n",
    "            \n",
    "            for proc_idx in range(ds.n_processes):\n",
    "                _logger.info('Starting Process')\n",
    "                data_proc=self.load_process()\n",
    "                data_proc.start()\n",
    "                ds.data_proc_list.append(data_proc)\n",
    "                \n",
    "    def load_process(self):raise NotImplementedError()\n",
    "    def empty_queues(self):raise NotImplementedError()\n",
    "\n",
    "    def on_batch_end(self,**kwargs):\n",
    "        # If not training, pause train ds, otherwise pause valid ds\n",
    "        ds=(self.learn.data.train_ds if not self.learn.model.training or self.learn.data.empty_val else\n",
    "            self.learn.data.valid_ds)\n",
    "        if not self.learn.data.empty_val:ds.pause_event.set()\n",
    "    \n",
    "    def on_train_end(self,**kwargs):\n",
    "        for ds in [self.learn.data.train_ds,None if self.learn.data.empty_val else self.learn.data.valid_ds]:\n",
    "            if ds is None: continue\n",
    "            ds.cancel_event.set()\n",
    "            for _ in range(5):\n",
    "                self.empty_queues()\n",
    "            for proc in ds.data_proc_list: proc.join(timeout=0)\n",
    "                \n",
    "class AsyncGradExperienceSourceCallback(AsyncExperienceSourceCallback):\n",
    "    def load_process(self):\n",
    "        ds=(self.learn.data.train_ds if self.learn.model.training or self.learn.data.empty_val else\n",
    "            self.learn.data.valid_ds)\n",
    "        return mp.Process(target=getattr(self.learn,'fitter',grad_fitter), \n",
    "                          args=(self.learn.model,self.learn.agent,ds.ds_cls),\n",
    "                          kwargs={'grad_queue':ds.grad_queue,'loss_queue':ds.loss_queue,'pause_event':ds.pause_event,'cancel_event':ds.cancel_event,\n",
    "                                  'metric_queue':ds.metric_queue})\n",
    "    def empty_queues(self):\n",
    "        ds=(self.learn.data.train_ds if self.learn.model.training or self.learn.data.empty_val else\n",
    "            self.learn.data.valid_ds)\n",
    "        while not ds.grad_queue.empty(): ds.grad_queue.get()\n",
    "        while not ds.loss_queue.empty(): ds.loss_queue.get()\n",
    "\n",
    "class AsyncDataExperienceSourceCallback(AsyncExperienceSourceCallback):\n",
    "    def load_process(self):\n",
    "        ds=(self.learn.data.train_ds if self.learn.model.training or self.learn.data.empty_val else\n",
    "            self.learn.data.valid_ds)\n",
    "        return mp.Process(target=getattr(self.learn,'fitter',data_fitter), \n",
    "                          args=(self.learn.model,self.learn.agent,ds.ds_cls),\n",
    "                          kwargs={'data_queue':ds.data_queue,'pause_event':ds.pause_event,'cancel_event':ds.cancel_event,\n",
    "                                  'metric_queue':ds.metric_queue})\n",
    "    def empty_queues(self):\n",
    "        ds=(self.learn.data.train_ds if self.learn.model.training or self.learn.data.empty_val else\n",
    "            self.learn.data.valid_ds)\n",
    "        while not ds.data_queue.empty():ds.data_queue.get()"
   ]
  },
  {
   "cell_type": "code",
   "execution_count": null,
   "metadata": {},
   "outputs": [],
   "source": [
    "# export\n",
    "def safe_fit(f):\n",
    "    @wraps(f)\n",
    "    def wrap(*args,cancel_event,**kwargs):\n",
    "        try:\n",
    "            return f(*args,cancel_event=cancel_event,**kwargs)\n",
    "        finally:\n",
    "            cancel_event.set()\n",
    "            for k,v in kwargs.items():\n",
    "                if k.__contains__('queue') and v is not None:v.put(None)\n",
    "            return None\n",
    "    return wrap\n",
    "\n",
    "@safe_fit\n",
    "def grad_fitter(model:nn.Module,agent:BaseAgent,ds:ExperienceSourceDataset,grad_queue:mp.JoinableQueue,\n",
    "                loss_queue:mp.JoinableQueue,pause_event:mp.Event,cancel_event:mp.Event,metric_queue:mp.JoinableQueue=None):\n",
    "    \"Updates a `train_queue` with `model.parameters()` and `loss_queue` with the loss. Note that this is only an example grad_fitter.\"\n",
    "    while not cancel_event.is_set(): # We are expecting the  grad_fitter to loop unless cancel_event is set\n",
    "        cancel_event.wait(0.1)\n",
    "        grad_queue.put(None)         # Adding `None` to `train_queue` will trigger an eventual ending of training\n",
    "        loss_queue.put(None)\n",
    "        if pause_event.is_set():     # There needs to be the ability for the grad_fitter to pause e.g. if waiting for validation to end.\n",
    "            cancel_event.wait(0.1)   # Using cancel_event to wait allows the main process to end this Process.\n",
    "        break\n",
    "\n",
    "@safe_fit\n",
    "def data_fitter(model:nn.Module,agent:BaseAgent,ds:ExperienceSourceDataset,data_queue:mp.JoinableQueue,\n",
    "                pause_event:mp.Event,cancel_event:mp.Event,metric_queue:mp.JoinableQueue=None):\n",
    "    _logger.warning('Using the `test_fitter` function. Make sure your `AgentLearner` has a `data_fitter` to actually run/train.')\n",
    "    while not cancel_event.is_set(): # We are expecting the  grad_fitter to loop unless cancel_event is set\n",
    "        cancel_event.wait(0.1)\n",
    "        data_queue.put(None)         # Adding `None` to `train_queue` will trigger an eventual ending of training\n",
    "        if pause_event.is_set():     # There needs to be the ability for the grad_fitter to pause e.g. if waiting for validation to end.\n",
    "            cancel_event.wait(0.1)   # Using cancel_event to wait allows the main process to end this Process.     \n",
    "            \n",
    "def _soft_queue_get(q:mp.Queue,e:mp.Event):\n",
    "    entry=None\n",
    "    while not e.is_set():\n",
    "        try:\n",
    "            entry=q.get_nowait()\n",
    "            break\n",
    "        except Empty:pass\n",
    "    return entry\n",
    "            \n",
    "class AsyncGradExperienceSourceDataset(ExperienceSourceDataset):\n",
    "    \"Contains dataloaders of multiple sub-datasets and executes them using `n_processes`. `xb` is the gradients from the agents, `yb` is the loss.\"\n",
    "    def __init__(self,env_name:str,n_envs=1,ds_cls=ExperienceSourceDataset,max_episode_step=None,n_processes=1,queue_sz=None,*args,**kwargs):\n",
    "        self.n_processes=n_processes\n",
    "        self.n_envs=n_envs\n",
    "        self.env_name=env_name\n",
    "        self.ds_cls=ds_cls\n",
    "        self.pause_event=mp.Event()                               # If the event is set, then the Process will freeze.\n",
    "        self.cancel_event=mp.Event()                              # If the event is set, then the Process will freeze.\n",
    "        self.max_episode_step=max_episode_step\n",
    "        self.queue_sz=ifnone(queue_sz,self.n_processes*n_envs)\n",
    "        self.grad_queue=mp.JoinableQueue(maxsize=self.queue_sz)\n",
    "        self.loss_queue=mp.JoinableQueue(maxsize=self.queue_sz)\n",
    "        self.metric_queue:mp.JoinableQueue=None\n",
    "        self.data_proc_list=[]\n",
    "        self.callback_fns=[AsyncGradExperienceSourceCallback]\n",
    "        self._env=gym.make(self.env_name)\n",
    "    \n",
    "    def __len__(self): return ifnone(self.max_episode_step,self._env.spec.max_episode_steps)*self.n_envs\n",
    "    \n",
    "        \n",
    "    def __getitem__(self,idx):\n",
    "        if len(self.data_proc_list)==0: raise StopIteration()\n",
    "        train_entry=_soft_queue_get(self.grad_queue,self.cancel_event)\n",
    "\n",
    "        if train_entry is None:\n",
    "            raise StopIteration()\n",
    "        \n",
    "        train_loss_entry=_soft_queue_get(self.loss_queue,self.cancel_event)\n",
    "        return train_entry,[train_loss_entry]     \n",
    "    \n",
    "class AsyncDataExperienceSourceDataset(ExperienceSourceDataset):\n",
    "    \"Contains dataloaders of multiple sub-datasets and executes them using `n_processes`. `xb` is the gradients from the agents, `yb` is the loss.\"\n",
    "    def __init__(self,env_name:str,n_envs=1,ds_cls=ExperienceSourceDataset,max_episode_step=None,n_processes=1,queue_sz=None,**kwargs):\n",
    "        self.n_processes=n_processes\n",
    "        self.n_envs=n_envs\n",
    "        self.ds_cls=ds_cls\n",
    "        self.env_name=env_name\n",
    "        self.pause_event=mp.Event()                               # If the event is set, then the Process will freeze.\n",
    "        self.cancel_event=mp.Event()                              # If the event is set, then the Process will freeze.\n",
    "        self.max_episode_step=max_episode_step\n",
    "        self.queue_sz=ifnone(queue_sz,self.n_processes*n_envs)\n",
    "        self.data_queue=mp.JoinableQueue(maxsize=self.n_processes)\n",
    "        self.metric_queue:mp.JoinableQueue=None\n",
    "        self.data_proc_list=[]\n",
    "        self.callback_fns=[AsyncDataExperienceSourceCallback]\n",
    "        self._env=gym.make(self.env_name)\n",
    "        \n",
    "    def __len__(self): return ifnone(self.max_episode_step,self._env.spec.max_episode_steps)*self.n_envs\n",
    "        \n",
    "    def __getitem__(self,idx):\n",
    "        if len(self.data_proc_list)==0: raise StopIteration()\n",
    "        train_entry=_soft_queue_get(self.data_queue,self.cancel_event)\n",
    "\n",
    "        if train_entry is None:\n",
    "            raise StopIteration()\n",
    "\n",
    "        return [e['s'] for e in train_entry],train_entry"
   ]
  },
  {
   "cell_type": "code",
   "execution_count": null,
   "metadata": {},
   "outputs": [],
   "source": [
    "add_docs(AsyncGradExperienceSourceDataset,\n",
    "         __init__=textwrap.fill(\"\"\"The `AsyncGradExperienceSourceDataset` class is instantiated via passing \n",
    "         the `env_name` that we want to train on, and a `partial` class of a `ExperienceSourceDataset` called `ds_cls`.\"\"\"))"
   ]
  },
  {
   "cell_type": "markdown",
   "metadata": {},
   "source": [
    "## Dataset Shower\n",
    "We can define a wrapper around a dataset which will show up to `rows * cols` environments."
   ]
  },
  {
   "cell_type": "code",
   "execution_count": null,
   "metadata": {},
   "outputs": [],
   "source": [
    "# export\n",
    "if IN_NOTEBOOK:\n",
    "    from IPython import display\n",
    "    import PIL.Image"
   ]
  },
  {
   "cell_type": "code",
   "execution_count": null,
   "metadata": {},
   "outputs": [],
   "source": [
    "%matplotlib inline"
   ]
  },
  {
   "cell_type": "code",
   "execution_count": null,
   "metadata": {},
   "outputs": [],
   "source": [
    "# export\n",
    "class DatasetDisplayWrapper(object):\n",
    "    def __init__(self,ds,rows=2,cols=2,max_w=800):\n",
    "        \"Wraps a ExperienceSourceDataset instance showing multiple envs in a `rows` by `cols` grid in a Jupyter notebook.\"\n",
    "        # Ref: https://stackoverflow.com/questions/1443129/completely-wrap-an-object-in-python\n",
    "        # We are basically Wrapping any instance of ExperienceSourceDataset (kind of cool right?)\n",
    "        clss=(ExperienceSourceDataset,FirstLastExperienceSourceDataset,\n",
    "              AsyncGradExperienceSourceDataset,AsyncDataExperienceSourceDataset)\n",
    "        assert issubclass(ds.__class__,clss),'Currently this only works with the ExperienceSourceDataset and Async*ExperienceSourceDataset class only.'\n",
    "        self.__class__ = type(ds.__class__.__name__,(self.__class__, ds.__class__),{})\n",
    "        self.__dict__=ds.__dict__\n",
    "        self.rows,self.cols,self.max_w=rows,cols,max_w\n",
    "        self.current_display=None\n",
    "        if not IN_NOTEBOOK: \n",
    "            _logger.warning('It seems you are not running in a notebook. Nothing is going to be displayed.')\n",
    "            return\n",
    "        \n",
    "        if self.envs[0].render('rgb_array') is None: self.envs[0].reset()\n",
    "        rdr=self.envs[0].render('rgb_array')\n",
    "        if rdr.shape[1]*self.cols>max_w:\n",
    "            _logger.warning('Max Width is %s but %s*%s is greater than. Decreasing the number of cols to %s, rows increase by %s',\n",
    "                            max_w,rdr.shape[1],self.cols,max_w%rdr.shape[1],max_w%rdr.shape[1])\n",
    "            self.cols=max_w%rdr.shape[1]\n",
    "            self.rows+=max_w%rdr.shape[1]\n",
    "        self.max_displays=self.cols*self.rows\n",
    "        self.current_display=np.zeros(shape=(self.rows*rdr.shape[0],self.cols*rdr.shape[1],rdr.shape[2])).astype('uint8')\n",
    "        _logger.info('%s, %s, %s, %s, %s',0,0//self.cols,0%self.cols,rdr.shape,self.current_display.shape)\n",
    "\n",
    "    def __getitem__(self,idx):\n",
    "        o=super(DatasetDisplayWrapper,self).__getitem__(idx)\n",
    "        idx=idx%self.max_displays\n",
    "        if self.current_display is not None and idx<self.rows*self.cols:\n",
    "            display.clear_output(wait=True)\n",
    "            im=self.envs[idx].render(mode='rgb_array')\n",
    "            self.current_display[(idx//self.cols)*im.shape[0]:(idx//self.cols)*im.shape[0]+im.shape[0],\n",
    "                                 (idx%self.cols)*im.shape[1]:(idx%self.cols)*im.shape[1]+im.shape[1],:]=im\n",
    "            new_im=PIL.Image.fromarray(self.current_display)\n",
    "            display.display(new_im)\n",
    "        else:\n",
    "            display.display(PIL.Image.fromarray(self.current_display))\n",
    "        return o"
   ]
  },
  {
   "cell_type": "markdown",
   "metadata": {},
   "source": [
    "## DataBunch"
   ]
  },
  {
   "cell_type": "code",
   "execution_count": null,
   "metadata": {},
   "outputs": [],
   "source": [
    "# export\n",
    "class ExperienceSourceDataBunch(DataBunch):\n",
    "    @classmethod\n",
    "    def from_env(cls,env:str,n_envs=1,firstlast=False,display=False,max_steps=None,skip_step=1,path:PathOrStr='.',add_valid=True,\n",
    "                 cols=1,rows=1,max_w=800):\n",
    "        def create_ds(make_empty=False):\n",
    "            _ds_cls=FirstLastExperienceSourceDataset if firstlast else ExperienceSourceDataset\n",
    "            make_env = lambda: gym.make(env)\n",
    "            envs=[make_env() for _ in range(n_envs)]\n",
    "            _ds=_ds_cls(envs,max_episode_step=0 if make_empty else max_steps,steps=skip_step)\n",
    "            if display:_ds=DatasetDisplayWrapper(_ds,cols=cols,rows=rows,max_w=max_w)\n",
    "            return _ds\n",
    "            \n",
    "        dss=(create_ds(),create_ds(not add_valid))\n",
    "        return cls.create(*dss,bs=n_envs,num_workers=0)\n",
    "    \n",
    "    @classmethod\n",
    "    def create(cls, train_ds:Dataset, valid_ds:Dataset, test_ds:Optional[Dataset]=None, path:PathOrStr='.', bs:int=64,\n",
    "               val_bs:int=None, num_workers:int=defaults.cpus, dl_tfms:Optional[Collection[Callable]]=None,\n",
    "               device:torch.device=None, collate_fn:Callable=data_collate, no_check:bool=False, **dl_kwargs)->'DataBunch':\n",
    "        \"Create a `DataBunch` from `train_ds`, `valid_ds` and maybe `test_ds` with a batch size of `bs`. Passes `**dl_kwargs` to `DataLoader()`\"\n",
    "        datasets = cls._init_ds(train_ds, valid_ds, test_ds)\n",
    "        val_bs = ifnone(val_bs, bs)\n",
    "        dls = [DataLoader(d, b, shuffle=s, drop_last=s, num_workers=num_workers, **dl_kwargs) for d,b,s in\n",
    "               zip(datasets, (bs,val_bs,val_bs,val_bs), (False,False,False,False)) if d is not None]\n",
    "        return cls(*dls, path=path, device=device, dl_tfms=dl_tfms, collate_fn=collate_fn, no_check=no_check)"
   ]
  },
  {
   "cell_type": "code",
   "execution_count": null,
   "metadata": {},
   "outputs": [
    {
     "name": "stderr",
     "output_type": "stream",
     "text": [
      "[07-25 18:39:28] p186 line:35 WARNING - `self.learn` is None. will use random actions instead.\n"
     ]
    }
   ],
   "source": [
    "data=ExperienceSourceDataBunch.from_env('CartPole-v1',n_envs=5,display=False,firstlast=False,add_valid=False)\n",
    "for xb,yb in data.train_dl:\n",
    "    test_eq(len(xb),1)\n",
    "    test_eq(tuple(xb[0].shape),(5,4))"
   ]
  },
  {
   "cell_type": "code",
   "execution_count": null,
   "metadata": {},
   "outputs": [
    {
     "name": "stderr",
     "output_type": "stream",
     "text": [
      "[07-25 18:39:28] p186 line:35 WARNING - `self.learn` is None. will use random actions instead.\n"
     ]
    }
   ],
   "source": [
    "data=ExperienceSourceDataBunch.from_env('CartPole-v1',n_envs=5,display=False,firstlast=True,add_valid=False)\n",
    "for xb,yb in data.train_dl:\n",
    "    test_eq(len(xb),1)\n",
    "    test_eq(tuple(xb[0].shape),(5,4))"
   ]
  },
  {
   "cell_type": "code",
   "execution_count": null,
   "metadata": {},
   "outputs": [],
   "source": [
    "# export\n",
    "class AsyncExperienceSourceDataBunch(ExperienceSourceDataBunch):\n",
    "    @classmethod\n",
    "    def from_env(cls,env:str,n_envs=1,data_exp=True,firstlast=False,display=False,max_steps=None,skip_step=1,path:PathOrStr='.',add_valid=True,\n",
    "                 cols=1,rows=1,max_w=800,n_processes=1,queue_sz=None):\n",
    "        def create_ds(make_empty=False):\n",
    "            _sub_ds_cls=FirstLastExperienceSourceDataset if firstlast else ExperienceSourceDataset\n",
    "            _sub_ds_cls=partial(_sub_ds_cls,env=env,n_envs=1,max_episode_step=0 if make_empty else max_steps,steps=skip_step)\n",
    "            _ds_cls=AsyncDataExperienceSourceDataset if data_exp else AsyncGradExperienceSourceDataset\n",
    "            _ds=_ds_cls(env,max_episode_step=0 if make_empty else max_steps,steps=skip_step,ds_cls=_sub_ds_cls,n_processes=n_processes,queue_sz=queue_sz)\n",
    "            for k,v in {'env':env,'n_envs':n_envs,'steps':skip_step}.items():\n",
    "                if not hasattr(_ds,k):setattr(_ds,k,v)\n",
    "            if display:_ds=DatasetDisplayWrapper(_ds,cols=cols,rows=rows,max_w=max_w)\n",
    "            return _ds\n",
    "            \n",
    "#         dss=(create_ds(),create_ds() if add_valid else None)\n",
    "        return cls.create(create_ds(),create_ds(not add_valid),bs=n_envs,num_workers=0)"
   ]
  },
  {
   "cell_type": "code",
   "execution_count": null,
   "metadata": {},
   "outputs": [],
   "source": [
    "# export\n",
    "@safe_fit\n",
    "def dqn_fitter(model:nn.Module,agent:BaseAgent,ds:ExperienceSourceDataset,data_queue:mp.JoinableQueue,\n",
    "               pause_event:mp.Event,cancel_event:mp.Event,metric_queue:mp.JoinableQueue=None):\n",
    "    dataset=ds()\n",
    "    while not cancel_event.is_set(): \n",
    "        for xb,yb in dataset:\n",
    "            data_queue.put(yb)\n",
    "            if pause_event.is_set():cancel_event.wait(0.1) \n",
    "            if cancel_event.is_set():break\n",
    "        if metric_queue is not None:metric_queue.put(TotalRewards(np.mean(dataset.pop_total_r())))\n",
    "        if cancel_event.is_set():break\n",
    "                \n",
    "@safe_fit\n",
    "def dqn_grad_fitter(model:nn.Module,agent:BaseAgent,ds:ExperienceSourceDataset,grad_queue:mp.JoinableQueue,loss_queue:mp.JoinableQueue,\n",
    "                    pause_event:mp.Event,cancel_event:mp.Event,metric_queue:mp.JoinableQueue=None):\n",
    "    dataset=ds()\n",
    "    while not cancel_event.is_set(): \n",
    "        for xb,yb in dataset:\n",
    "            sys.stdout.flush()\n",
    "            grad_queue.put(xb)\n",
    "            loss_queue.put(0.5)\n",
    "            if pause_event.is_set():cancel_event.wait(0.1) \n",
    "            if cancel_event.is_set():break\n",
    "        if metric_queue is not None:metric_queue.put(TotalRewards(np.mean(dataset.pop_total_r())))\n",
    "        if cancel_event.is_set():break\n",
    "\n",
    "@safe_fit\n",
    "def buggy_dqn_fitter(model:nn.Module,agent:BaseAgent,ds:ExperienceSourceDataset,data_queue:mp.JoinableQueue,\n",
    "                pause_event:mp.Event,cancel_event:mp.Event,metric_queue:mp.JoinableQueue=None):\n",
    "    dataset=ds()\n",
    "    while not cancel_event.is_set(): \n",
    "        for xb,yb in dataset:\n",
    "            data_queue.put(yb)\n",
    "            if pause_event.is_set():cancel_event.wait(0.1) \n",
    "            if cancel_event.is_set():break\n",
    "            raise Exception('Crashing on purpose')\n",
    "        if cancel_event.is_set():break"
   ]
  },
  {
   "cell_type": "code",
   "execution_count": null,
   "metadata": {},
   "outputs": [],
   "source": [
    "from fastrl.basic_train import *\n",
    "import pytest"
   ]
  },
  {
   "cell_type": "markdown",
   "metadata": {},
   "source": [
    "If no fitter is added, then calling the fit function will likelly result in a `TypeError` where the `smooth_loss` is missing."
   ]
  },
  {
   "cell_type": "code",
   "execution_count": null,
   "metadata": {},
   "outputs": [],
   "source": [
    "class FakeRunCallback2(LearnerCallback):\n",
    "    def on_backward_begin(self,*args,**kwargs): return {'skip_bwd':True,'skip_validate':True}\n",
    "#     def on_batch_begin(self,last_target,**kwargs):\n",
    "#         print([o['d'] for o in last_target])\n",
    "#         sys.stdout.flush()"
   ]
  },
  {
   "cell_type": "code",
   "execution_count": null,
   "metadata": {},
   "outputs": [
    {
     "data": {
      "text/html": [
       "<table border=\"1\" class=\"dataframe\">\n",
       "  <thead>\n",
       "    <tr style=\"text-align: left;\">\n",
       "      <th>epoch</th>\n",
       "      <th>train_loss</th>\n",
       "      <th>valid_loss</th>\n",
       "      <th>time</th>\n",
       "    </tr>\n",
       "  </thead>\n",
       "  <tbody>\n",
       "    <tr>\n",
       "      <td>0</td>\n",
       "      <td>0.500000</td>\n",
       "      <td>#na#</td>\n",
       "      <td>00:00</td>\n",
       "    </tr>\n",
       "    <tr>\n",
       "      <td>1</td>\n",
       "      <td>0.500000</td>\n",
       "      <td>#na#</td>\n",
       "      <td>00:00</td>\n",
       "    </tr>\n",
       "  </tbody>\n",
       "</table>"
      ],
      "text/plain": [
       "<IPython.core.display.HTML object>"
      ]
     },
     "metadata": {},
     "output_type": "display_data"
    },
    {
     "name": "stderr",
     "output_type": "stream",
     "text": [
      "[07-25 18:39:28] p186 line:15 INFO - Starting Process\n",
      "[07-25 18:39:29] p5521 line:35 WARNING - `self.learn` is None. will use random actions instead.\n"
     ]
    }
   ],
   "source": [
    "data=AsyncExperienceSourceDataBunch.from_env('CartPole-v1',data_exp=True,display=False,max_steps=50,firstlast=False,add_valid=False,n_processes=1,n_envs=1)\n",
    "model=nn.Sequential(nn.Linear(4,5),nn.ReLU(),nn.Linear(5,2))\n",
    "agent=DQNAgent(model=model)\n",
    "learn=AgentLearner(data,model,agent=agent,callback_fns=[FakeRunCallback2])\n",
    "setattr(learn,'fitter',dqn_fitter)\n",
    "learn.fit(2,lr=0.01,wd=1)"
   ]
  },
  {
   "cell_type": "code",
   "execution_count": null,
   "metadata": {},
   "outputs": [
    {
     "data": {
      "text/html": [
       "\n",
       "    <div>\n",
       "        <style>\n",
       "            /* Turns off some styling */\n",
       "            progress {\n",
       "                /* gets rid of default border in Firefox and Opera. */\n",
       "                border: none;\n",
       "                /* Needs to be in here for Safari polyfill so background images work as expected. */\n",
       "                background-size: auto;\n",
       "            }\n",
       "            .progress-bar-interrupted, .progress-bar-interrupted::-webkit-progress-bar {\n",
       "                background: #F44336;\n",
       "            }\n",
       "        </style>\n",
       "      <progress value='0' class='' max='1' style='width:300px; height:20px; vertical-align: middle;'></progress>\n",
       "      0.00% [0/1 00:00<00:00]\n",
       "    </div>\n",
       "    \n",
       "<table border=\"1\" class=\"dataframe\">\n",
       "  <thead>\n",
       "    <tr style=\"text-align: left;\">\n",
       "      <th>epoch</th>\n",
       "      <th>train_loss</th>\n",
       "      <th>valid_loss</th>\n",
       "      <th>time</th>\n",
       "    </tr>\n",
       "  </thead>\n",
       "  <tbody>\n",
       "  </tbody>\n",
       "</table><p>\n",
       "\n",
       "    <div>\n",
       "        <style>\n",
       "            /* Turns off some styling */\n",
       "            progress {\n",
       "                /* gets rid of default border in Firefox and Opera. */\n",
       "                border: none;\n",
       "                /* Needs to be in here for Safari polyfill so background images work as expected. */\n",
       "                background-size: auto;\n",
       "            }\n",
       "            .progress-bar-interrupted, .progress-bar-interrupted::-webkit-progress-bar {\n",
       "                background: #F44336;\n",
       "            }\n",
       "        </style>\n",
       "      <progress value='0' class='' max='50' style='width:300px; height:20px; vertical-align: middle;'></progress>\n",
       "      0.00% [0/50 00:00<00:00]\n",
       "    </div>\n",
       "    "
      ],
      "text/plain": [
       "<IPython.core.display.HTML object>"
      ]
     },
     "metadata": {},
     "output_type": "display_data"
    },
    {
     "name": "stderr",
     "output_type": "stream",
     "text": [
      "[07-25 18:39:29] p186 line:12 WARNING - Using the default fitter function which will likely not work. Make sure your `AgentLearner` has a `fitter` attribute to actually run/train.\n",
      "[07-25 18:39:29] p186 line:15 INFO - Starting Process\n",
      "[07-25 18:39:29] p5525 line:29 WARNING - Using the `test_fitter` function. Make sure your `AgentLearner` has a `data_fitter` to actually run/train.\n"
     ]
    }
   ],
   "source": [
    "data=AsyncExperienceSourceDataBunch.from_env('CartPole-v1',data_exp=True,display=False,max_steps=50,firstlast=True,add_valid=False,n_processes=1,n_envs=1)\n",
    "model=nn.Sequential(nn.Linear(4,5),nn.ReLU(),nn.Linear(5,2))\n",
    "agent=DQNAgent(model=model)\n",
    "learn=AgentLearner(data,model,agent=agent,callback_fns=[FakeRunCallback])\n",
    "with pytest.raises(TypeError):\n",
    "    learn.fit(1,lr=0.01,wd=1)"
   ]
  },
  {
   "cell_type": "code",
   "execution_count": null,
   "metadata": {},
   "outputs": [
    {
     "data": {
      "text/html": [
       "<table border=\"1\" class=\"dataframe\">\n",
       "  <thead>\n",
       "    <tr style=\"text-align: left;\">\n",
       "      <th>epoch</th>\n",
       "      <th>train_loss</th>\n",
       "      <th>valid_loss</th>\n",
       "      <th>time</th>\n",
       "    </tr>\n",
       "  </thead>\n",
       "  <tbody>\n",
       "    <tr>\n",
       "      <td>0</td>\n",
       "      <td>0.500000</td>\n",
       "      <td>#na#</td>\n",
       "      <td>00:00</td>\n",
       "    </tr>\n",
       "  </tbody>\n",
       "</table>"
      ],
      "text/plain": [
       "<IPython.core.display.HTML object>"
      ]
     },
     "metadata": {},
     "output_type": "display_data"
    },
    {
     "name": "stderr",
     "output_type": "stream",
     "text": [
      "[07-25 18:39:29] p186 line:15 INFO - Starting Process\n",
      "[07-25 18:39:29] p186 line:15 INFO - Starting Process\n",
      "[07-25 18:39:29] p5529 line:35 WARNING - `self.learn` is None. will use random actions instead.\n",
      "[07-25 18:39:29] p5532 line:35 WARNING - `self.learn` is None. will use random actions instead.\n"
     ]
    }
   ],
   "source": [
    "data=AsyncExperienceSourceDataBunch.from_env('CartPole-v1',data_exp=False,display=False,firstlast=True,add_valid=False,n_processes=2,n_envs=2)\n",
    "model=nn.Sequential(nn.Linear(4,5),nn.ReLU(),nn.Linear(5,2))\n",
    "agent=DQNAgent(model=model)\n",
    "learn=AgentLearner(data,model,agent=agent,callback_fns=[FakeRunCallback])\n",
    "setattr(learn,'fitter',dqn_grad_fitter)\n",
    "learn.fit(1,lr=0.01,wd=1)"
   ]
  },
  {
   "cell_type": "code",
   "execution_count": null,
   "metadata": {},
   "outputs": [
    {
     "data": {
      "text/html": [
       "<table border=\"1\" class=\"dataframe\">\n",
       "  <thead>\n",
       "    <tr style=\"text-align: left;\">\n",
       "      <th>epoch</th>\n",
       "      <th>train_loss</th>\n",
       "      <th>valid_loss</th>\n",
       "      <th>time</th>\n",
       "    </tr>\n",
       "  </thead>\n",
       "  <tbody>\n",
       "    <tr>\n",
       "      <td>0</td>\n",
       "      <td>0.500000</td>\n",
       "      <td>#na#</td>\n",
       "      <td>00:00</td>\n",
       "    </tr>\n",
       "  </tbody>\n",
       "</table>"
      ],
      "text/plain": [
       "<IPython.core.display.HTML object>"
      ]
     },
     "metadata": {},
     "output_type": "display_data"
    },
    {
     "name": "stderr",
     "output_type": "stream",
     "text": [
      "[07-25 18:39:29] p186 line:15 INFO - Starting Process\n",
      "[07-25 18:39:29] p186 line:15 INFO - Starting Process\n",
      "[07-25 18:39:29] p5539 line:35 WARNING - `self.learn` is None. will use random actions instead.\n",
      "[07-25 18:39:29] p5542 line:35 WARNING - `self.learn` is None. will use random actions instead.\n"
     ]
    }
   ],
   "source": [
    "data=AsyncExperienceSourceDataBunch.from_env('CartPole-v1',display=False,firstlast=True,add_valid=False,max_steps=50,n_processes=2,n_envs=2)\n",
    "model=nn.Sequential(nn.Linear(4,5),nn.ReLU(),nn.Linear(5,2))\n",
    "agent=DQNAgent(model=model)\n",
    "learn=AgentLearner(data,model,agent=agent,callback_fns=[FakeRunCallback])\n",
    "setattr(learn,'fitter',dqn_fitter)\n",
    "learn.fit(1,lr=0.01,wd=1)"
   ]
  },
  {
   "cell_type": "code",
   "execution_count": null,
   "metadata": {},
   "outputs": [
    {
     "data": {
      "text/html": [
       "\n",
       "    <div>\n",
       "        <style>\n",
       "            /* Turns off some styling */\n",
       "            progress {\n",
       "                /* gets rid of default border in Firefox and Opera. */\n",
       "                border: none;\n",
       "                /* Needs to be in here for Safari polyfill so background images work as expected. */\n",
       "                background-size: auto;\n",
       "            }\n",
       "            .progress-bar-interrupted, .progress-bar-interrupted::-webkit-progress-bar {\n",
       "                background: #F44336;\n",
       "            }\n",
       "        </style>\n",
       "      <progress value='0' class='' max='1' style='width:300px; height:20px; vertical-align: middle;'></progress>\n",
       "      0.00% [0/1 00:00<00:00]\n",
       "    </div>\n",
       "    \n",
       "<table border=\"1\" class=\"dataframe\">\n",
       "  <thead>\n",
       "    <tr style=\"text-align: left;\">\n",
       "      <th>epoch</th>\n",
       "      <th>train_loss</th>\n",
       "      <th>valid_loss</th>\n",
       "      <th>time</th>\n",
       "    </tr>\n",
       "  </thead>\n",
       "  <tbody>\n",
       "  </tbody>\n",
       "</table><p>\n",
       "\n",
       "    <div>\n",
       "        <style>\n",
       "            /* Turns off some styling */\n",
       "            progress {\n",
       "                /* gets rid of default border in Firefox and Opera. */\n",
       "                border: none;\n",
       "                /* Needs to be in here for Safari polyfill so background images work as expected. */\n",
       "                background-size: auto;\n",
       "            }\n",
       "            .progress-bar-interrupted, .progress-bar-interrupted::-webkit-progress-bar {\n",
       "                background: #F44336;\n",
       "            }\n",
       "        </style>\n",
       "      <progress value='0' class='' max='25' style='width:300px; height:20px; vertical-align: middle;'></progress>\n",
       "      0.00% [0/25 00:00<00:00]\n",
       "    </div>\n",
       "    "
      ],
      "text/plain": [
       "<IPython.core.display.HTML object>"
      ]
     },
     "metadata": {},
     "output_type": "display_data"
    },
    {
     "name": "stderr",
     "output_type": "stream",
     "text": [
      "[07-25 18:39:29] p186 line:15 INFO - Starting Process\n",
      "[07-25 18:39:29] p186 line:15 INFO - Starting Process\n",
      "[07-25 18:39:29] p5547 line:35 WARNING - `self.learn` is None. will use random actions instead.\n"
     ]
    }
   ],
   "source": [
    "import pytest\n",
    "data=AsyncExperienceSourceDataBunch.from_env('CartPole-v1',display=False,firstlast=True,add_valid=False,max_steps=50,n_processes=2,n_envs=2)\n",
    "model=nn.Sequential(nn.Linear(4,5),nn.ReLU(),nn.Linear(5,2))\n",
    "agent=DQNAgent(model=model)\n",
    "learn=AgentLearner(data,model,agent=agent,callback_fns=[FakeRunCallback])\n",
    "setattr(learn,'fitter',buggy_dqn_fitter)\n",
    "with pytest.raises(TypeError):\n",
    "    learn.fit(1,lr=0.01,wd=1)"
   ]
  },
  {
   "cell_type": "code",
   "execution_count": null,
   "metadata": {},
   "outputs": [
    {
     "data": {
      "text/html": [
       "<table border=\"1\" class=\"dataframe\">\n",
       "  <thead>\n",
       "    <tr style=\"text-align: left;\">\n",
       "      <th>epoch</th>\n",
       "      <th>train_loss</th>\n",
       "      <th>valid_loss</th>\n",
       "      <th>time</th>\n",
       "    </tr>\n",
       "  </thead>\n",
       "  <tbody>\n",
       "    <tr>\n",
       "      <td>0</td>\n",
       "      <td>0.500000</td>\n",
       "      <td>#na#</td>\n",
       "      <td>00:00</td>\n",
       "    </tr>\n",
       "  </tbody>\n",
       "</table>"
      ],
      "text/plain": [
       "<IPython.core.display.HTML object>"
      ]
     },
     "metadata": {},
     "output_type": "display_data"
    },
    {
     "name": "stderr",
     "output_type": "stream",
     "text": [
      "[07-25 18:39:29] p186 line:15 INFO - Starting Process\n",
      "[07-25 18:39:29] p186 line:15 INFO - Starting Process\n",
      "[07-25 18:39:29] p5553 line:35 WARNING - `self.learn` is None. will use random actions instead.\n",
      "[07-25 18:39:29] p5556 line:35 WARNING - `self.learn` is None. will use random actions instead.\n"
     ]
    }
   ],
   "source": [
    "data=AsyncExperienceSourceDataBunch.from_env('CartPole-v1',display=False,firstlast=True,add_valid=False,max_steps=50,n_processes=2,n_envs=2)\n",
    "model=nn.Sequential(nn.Linear(4,5),nn.ReLU(),nn.Linear(5,2))\n",
    "agent=DQNAgent(model=model)\n",
    "learn=AgentLearner(data,model,agent=agent,callback_fns=[FakeRunCallback])\n",
    "setattr(learn,'fitter',dqn_fitter)\n",
    "learn.fit(1,lr=0.01,wd=1)"
   ]
  },
  {
   "cell_type": "code",
   "execution_count": null,
   "metadata": {},
   "outputs": [],
   "source": [
    "data=AsyncExperienceSourceDataBunch.from_env('CartPole-v1',n_envs=5,display=False,max_steps=50,firstlast=False,add_valid=False)\n",
    "for xb,yb in data.train_dl:\n",
    "    test_eq(len(xb),1)\n",
    "    test_eq(tuple(xb[0].shape),(5,4))"
   ]
  },
  {
   "cell_type": "code",
   "execution_count": null,
   "metadata": {},
   "outputs": [
    {
     "name": "stdout",
     "output_type": "stream",
     "text": [
      "Converted 00_core.ipynb.\n",
      "Converted 01_wrappers.ipynb.\n",
      "Converted 02_callbacks.ipynb.\n",
      "Converted 03_basic_agents.ipynb.\n",
      "Converted 04_metrics.ipynb.\n",
      "Converted 05_data_block.ipynb.\n",
      "Converted 06_basic_train.ipynb.\n",
      "Converted 12_a3c.a3c_data.ipynb.\n",
      "Converted index.ipynb.\n",
      "Converted notes.ipynb.\n",
      "converting: /opt/project/fastrl/nbs/12_a3c.a3c_data.ipynb\n",
      "converting: /opt/project/fastrl/nbs/01_wrappers.ipynb\n"
     ]
    }
   ],
   "source": [
    "# hide\n",
    "from nbdev.export import *\n",
    "notebook2script()\n",
    "notebook2html(n_workers=0)"
   ]
  },
  {
   "cell_type": "code",
   "execution_count": null,
   "metadata": {},
   "outputs": [],
   "source": []
  }
 ],
 "metadata": {
  "kernelspec": {
   "display_name": "Python 3",
   "language": "python",
   "name": "python3"
  }
 },
 "nbformat": 4,
 "nbformat_minor": 4
}
