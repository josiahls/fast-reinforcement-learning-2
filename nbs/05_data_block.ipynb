{
 "cells": [
  {
   "cell_type": "code",
   "execution_count": null,
   "metadata": {},
   "outputs": [],
   "source": [
    "# default_exp data_block\n",
    "%load_ext autoreload\n",
    "%autoreload 2"
   ]
  },
  {
   "cell_type": "code",
   "execution_count": null,
   "metadata": {},
   "outputs": [],
   "source": [
    "# hide\n",
    "from nbdev.showdoc import *\n",
    "from nbdev.imports import *\n",
    "from nbdev.export2html import *\n",
    "if not os.environ.get(\"IN_TEST\", None):\n",
    "    assert IN_NOTEBOOK\n",
    "    assert not IN_COLAB\n",
    "    assert IN_IPYTHON"
   ]
  },
  {
   "cell_type": "markdown",
   "metadata": {},
   "source": [
    "# Data Block\n",
    "\n",
    "> Primary handlers for interfacing the openai gym envs"
   ]
  },
  {
   "cell_type": "code",
   "execution_count": null,
   "metadata": {},
   "outputs": [],
   "source": [
    "# export\n",
    "from fastai.basic_data import *\n",
    "from fastai.basic_train import *\n",
    "from fastai.torch_core import *\n",
    "from fastai.callbacks import *\n",
    "from fastrl.wrappers import *\n",
    "from fastrl.basic_agents import *\n",
    "from dataclasses import asdict\n",
    "from functools import partial\n",
    "from fastprogress.fastprogress import IN_NOTEBOOK\n",
    "from fastcore.utils import *\n",
    "import torch.multiprocessing as mp\n",
    "from queue import Empty\n",
    "import textwrap\n",
    "import logging\n",
    "import gym\n",
    "\n",
    "logging.basicConfig(format='[%(asctime)s] p%(process)s line:%(lineno)d %(levelname)s - %(message)s',\n",
    "                    datefmt='%m-%d %H:%M:%S')\n",
    "_logger=logging.getLogger(__name__)"
   ]
  },
  {
   "cell_type": "code",
   "execution_count": null,
   "metadata": {},
   "outputs": [],
   "source": [
    "# hide\n",
    "_logger.setLevel('INFO')\n",
    "from fastcore.foundation import *\n",
    "import sys"
   ]
  },
  {
   "cell_type": "markdown",
   "metadata": {},
   "source": [
    "## Dataset\n",
    "\n",
    "`Dataset` instances are going to be a little different from the typically classification dataset that you might use in pytorch. Commonly, datasets have:\n",
    "- A known size to iter through\n",
    "- Maintain their state during the training sequence\n",
    "- Randomly sample their dataset\n",
    "- Have a common `x`/`y` or `input`/`target` data format\n",
    "\n",
    "For our `ExperienceSourceDataset`, most of this is going to be different. \n",
    "- We can have multiple sources (envs)\n",
    "\n",
    "You could think of a traditional dataset approach as being a mix of a `ExperienceSourceDataset` and a form of `ExperienceReplay`."
   ]
  },
  {
   "cell_type": "code",
   "execution_count": null,
   "metadata": {},
   "outputs": [],
   "source": [
    "# export\n",
    "def fix_s(x):\n",
    "    \"Flatten `x` to `(1,-1)` where `1` is the batch dim (B) unless **seems** to be an image e.g. has 3 dims (W,H,C), then it will attempt (B,W,H,C).\"\n",
    "    return (x if x.shape[0]==1 else \n",
    "            x.reshape(1,-1) if len(x.shape)==2 else\n",
    "            np.expand_dims(x,0))\n",
    "\n",
    "@dataclass\n",
    "class Experience(object):\n",
    "    s:np.array\n",
    "    sp:np.array\n",
    "    a:np.array\n",
    "    r:np.array\n",
    "    d:np.array\n",
    "    agent_s:np.array\n",
    "        \n",
    "    # TODO possibly have x,y for more generic experience integration with datasets.\n",
    "        \n",
    "#     def __post_init__(self):\n",
    "#         for k,v in asdict(self).items():\n",
    "#             setattr(self,k,fix_s(v) if k in ['s','sp'] else np.array(v,dtype=float).reshape(1,-1))"
   ]
  },
  {
   "cell_type": "code",
   "execution_count": null,
   "metadata": {},
   "outputs": [
    {
     "data": {
      "text/plain": [
       "{'s': array([[2, 1, 2, 2, 1],\n",
       "        [2, 1, 2, 2, 2],\n",
       "        [2, 2, 2, 1, 1],\n",
       "        [2, 1, 2, 2, 1],\n",
       "        [1, 1, 1, 2, 2]]),\n",
       " 'sp': array([[1, 1, 1, 1, 2],\n",
       "        [1, 2, 1, 1, 2],\n",
       "        [2, 1, 1, 2, 2],\n",
       "        [2, 1, 2, 1, 1],\n",
       "        [2, 2, 2, 1, 2]]),\n",
       " 'a': array([[2, 1]]),\n",
       " 'r': array([[2, 2, 2, 1, 2, 2, 2, 2, 1, 1, 2, 2, 1, 1, 1, 2, 2, 2, 1, 1]]),\n",
       " 'd': array([[0, 0, 0, 0, 0],\n",
       "        [0, 0, 0, 0, 0],\n",
       "        [0, 0, 0, 0, 0],\n",
       "        [0, 0, 0, 0, 0],\n",
       "        [0, 0, 0, 0, 0]]),\n",
       " 'agent_s': array([[4, 4, 2, 2, 1]])}"
      ]
     },
     "execution_count": null,
     "metadata": {},
     "output_type": "execute_result"
    }
   ],
   "source": [
    "exp=Experience(s=np.random.randint(1,3,(5,5)),\n",
    "               sp=np.random.randint(1,3,(5,5)),\n",
    "               a=np.random.randint(1,3,(1,2)),\n",
    "               r=np.random.randint(1,3,(1,20)),\n",
    "               d=np.random.randint(0,1,(5,5)),\n",
    "               agent_s=np.random.randint(0,6,(1,5)))\n",
    "asdict(exp)"
   ]
  },
  {
   "cell_type": "markdown",
   "metadata": {},
   "source": [
    "## Datasets"
   ]
  },
  {
   "cell_type": "code",
   "execution_count": null,
   "metadata": {},
   "outputs": [],
   "source": [
    "# export\n",
    "class ExperienceSourceCallback(LearnerCallback):\n",
    "    def on_train_begin(self,*args,**kwargs):\n",
    "        self.learn.data.train_dl.dataset.learn=self.learn\n",
    "        if not self.learn.data.empty_val:\n",
    "            self.learn.data.valid_dl.dataset.learn=self.learn\n",
    "\n",
    "class ExperienceSourceDataset(Dataset):\n",
    "    \"Similar to fastai's `LabelList`, iters in-order samples from `1->len(envs)` `envs`.\"\n",
    "    def __init__(self,env:str,n_envs=1,steps=1,max_episode_step=None,pixels=False):\n",
    "        def make_env():\n",
    "            env=gym.make(\"CartPole-v1\")\n",
    "            if pixels:env.reset()\n",
    "            return env\n",
    "            \n",
    "        self.envs=[make_env() for _ in range(n_envs)]\n",
    "        if pixels:self.envs=[PixelObservationWrapper(e) for e in self.envs]\n",
    "        self.steps=steps\n",
    "        self.max_episode_step=max_episode_step\n",
    "        self.d=np.zeros((len(self.envs),))+1\n",
    "        self.s=np.zeros((len(self.envs),*self.envs[0].observation_space.sample().shape))\n",
    "        self.iterations=np.zeros((len(self.envs)))\n",
    "        self.total_r=[]\n",
    "        self.total_steps=[]\n",
    "        self.learn=None\n",
    "        self._warned=False\n",
    "        self.callback_fns=[ExperienceSourceCallback]\n",
    "        self.inc=0\n",
    "        \n",
    "    def __len__(self): return ifnone(self.max_episode_step,self.envs[0].spec.max_episode_steps)*len(self.envs)\n",
    "    \n",
    "    def get_action(self,idx):\n",
    "        if self.learn is None:\n",
    "            if not self._warned:_logger.warning('`self.learn` is None. will use random actions instead.')\n",
    "            self._warned=True\n",
    "            return self.envs[0].action_space.sample(),np.zeros((1,1))\n",
    "        return self.learn.predict(self.s[idx])\n",
    "    \n",
    "    @log_args\n",
    "    def __getitem__(self,_):\n",
    "        idx=self.inc\n",
    "        _logger.debug('Idx:%s,Iter:%s',idx,self.iterations[idx])\n",
    "        if idx==0 and self.iterations[idx]==0:\n",
    "            for i,e in enumerate(self.envs): self.s[i]=e.reset() # There is the possiblity this will equal None (and crash)?\n",
    "            self.iterations=np.zeros((len(self.envs)),dtype=int)\n",
    "        \n",
    "        exps:List[Experience]=[]\n",
    "        while True:\n",
    "            a,agent_s=self.get_action(idx)\n",
    "            sp,r,self.d[idx],_=self.envs[idx].step(a)\n",
    "            self.total_r.append(r)\n",
    "            self.total_steps.append(self.iterations[idx])\n",
    "            exps.append(Experience(self.s[idx],sp,a,r,self.d[idx],agent_s=ifnone(agent_s,[])))\n",
    "            self.s[idx]=sp\n",
    "            self.iterations[idx]+=1\n",
    "            if self.d[idx] or self.iterations[idx]>=len(self)-1:\n",
    "                self.iterations[idx]=0\n",
    "                if self.inc>=len(self.envs)-1:self.inc=0\n",
    "                else:                       self.inc+=1\n",
    "                if idx>=len(self.envs)-1:raise StopIteration()\n",
    "                break\n",
    "            if len(exps)%self.steps==0:\n",
    "                break\n",
    "        return [e.s for e in exps],[asdict(e) for e in exps]"
   ]
  },
  {
   "cell_type": "code",
   "execution_count": null,
   "metadata": {},
   "outputs": [
    {
     "name": "stderr",
     "output_type": "stream",
     "text": [
      "[07-13 21:10:57] p4706 line:34 WARNING - `self.learn` is None. will use random actions instead.\n",
      "[07-13 21:10:57] p4706 line:6 CRITICAL - xb: torch.Size([6, 4]), yb: dict_keys(['s', 'sp', 'a', 'r', 'd', 'agent_s'])\n",
      "[07-13 21:10:57] p4706 line:6 CRITICAL - xb: torch.Size([15, 4]), yb: dict_keys(['s', 'sp', 'a', 'r', 'd', 'agent_s'])\n",
      "[07-13 21:10:57] p4706 line:6 CRITICAL - xb: torch.Size([9, 4]), yb: dict_keys(['s', 'sp', 'a', 'r', 'd', 'agent_s'])\n",
      "[07-13 21:10:57] p4706 line:34 WARNING - `self.learn` is None. will use random actions instead.\n",
      "[07-13 21:10:57] p4706 line:16 CRITICAL - xb: torch.Size([25, 4]), yb: dict_keys(['s', 'sp', 'a', 'r', 'd', 'agent_s'])\n",
      "[07-13 21:10:57] p4706 line:16 CRITICAL - xb: torch.Size([5, 4]), yb: dict_keys(['s', 'sp', 'a', 'r', 'd', 'agent_s'])\n",
      "[07-13 21:10:57] p4706 line:16 CRITICAL - xb: torch.Size([15, 4]), yb: dict_keys(['s', 'sp', 'a', 'r', 'd', 'agent_s'])\n",
      "[07-13 21:10:57] p4706 line:16 CRITICAL - xb: torch.Size([15, 4]), yb: dict_keys(['s', 'sp', 'a', 'r', 'd', 'agent_s'])\n"
     ]
    }
   ],
   "source": [
    "import sys\n",
    "# make_env = lambda: gym.make(\"Acrobot-v1\")\n",
    "ds=ExperienceSourceDataset(\"CartPole-v1\",n_envs=3,max_episode_step=50,steps=5)\n",
    "dl=DataLoader(ds,batch_size=3,num_workers=0)\n",
    "for xb,yb in dl:\n",
    "    _logger.critical('xb: %s, yb: %s',torch.cat(xb).shape,yb[0].keys())\n",
    "    assert torch.cat(xb).shape[0]<=5*3\n",
    "    sys.stdout.flush()\n",
    "    \n",
    "# make_env = lambda: gym.make(\"Acrobot-v1\")\n",
    "make_env = lambda: gym.make(\"CartPole-v1\")\n",
    "envs=[make_env() for _ in range(5)]\n",
    "ds=ExperienceSourceDataset(\"CartPole-v1\",n_envs=5,max_episode_step=50,steps=5)\n",
    "dl=DataLoader(ds,batch_size=5,num_workers=0)\n",
    "for xb,yb in dl:\n",
    "    _logger.critical('xb: %s, yb: %s',torch.cat(xb).shape,yb[0].keys())\n",
    "    assert torch.cat(xb).shape[0]<=5*5\n",
    "    sys.stdout.flush()"
   ]
  },
  {
   "cell_type": "code",
   "execution_count": null,
   "metadata": {},
   "outputs": [
    {
     "name": "stderr",
     "output_type": "stream",
     "text": [
      "[07-13 21:12:57] p4706 line:34 WARNING - `self.learn` is None. will use random actions instead.\n",
      "[07-13 21:12:57] p4706 line:4 CRITICAL - xb: torch.Size([15, 400, 600, 3]), yb: dict_keys(['s', 'sp', 'a', 'r', 'd', 'agent_s'])\n",
      "[07-13 21:12:57] p4706 line:4 CRITICAL - xb: torch.Size([6, 400, 600, 3]), yb: dict_keys(['s', 'sp', 'a', 'r', 'd', 'agent_s'])\n",
      "[07-13 21:12:57] p4706 line:4 CRITICAL - xb: torch.Size([15, 400, 600, 3]), yb: dict_keys(['s', 'sp', 'a', 'r', 'd', 'agent_s'])\n",
      "[07-13 21:12:57] p4706 line:4 CRITICAL - xb: torch.Size([15, 400, 600, 3]), yb: dict_keys(['s', 'sp', 'a', 'r', 'd', 'agent_s'])\n",
      "[07-13 21:12:58] p4706 line:4 CRITICAL - xb: torch.Size([15, 400, 600, 3]), yb: dict_keys(['s', 'sp', 'a', 'r', 'd', 'agent_s'])\n"
     ]
    }
   ],
   "source": [
    "ds=ExperienceSourceDataset('CartPole-v1',n_envs=3,max_episode_step=50,steps=5,pixels=True)\n",
    "dl=DataLoader(ds,batch_size=3,num_workers=0)\n",
    "for xb,yb in dl:\n",
    "    _logger.critical('xb: %s, yb: %s',torch.cat(xb).shape,yb[0].keys())\n",
    "    assert torch.cat(xb).shape[0]<=5*3\n",
    "    sys.stdout.flush()"
   ]
  },
  {
   "cell_type": "code",
   "execution_count": null,
   "metadata": {},
   "outputs": [],
   "source": [
    "# export\n",
    "class FirstLastExperienceSourceDataset(ExperienceSourceDataset):\n",
    "    \"Similar to `ExperienceSourceDataset` but only keeps the first and last parts of a step. Can be seen as frame skipping.\"\n",
    "    @log_args\n",
    "    def __getitem__(self,idx):\n",
    "        s,exps=super(FirstLastExperienceSourceDataset,self).__getitem__(idx)\n",
    "        exp=exps[-1]\n",
    "        exp['s']=exps[0]['s']\n",
    "        return [exps[0]['s']],[exp]"
   ]
  },
  {
   "cell_type": "code",
   "execution_count": null,
   "metadata": {},
   "outputs": [
    {
     "name": "stderr",
     "output_type": "stream",
     "text": [
      "[07-13 21:13:22] p4706 line:34 WARNING - `self.learn` is None. will use random actions instead.\n",
      "[07-13 21:13:22] p4706 line:5 CRITICAL - xb: torch.Size([3, 4]), yb: dict_keys(['s', 'sp', 'a', 'r', 'd', 'agent_s'])\n",
      "[07-13 21:13:22] p4706 line:5 CRITICAL - xb: torch.Size([3, 4]), yb: dict_keys(['s', 'sp', 'a', 'r', 'd', 'agent_s'])\n",
      "[07-13 21:13:22] p4706 line:5 CRITICAL - xb: torch.Size([3, 4]), yb: dict_keys(['s', 'sp', 'a', 'r', 'd', 'agent_s'])\n",
      "[07-13 21:13:22] p4706 line:5 CRITICAL - xb: torch.Size([3, 4]), yb: dict_keys(['s', 'sp', 'a', 'r', 'd', 'agent_s'])\n"
     ]
    }
   ],
   "source": [
    "ds=FirstLastExperienceSourceDataset(\"CartPole-v1\",n_envs=3,max_episode_step=50,steps=5)\n",
    "dl=DataLoader(ds,batch_size=3,num_workers=0)\n",
    "index=0\n",
    "for xb,yb in dl:\n",
    "    _logger.critical('xb: %s, yb: %s',torch.cat(xb).shape,yb[0].keys())\n",
    "    assert torch.cat(xb).shape[0]<=3\n",
    "    sys.stdout.flush()\n",
    "    index+=1"
   ]
  },
  {
   "cell_type": "code",
   "execution_count": null,
   "metadata": {},
   "outputs": [],
   "source": [
    "# export\n",
    "class AsyncExperienceSourceCallback(LearnerCallback):\n",
    "    _order = -11\n",
    "    \n",
    "    def on_epoch_begin(self,**kwargs):\n",
    "        ds=(self.learn.data.train_ds if self.learn.model.training or self.learn.data.empty_val else\n",
    "            self.learn.data.valid_ds)\n",
    "        if not self.learn.data.empty_val:ds.pause_event.clear()\n",
    "\n",
    "        if len(ds.data_proc_list)==0:\n",
    "            if not hasattr(self.learn,'fitter'):\n",
    "                _logger.warning('Using the default fitter function which will likely not work. Make sure your `AgentLearner` has a `fitter` attribute to actually run/train.')\n",
    "            \n",
    "            for proc_idx in range(ds.n_processes):\n",
    "                data_proc=self.load_process()\n",
    "                data_proc.start()\n",
    "                ds.data_proc_list.append(data_proc)\n",
    "                \n",
    "    def load_process(self):raise NotImplementedError()\n",
    "    def empty_queues(self):raise NotImplementedError()\n",
    "\n",
    "    def on_batch_end(self,**kwargs):\n",
    "        # If not training, pause train ds, otherwise pause valid ds\n",
    "        ds=(self.learn.data.train_ds if not self.learn.model.training or self.learn.data.empty_val else\n",
    "            self.learn.data.valid_ds)\n",
    "        if not self.learn.data.empty_val:ds.pause_event.set()\n",
    "    \n",
    "    def on_train_end(self,**kwargs):\n",
    "        for ds in [self.learn.data.train_ds,None if self.learn.data.empty_val else self.learn.data.valid_ds]:\n",
    "            if ds is None: continue\n",
    "            ds.cancel_event.set()\n",
    "            self.empty_queues()\n",
    "            for proc in ds.data_proc_list: proc.join()\n",
    "                \n",
    "class AsyncGradExperienceSourceCallback(AsyncExperienceSourceCallback):\n",
    "    def load_process(self):\n",
    "        ds=(self.learn.data.train_ds if self.learn.model.training or self.learn.data.empty_val else\n",
    "            self.learn.data.valid_ds)\n",
    "        return mp.Process(target=getattr(self.learn,'fitter',grad_fitter), \n",
    "                          args=(self.learn.model,self.learn.agent,ds.ds_cls,\n",
    "                                ds.grad_queue,ds.loss_queue,ds.pause_event,ds.cancel_event))\n",
    "    def empty_queues(self):\n",
    "        ds=(self.learn.data.train_ds if self.learn.model.training or self.learn.data.empty_val else\n",
    "            self.learn.data.valid_ds)\n",
    "        while not ds.grad_queue.empty(): ds.grad_queue.get()\n",
    "        while not ds.loss_queue.empty(): ds.loss_queue.get()\n",
    "\n",
    "class AsyncDataExperienceSourceCallback(AsyncExperienceSourceCallback):\n",
    "    def load_process(self):\n",
    "        ds=(self.learn.data.train_ds if self.learn.model.training or self.learn.data.empty_val else\n",
    "            self.learn.data.valid_ds)\n",
    "        return mp.Process(target=getattr(self.learn,'fitter',data_fitter), \n",
    "                          args=(self.learn.model,self.learn.agent,ds.ds_cls,\n",
    "                                ds.data_queue,ds.pause_event,ds.cancel_event))\n",
    "    def empty_queues(self):\n",
    "        ds=(self.learn.data.train_ds if self.learn.model.training or self.learn.data.empty_val else\n",
    "            self.learn.data.valid_ds)\n",
    "        while not ds.data_queue.empty():ds.data_queue.get()"
   ]
  },
  {
   "cell_type": "code",
   "execution_count": null,
   "metadata": {},
   "outputs": [],
   "source": [
    "# export\n",
    "def grad_fitter(model:nn.Module,agent:BaseAgent,ds:ExperienceSourceDataset,grad_queue:mp.JoinableQueue,\n",
    "                loss_queue:mp.JoinableQueue,pause_event:mp.Event,cancel_event:mp.Event):\n",
    "    \"Updates a `train_queue` with `model.parameters()` and `loss_queue` with the loss. Note that this is only an example grad_fitter.\"\n",
    "    while not cancel_event.is_set(): # We are expecting the  grad_fitter to loop unless cancel_event is set\n",
    "        grad_queue.put(None)         # Adding `None` to `train_queue` will trigger an eventual ending of training\n",
    "        loss_queue.put(None)\n",
    "        if pause_event.is_set():     # There needs to be the ability for the grad_fitter to pause e.g. if waiting for validation to end.\n",
    "            cancel_event.wait(0.1)   # Using cancel_event to wait allows the main process to end this Process.\n",
    "\n",
    "def data_fitter(model:nn.Module,agent:BaseAgent,ds:ExperienceSourceDataset,data_queue:mp.JoinableQueue,\n",
    "                pause_event:mp.Event,cancel_event:mp.Event):\n",
    "    _logger.warning('Using the `test_fitter` function. Make sure your `AgentLearner` has a `grad_fitter` to actually run/train.')\n",
    "    while not cancel_event.is_set(): # We are expecting the  grad_fitter to loop unless cancel_event is set\n",
    "        data_queue.put(None)         # Adding `None` to `train_queue` will trigger an eventual ending of training\n",
    "        if pause_event.is_set():     # There needs to be the ability for the grad_fitter to pause e.g. if waiting for validation to end.\n",
    "            cancel_event.wait(0.1)   # Using cancel_event to wait allows the main process to end this Process.     \n",
    "            \n",
    "def _soft_queue_get(q:mp.Queue,e:mp.Event):\n",
    "    entry=None\n",
    "    while entry is None and e.is_set():\n",
    "        try:\n",
    "            entry=q.get_nowait()\n",
    "        except Empty:pass\n",
    "    return entry\n",
    "            \n",
    "class AsyncGradExperienceSourceDataset(ExperienceSourceDataset):\n",
    "    \"Contains dataloaders of multiple sub-datasets and executes them using `n_processes`. `xb` is the gradients from the agents, `yb` is the loss.\"\n",
    "    def __init__(self,env_name:str,n_envs=1,ds_cls=ExperienceSourceDataset,max_episode_step=None,n_processes=1,*args,**kwargs):\n",
    "        self.n_processes=n_processes\n",
    "        self.n_envs=n_envs\n",
    "        self.env_name=env_name\n",
    "        self.ds_cls=ds_cls\n",
    "        self.pause_event=mp.Event()                               # If the event is set, then the Process will freeze.\n",
    "        self.cancel_event=mp.Event()                              # If the event is set, then the Process will freeze.\n",
    "        self.max_episode_step=max_episode_step\n",
    "        self.grad_queue=mp.JoinableQueue(maxsize=self.n_processes)\n",
    "        self.loss_queue=mp.JoinableQueue(maxsize=self.n_processes)\n",
    "        self.data_proc_list=[]\n",
    "        self.callback_fns=[AsyncGradExperienceSourceCallback]\n",
    "        self._env=gym.make(self.env_name)\n",
    "    \n",
    "    def __len__(self): return ifnone(self.max_episode_step,self._env.spec.max_episode_steps)*self.n_envs\n",
    "    \n",
    "        \n",
    "    def __getitem__(self,idx):\n",
    "        if len(self.data_proc_list)==0: raise StopIteration()\n",
    "        train_entry=_soft_queue_get(self.grad_queue,self.cancel_event)\n",
    "\n",
    "        if train_entry is None:\n",
    "            raise StopIteration()\n",
    "        \n",
    "        train_loss_entry=_soft_queue_get(self.loss_queue,self.cancel_event)\n",
    "        return train_entry,[train_loss_entry]     \n",
    "    \n",
    "class AsyncDataExperienceSourceDataset(ExperienceSourceDataset):\n",
    "    \"Contains dataloaders of multiple sub-datasets and executes them using `n_processes`. `xb` is the gradients from the agents, `yb` is the loss.\"\n",
    "    def __init__(self,env_name:str,n_envs=1,ds_cls=ExperienceSourceDataset,max_episode_step=None,n_processes=1,*args,**kwargs):\n",
    "        self.n_processes=n_processes\n",
    "        self.n_envs=n_envs\n",
    "        self.ds_cls=ds_cls\n",
    "        self.env_name=env_name\n",
    "        self.pause_event=mp.Event()                               # If the event is set, then the Process will freeze.\n",
    "        self.cancel_event=mp.Event()                              # If the event is set, then the Process will freeze.\n",
    "        self.max_episode_step=max_episode_step\n",
    "        self.data_queue=mp.JoinableQueue(maxsize=self.n_processes)\n",
    "        self.data_proc_list=[]\n",
    "        self.callback_fns=[AsyncDataExperienceSourceCallback]\n",
    "        self._env=gym.make(self.env_name)\n",
    "        \n",
    "    def __len__(self): return ifnone(self.max_episode_step,self._env.spec.max_episode_steps)*self.n_envs\n",
    "        \n",
    "    def __getitem__(self,idx):\n",
    "        print(len(self.data_proc_list))\n",
    "        if len(self.data_proc_list)==0: raise StopIteration()\n",
    "        train_entry=_soft_queue_get(self.data_queue,self.cancel_event)\n",
    "        print(train_entry)\n",
    "\n",
    "        if train_entry is None:\n",
    "            raise StopIteration()\n",
    "\n",
    "        return [s for s in train_entry.s],[asdict(e) for e in train_entry] "
   ]
  },
  {
   "cell_type": "code",
   "execution_count": null,
   "metadata": {},
   "outputs": [],
   "source": [
    "add_docs(AsyncGradExperienceSourceDataset,\n",
    "         __init__=textwrap.fill(\"\"\"The `AsyncGradExperienceSourceDataset` class is instantiated via passing \n",
    "         the `env_name` that we want to train on, and a `partial` class of a `ExperienceSourceDataset` called `ds_cls`.\"\"\"))"
   ]
  },
  {
   "cell_type": "markdown",
   "metadata": {},
   "source": [
    "## Dataset Shower\n",
    "We can define a wrapper around a dataset which will show up to `rows * cols` environments."
   ]
  },
  {
   "cell_type": "code",
   "execution_count": null,
   "metadata": {},
   "outputs": [],
   "source": [
    "# export\n",
    "if IN_NOTEBOOK:\n",
    "    from IPython import display\n",
    "    import PIL.Image"
   ]
  },
  {
   "cell_type": "code",
   "execution_count": null,
   "metadata": {},
   "outputs": [],
   "source": [
    "%matplotlib inline"
   ]
  },
  {
   "cell_type": "code",
   "execution_count": null,
   "metadata": {},
   "outputs": [],
   "source": [
    "# export\n",
    "class DatasetDisplayWrapper(object):\n",
    "    def __init__(self,ds,rows=2,cols=2,max_w=800):\n",
    "        \"Wraps a ExperienceSourceDataset instance showing multiple envs in a `rows` by `cols` grid in a Jupyter notebook.\"\n",
    "        # Ref: https://stackoverflow.com/questions/1443129/completely-wrap-an-object-in-python\n",
    "        # We are basically Wrapping any instance of ExperienceSourceDataset (kind of cool right?)\n",
    "        assert issubclass(ds.__class__,(ExperienceSourceDataset,FirstLastExperienceSourceDataset)),'Currently this only works with the ExperienceSourceDataset class only.'\n",
    "        self.__class__ = type(ds.__class__.__name__,(self.__class__, ds.__class__),{})\n",
    "        self.__dict__=ds.__dict__\n",
    "        self.rows,self.cols,self.max_w=rows,cols,max_w\n",
    "        self.current_display=None\n",
    "        if not IN_NOTEBOOK: \n",
    "            _logger.warning('It seems you are not running in a notebook. Nothing is going to be displayed.')\n",
    "            return\n",
    "        \n",
    "        if self.envs[0].render('rgb_array') is None: self.envs[0].reset()\n",
    "        rdr=self.envs[0].render('rgb_array')\n",
    "        if rdr.shape[1]*self.cols>max_w:\n",
    "            _logger.warning('Max Width is %s but %s*%s is greater than. Decreasing the number of cols to %s, rows increase by %s',\n",
    "                            max_w,rdr.shape[1],self.cols,max_w%rdr.shape[1],max_w%rdr.shape[1])\n",
    "            self.cols=max_w%rdr.shape[1]\n",
    "            self.rows+=max_w%rdr.shape[1]\n",
    "\n",
    "        self.current_display=np.zeros(shape=(self.rows*rdr.shape[0],self.cols*rdr.shape[1],rdr.shape[2])).astype('uint8')\n",
    "        _logger.info('%s, %s, %s, %s, %s',0,0//self.cols,0%self.cols,rdr.shape,self.current_display.shape)\n",
    "\n",
    "    def __getitem__(self,idx):\n",
    "        o=super(DatasetDisplayWrapper,self).__getitem__(idx)\n",
    "        idx=idx%len(self.envs)\n",
    "        if self.current_display is not None and idx<self.rows*self.cols:\n",
    "            display.clear_output(wait=True)\n",
    "            im=self.envs[idx].render(mode='rgb_array')\n",
    "            self.current_display[(idx//self.cols)*im.shape[0]:(idx//self.cols)*im.shape[0]+im.shape[0],\n",
    "                                 (idx%self.cols)*im.shape[1]:(idx%self.cols)*im.shape[1]+im.shape[1],:]=im\n",
    "            new_im=PIL.Image.fromarray(self.current_display)\n",
    "            display.display(new_im)\n",
    "        else:\n",
    "            display.display(PIL.Image.fromarray(self.current_display))\n",
    "        return o"
   ]
  },
  {
   "cell_type": "markdown",
   "metadata": {},
   "source": [
    "## DataBunch"
   ]
  },
  {
   "cell_type": "code",
   "execution_count": null,
   "metadata": {},
   "outputs": [],
   "source": [
    "# export\n",
    "class ExperienceSourceDataBunch(DataBunch):\n",
    "    @classmethod\n",
    "    def from_env(cls,env:str,n_envs=1,firstlast=False,display=False,max_steps=None,skip_step=1,path:PathOrStr='.',add_valid=True,\n",
    "                 cols=1,rows=1,max_w=800):\n",
    "        def create_ds():\n",
    "            _ds_cls=FirstLastExperienceSourceDataset if firstlast else ExperienceSourceDataset\n",
    "            make_env = lambda: gym.make(env)\n",
    "            envs=[make_env() for _ in range(n_envs)]\n",
    "            _ds=_ds_cls(envs,max_episode_step=max_steps,steps=skip_step)\n",
    "            if display:_ds=DatasetDisplayWrapper(_ds,cols=cols,rows=rows,max_w=max_w)\n",
    "            return _ds\n",
    "            \n",
    "        dss=(create_ds(),create_ds() if add_valid else None)\n",
    "        return cls.create(*dss,bs=n_envs,num_workers=0)\n",
    "    \n",
    "    @classmethod\n",
    "    def create(cls, train_ds:Dataset, valid_ds:Dataset, test_ds:Optional[Dataset]=None, path:PathOrStr='.', bs:int=64,\n",
    "               val_bs:int=None, num_workers:int=defaults.cpus, dl_tfms:Optional[Collection[Callable]]=None,\n",
    "               device:torch.device=None, collate_fn:Callable=data_collate, no_check:bool=False, **dl_kwargs)->'DataBunch':\n",
    "        \"Create a `DataBunch` from `train_ds`, `valid_ds` and maybe `test_ds` with a batch size of `bs`. Passes `**dl_kwargs` to `DataLoader()`\"\n",
    "        datasets = cls._init_ds(train_ds, valid_ds, test_ds)\n",
    "        val_bs = ifnone(val_bs, bs)\n",
    "        dls = [DataLoader(d, b, shuffle=s, drop_last=s, num_workers=num_workers, **dl_kwargs) for d,b,s in\n",
    "               zip(datasets, (bs,val_bs,val_bs,val_bs), (False,False,False,False)) if d is not None]\n",
    "        return cls(*dls, path=path, device=device, dl_tfms=dl_tfms, collate_fn=collate_fn, no_check=no_check)"
   ]
  },
  {
   "cell_type": "code",
   "execution_count": null,
   "metadata": {},
   "outputs": [
    {
     "name": "stderr",
     "output_type": "stream",
     "text": [
      "[07-13 21:25:42] p4706 line:34 WARNING - `self.learn` is None. will use random actions instead.\n"
     ]
    }
   ],
   "source": [
    "data=ExperienceSourceDataBunch.from_env('CartPole-v1',n_envs=5,display=False,firstlast=False,add_valid=False)\n",
    "for xb,yb in data.train_dl:\n",
    "    test_eq(len(xb),1)\n",
    "    test_eq(tuple(xb[0].shape),(5,4))"
   ]
  },
  {
   "cell_type": "code",
   "execution_count": null,
   "metadata": {},
   "outputs": [
    {
     "name": "stderr",
     "output_type": "stream",
     "text": [
      "[07-13 21:25:42] p4706 line:34 WARNING - `self.learn` is None. will use random actions instead.\n"
     ]
    }
   ],
   "source": [
    "data=ExperienceSourceDataBunch.from_env('CartPole-v1',n_envs=5,display=False,firstlast=True,add_valid=False)\n",
    "for xb,yb in data.train_dl:\n",
    "    test_eq(len(xb),1)\n",
    "    test_eq(tuple(xb[0].shape),(5,4))"
   ]
  },
  {
   "cell_type": "code",
   "execution_count": null,
   "metadata": {},
   "outputs": [],
   "source": [
    "from fastrl.basic_train import *"
   ]
  },
  {
   "cell_type": "code",
   "execution_count": null,
   "metadata": {},
   "outputs": [],
   "source": [
    "# export\n",
    "class AsyncExperienceSourceDataBunch(ExperienceSourceDataBunch):\n",
    "    @classmethod\n",
    "    def from_env(cls,env:str,n_envs=1,data_exp=True,firstlast=False,display=False,max_steps=None,skip_step=1,path:PathOrStr='.',add_valid=True,\n",
    "                 cols=1,rows=1,max_w=800,n_processes=1):\n",
    "        def create_ds():\n",
    "            _sub_ds_cls=FirstLastExperienceSourceDataset if firstlast else ExperienceSourceDataset\n",
    "            _sub_ds_cls=partial(_sub_ds_cls,env=env,n_envs=1,max_episode_step=max_steps,steps=skip_step)\n",
    "            _ds_cls=AsyncDataExperienceSourceDataset if data_exp else AsyncGradExperienceSourceDataset\n",
    "            _ds=_ds_cls(env,max_episode_step=max_steps,steps=skip_step,ds_cls=_sub_ds_cls,n_processes=n_processes)\n",
    "            if display:_ds=DatasetDisplayWrapper(_ds,cols=cols,rows=rows,max_w=max_w)\n",
    "            return _ds\n",
    "            \n",
    "        dss=(create_ds(),create_ds() if add_valid else None)\n",
    "        return cls.create(*dss,bs=n_envs,num_workers=0)"
   ]
  },
  {
   "cell_type": "code",
   "execution_count": null,
   "metadata": {},
   "outputs": [],
   "source": [
    "def dqn_fitter(model:nn.Module,agent:BaseAgent,ds:ExperienceSourceDataset,data_queue:mp.JoinableQueue,\n",
    "                pause_event:mp.Event,cancel_event:mp.Event):\n",
    "    while not cancel_event.is_set(): \n",
    "        dataset=ds()\n",
    "        for xb,yb in dataset: \n",
    "            print('hello')\n",
    "            sys.stdout.flush()\n",
    "            data_queue.put(yb)        \n",
    "            if pause_event.is_set():    \n",
    "                cancel_event.wait(0.1)      "
   ]
  },
  {
   "cell_type": "code",
   "execution_count": null,
   "metadata": {},
   "outputs": [
    {
     "data": {
      "text/html": [
       "\n",
       "    <div>\n",
       "        <style>\n",
       "            /* Turns off some styling */\n",
       "            progress {\n",
       "                /* gets rid of default border in Firefox and Opera. */\n",
       "                border: none;\n",
       "                /* Needs to be in here for Safari polyfill so background images work as expected. */\n",
       "                background-size: auto;\n",
       "            }\n",
       "            .progress-bar-interrupted, .progress-bar-interrupted::-webkit-progress-bar {\n",
       "                background: #F44336;\n",
       "            }\n",
       "        </style>\n",
       "      <progress value='0' class='' max='10' style='width:300px; height:20px; vertical-align: middle;'></progress>\n",
       "      0.00% [0/10 00:00<00:00]\n",
       "    </div>\n",
       "    \n",
       "<table border=\"1\" class=\"dataframe\">\n",
       "  <thead>\n",
       "    <tr style=\"text-align: left;\">\n",
       "      <th>epoch</th>\n",
       "      <th>train_loss</th>\n",
       "      <th>valid_loss</th>\n",
       "      <th>time</th>\n",
       "    </tr>\n",
       "  </thead>\n",
       "  <tbody>\n",
       "  </tbody>\n",
       "</table><p>\n",
       "\n",
       "    <div>\n",
       "        <style>\n",
       "            /* Turns off some styling */\n",
       "            progress {\n",
       "                /* gets rid of default border in Firefox and Opera. */\n",
       "                border: none;\n",
       "                /* Needs to be in here for Safari polyfill so background images work as expected. */\n",
       "                background-size: auto;\n",
       "            }\n",
       "            .progress-bar-interrupted, .progress-bar-interrupted::-webkit-progress-bar {\n",
       "                background: #F44336;\n",
       "            }\n",
       "        </style>\n",
       "      <progress value='0' class='' max='500' style='width:300px; height:20px; vertical-align: middle;'></progress>\n",
       "      0.00% [0/500 00:00<00:00]\n",
       "    </div>\n",
       "    "
      ],
      "text/plain": [
       "<IPython.core.display.HTML object>"
      ]
     },
     "metadata": {},
     "output_type": "display_data"
    },
    {
     "name": "stderr",
     "output_type": "stream",
     "text": [
      "[07-13 21:28:00] p4706 line:12 WARNING - Using the default fitter function which will likely not work. Make sure your `AgentLearner` has a `fitter` attribute to actually run/train.\n"
     ]
    },
    {
     "name": "stdout",
     "output_type": "stream",
     "text": [
      "1\n",
      "None\n"
     ]
    },
    {
     "name": "stderr",
     "output_type": "stream",
     "text": [
      "[07-13 21:28:00] p4963 line:13 WARNING - Using the `test_fitter` function. Make sure your `AgentLearner` has a `grad_fitter` to actually run/train.\n"
     ]
    },
    {
     "name": "stdout",
     "output_type": "stream",
     "text": [
      "1\n",
      "None\n"
     ]
    },
    {
     "ename": "RuntimeError",
     "evalue": "expected a non-empty list of Tensors",
     "output_type": "error",
     "traceback": [
      "\u001b[0;31m---------------------------------------------------------------------------\u001b[0m",
      "\u001b[0;31mRuntimeError\u001b[0m                              Traceback (most recent call last)",
      "\u001b[0;32m<ipython-input-97-c42fb6ffdec8>\u001b[0m in \u001b[0;36m<module>\u001b[0;34m\u001b[0m\n\u001b[1;32m      4\u001b[0m \u001b[0mlearn\u001b[0m\u001b[0;34m=\u001b[0m\u001b[0mAgentLearner\u001b[0m\u001b[0;34m(\u001b[0m\u001b[0mdata\u001b[0m\u001b[0;34m,\u001b[0m\u001b[0mmodel\u001b[0m\u001b[0;34m,\u001b[0m\u001b[0magent\u001b[0m\u001b[0;34m=\u001b[0m\u001b[0magent\u001b[0m\u001b[0;34m,\u001b[0m\u001b[0mcallback_fns\u001b[0m\u001b[0;34m=\u001b[0m\u001b[0;34m[\u001b[0m\u001b[0mFakeRunCallback\u001b[0m\u001b[0;34m]\u001b[0m\u001b[0;34m,\u001b[0m\u001b[0mloss_func\u001b[0m\u001b[0;34m=\u001b[0m\u001b[0mfake_loss\u001b[0m\u001b[0;34m)\u001b[0m\u001b[0;34m\u001b[0m\u001b[0;34m\u001b[0m\u001b[0m\n\u001b[1;32m      5\u001b[0m \u001b[0;31m# setattr(learn,'fitter',dqn_fitter)\u001b[0m\u001b[0;34m\u001b[0m\u001b[0;34m\u001b[0m\u001b[0;34m\u001b[0m\u001b[0m\n\u001b[0;32m----> 6\u001b[0;31m \u001b[0mlearn\u001b[0m\u001b[0;34m.\u001b[0m\u001b[0mfit\u001b[0m\u001b[0;34m(\u001b[0m\u001b[0;36m10\u001b[0m\u001b[0;34m,\u001b[0m\u001b[0mlr\u001b[0m\u001b[0;34m=\u001b[0m\u001b[0;36m0.01\u001b[0m\u001b[0;34m,\u001b[0m\u001b[0mwd\u001b[0m\u001b[0;34m=\u001b[0m\u001b[0;36m1\u001b[0m\u001b[0;34m)\u001b[0m\u001b[0;34m\u001b[0m\u001b[0;34m\u001b[0m\u001b[0m\n\u001b[0m",
      "\u001b[0;32m/opt/conda/envs/fastrl/lib/python3.7/site-packages/fastai/basic_train.py\u001b[0m in \u001b[0;36mfit\u001b[0;34m(self, epochs, lr, wd, callbacks)\u001b[0m\n\u001b[1;32m    198\u001b[0m         \u001b[0;32melse\u001b[0m\u001b[0;34m:\u001b[0m \u001b[0mself\u001b[0m\u001b[0;34m.\u001b[0m\u001b[0mopt\u001b[0m\u001b[0;34m.\u001b[0m\u001b[0mlr\u001b[0m\u001b[0;34m,\u001b[0m\u001b[0mself\u001b[0m\u001b[0;34m.\u001b[0m\u001b[0mopt\u001b[0m\u001b[0;34m.\u001b[0m\u001b[0mwd\u001b[0m \u001b[0;34m=\u001b[0m \u001b[0mlr\u001b[0m\u001b[0;34m,\u001b[0m\u001b[0mwd\u001b[0m\u001b[0;34m\u001b[0m\u001b[0;34m\u001b[0m\u001b[0m\n\u001b[1;32m    199\u001b[0m         \u001b[0mcallbacks\u001b[0m \u001b[0;34m=\u001b[0m \u001b[0;34m[\u001b[0m\u001b[0mcb\u001b[0m\u001b[0;34m(\u001b[0m\u001b[0mself\u001b[0m\u001b[0;34m)\u001b[0m \u001b[0;32mfor\u001b[0m \u001b[0mcb\u001b[0m \u001b[0;32min\u001b[0m \u001b[0mself\u001b[0m\u001b[0;34m.\u001b[0m\u001b[0mcallback_fns\u001b[0m \u001b[0;34m+\u001b[0m \u001b[0mlistify\u001b[0m\u001b[0;34m(\u001b[0m\u001b[0mdefaults\u001b[0m\u001b[0;34m.\u001b[0m\u001b[0mextra_callback_fns\u001b[0m\u001b[0;34m)\u001b[0m\u001b[0;34m]\u001b[0m \u001b[0;34m+\u001b[0m \u001b[0mlistify\u001b[0m\u001b[0;34m(\u001b[0m\u001b[0mcallbacks\u001b[0m\u001b[0;34m)\u001b[0m\u001b[0;34m\u001b[0m\u001b[0;34m\u001b[0m\u001b[0m\n\u001b[0;32m--> 200\u001b[0;31m         \u001b[0mfit\u001b[0m\u001b[0;34m(\u001b[0m\u001b[0mepochs\u001b[0m\u001b[0;34m,\u001b[0m \u001b[0mself\u001b[0m\u001b[0;34m,\u001b[0m \u001b[0mmetrics\u001b[0m\u001b[0;34m=\u001b[0m\u001b[0mself\u001b[0m\u001b[0;34m.\u001b[0m\u001b[0mmetrics\u001b[0m\u001b[0;34m,\u001b[0m \u001b[0mcallbacks\u001b[0m\u001b[0;34m=\u001b[0m\u001b[0mself\u001b[0m\u001b[0;34m.\u001b[0m\u001b[0mcallbacks\u001b[0m\u001b[0;34m+\u001b[0m\u001b[0mcallbacks\u001b[0m\u001b[0;34m)\u001b[0m\u001b[0;34m\u001b[0m\u001b[0;34m\u001b[0m\u001b[0m\n\u001b[0m\u001b[1;32m    201\u001b[0m \u001b[0;34m\u001b[0m\u001b[0m\n\u001b[1;32m    202\u001b[0m     \u001b[0;32mdef\u001b[0m \u001b[0mcreate_opt\u001b[0m\u001b[0;34m(\u001b[0m\u001b[0mself\u001b[0m\u001b[0;34m,\u001b[0m \u001b[0mlr\u001b[0m\u001b[0;34m:\u001b[0m\u001b[0mFloats\u001b[0m\u001b[0;34m,\u001b[0m \u001b[0mwd\u001b[0m\u001b[0;34m:\u001b[0m\u001b[0mFloats\u001b[0m\u001b[0;34m=\u001b[0m\u001b[0;36m0.\u001b[0m\u001b[0;34m)\u001b[0m\u001b[0;34m->\u001b[0m\u001b[0;32mNone\u001b[0m\u001b[0;34m:\u001b[0m\u001b[0;34m\u001b[0m\u001b[0;34m\u001b[0m\u001b[0m\n",
      "\u001b[0;32m/opt/conda/envs/fastrl/lib/python3.7/site-packages/fastai/basic_train.py\u001b[0m in \u001b[0;36mfit\u001b[0;34m(epochs, learn, callbacks, metrics)\u001b[0m\n\u001b[1;32m    104\u001b[0m             \u001b[0;32mif\u001b[0m \u001b[0;32mnot\u001b[0m \u001b[0mcb_handler\u001b[0m\u001b[0;34m.\u001b[0m\u001b[0mskip_validate\u001b[0m \u001b[0;32mand\u001b[0m \u001b[0;32mnot\u001b[0m \u001b[0mlearn\u001b[0m\u001b[0;34m.\u001b[0m\u001b[0mdata\u001b[0m\u001b[0;34m.\u001b[0m\u001b[0mempty_val\u001b[0m\u001b[0;34m:\u001b[0m\u001b[0;34m\u001b[0m\u001b[0;34m\u001b[0m\u001b[0m\n\u001b[1;32m    105\u001b[0m                 val_loss = validate(learn.model, learn.data.valid_dl, loss_func=learn.loss_func,\n\u001b[0;32m--> 106\u001b[0;31m                                        cb_handler=cb_handler, pbar=pbar)\n\u001b[0m\u001b[1;32m    107\u001b[0m             \u001b[0;32melse\u001b[0m\u001b[0;34m:\u001b[0m \u001b[0mval_loss\u001b[0m\u001b[0;34m=\u001b[0m\u001b[0;32mNone\u001b[0m\u001b[0;34m\u001b[0m\u001b[0;34m\u001b[0m\u001b[0m\n\u001b[1;32m    108\u001b[0m             \u001b[0;32mif\u001b[0m \u001b[0mcb_handler\u001b[0m\u001b[0;34m.\u001b[0m\u001b[0mon_epoch_end\u001b[0m\u001b[0;34m(\u001b[0m\u001b[0mval_loss\u001b[0m\u001b[0;34m)\u001b[0m\u001b[0;34m:\u001b[0m \u001b[0;32mbreak\u001b[0m\u001b[0;34m\u001b[0m\u001b[0;34m\u001b[0m\u001b[0m\n",
      "\u001b[0;32m/opt/conda/envs/fastrl/lib/python3.7/site-packages/fastai/basic_train.py\u001b[0m in \u001b[0;36mvalidate\u001b[0;34m(model, dl, loss_func, cb_handler, pbar, average, n_batch)\u001b[0m\n\u001b[1;32m     64\u001b[0m             \u001b[0;32mif\u001b[0m \u001b[0mn_batch\u001b[0m \u001b[0;32mand\u001b[0m \u001b[0;34m(\u001b[0m\u001b[0mlen\u001b[0m\u001b[0;34m(\u001b[0m\u001b[0mnums\u001b[0m\u001b[0;34m)\u001b[0m\u001b[0;34m>=\u001b[0m\u001b[0mn_batch\u001b[0m\u001b[0;34m)\u001b[0m\u001b[0;34m:\u001b[0m \u001b[0;32mbreak\u001b[0m\u001b[0;34m\u001b[0m\u001b[0;34m\u001b[0m\u001b[0m\n\u001b[1;32m     65\u001b[0m         \u001b[0mnums\u001b[0m \u001b[0;34m=\u001b[0m \u001b[0mnp\u001b[0m\u001b[0;34m.\u001b[0m\u001b[0marray\u001b[0m\u001b[0;34m(\u001b[0m\u001b[0mnums\u001b[0m\u001b[0;34m,\u001b[0m \u001b[0mdtype\u001b[0m\u001b[0;34m=\u001b[0m\u001b[0mnp\u001b[0m\u001b[0;34m.\u001b[0m\u001b[0mfloat32\u001b[0m\u001b[0;34m)\u001b[0m\u001b[0;34m\u001b[0m\u001b[0;34m\u001b[0m\u001b[0m\n\u001b[0;32m---> 66\u001b[0;31m         \u001b[0;32mif\u001b[0m \u001b[0maverage\u001b[0m\u001b[0;34m:\u001b[0m \u001b[0;32mreturn\u001b[0m \u001b[0;34m(\u001b[0m\u001b[0mto_np\u001b[0m\u001b[0;34m(\u001b[0m\u001b[0mtorch\u001b[0m\u001b[0;34m.\u001b[0m\u001b[0mstack\u001b[0m\u001b[0;34m(\u001b[0m\u001b[0mval_losses\u001b[0m\u001b[0;34m)\u001b[0m\u001b[0;34m)\u001b[0m \u001b[0;34m*\u001b[0m \u001b[0mnums\u001b[0m\u001b[0;34m)\u001b[0m\u001b[0;34m.\u001b[0m\u001b[0msum\u001b[0m\u001b[0;34m(\u001b[0m\u001b[0;34m)\u001b[0m \u001b[0;34m/\u001b[0m \u001b[0mnums\u001b[0m\u001b[0;34m.\u001b[0m\u001b[0msum\u001b[0m\u001b[0;34m(\u001b[0m\u001b[0;34m)\u001b[0m\u001b[0;34m\u001b[0m\u001b[0;34m\u001b[0m\u001b[0m\n\u001b[0m\u001b[1;32m     67\u001b[0m         \u001b[0;32melse\u001b[0m\u001b[0;34m:\u001b[0m       \u001b[0;32mreturn\u001b[0m \u001b[0mval_losses\u001b[0m\u001b[0;34m\u001b[0m\u001b[0;34m\u001b[0m\u001b[0m\n\u001b[1;32m     68\u001b[0m \u001b[0;34m\u001b[0m\u001b[0m\n",
      "\u001b[0;31mRuntimeError\u001b[0m: expected a non-empty list of Tensors"
     ]
    }
   ],
   "source": [
    "data=AsyncExperienceSourceDataBunch.from_env('CartPole-v1',display=False,firstlast=True,add_valid=False)\n",
    "model=nn.Sequential(nn.Linear(4,5),nn.ReLU(),nn.Linear(5,2))\n",
    "agent=DQNAgent(model=model)\n",
    "learn=AgentLearner(data,model,agent=agent,callback_fns=[FakeRunCallback],loss_func=fake_loss)\n",
    "# setattr(learn,'fitter',dqn_fitter)\n",
    "learn.fit(10,lr=0.01,wd=1)"
   ]
  },
  {
   "cell_type": "code",
   "execution_count": null,
   "metadata": {},
   "outputs": [],
   "source": [
    "data=AsyncExperienceSourceDataBunch.from_env('CartPole-v1',n_envs=5,display=False,firstlast=False,add_valid=False)\n",
    "for xb,yb in data.train_dl:\n",
    "    test_eq(len(xb),1)\n",
    "    test_eq(tuple(xb[0].shape),(5,4))"
   ]
  },
  {
   "cell_type": "code",
   "execution_count": null,
   "metadata": {},
   "outputs": [],
   "source": [
    "# hide\n",
    "from nbdev.export import *\n",
    "notebook2script()\n",
    "notebook2html(n_workers=0)"
   ]
  },
  {
   "cell_type": "code",
   "execution_count": null,
   "metadata": {},
   "outputs": [],
   "source": []
  }
 ],
 "metadata": {
  "kernelspec": {
   "display_name": "Python 3",
   "language": "python",
   "name": "python3"
  }
 },
 "nbformat": 4,
 "nbformat_minor": 4
}
