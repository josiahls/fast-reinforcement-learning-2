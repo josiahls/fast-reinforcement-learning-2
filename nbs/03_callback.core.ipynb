{
 "cells": [
  {
   "cell_type": "code",
   "execution_count": null,
   "id": "forty-boards",
   "metadata": {},
   "outputs": [],
   "source": [
    "#hide\n",
    "#skip\n",
    "%config Completer.use_jedi = False\n",
    "# upgrade fastrl on colab\n",
    "! [ -e /content ] && pip install -Uqq fastrl['dev'] pyvirtualdisplay && \\\n",
    "                     apt-get install -y xvfb python-opengl > /dev/null 2>&1 \n",
    "# NOTE: IF YOU SEE VERSION ERRORS, IT IS SAFE TO IGNORE THEM. COLAB IS BEHIND IN SOME OF THE PACKAGE VERSIONS"
   ]
  },
  {
   "cell_type": "code",
   "execution_count": null,
   "id": "rolled-species",
   "metadata": {},
   "outputs": [],
   "source": [
    "# hide\n",
    "from fastcore.imports import in_colab\n",
    "# Since colab still requires tornado<6, we don't want to import nbdev if we don't have to\n",
    "if not in_colab():\n",
    "    from nbdev.showdoc import *\n",
    "    from nbdev.imports import *\n",
    "    if not os.environ.get(\"IN_TEST\", None):\n",
    "        assert IN_NOTEBOOK\n",
    "        assert not IN_COLAB\n",
    "        assert IN_IPYTHON\n",
    "else:\n",
    "    # Virutual display is needed for colab\n",
    "    from pyvirtualdisplay import Display\n",
    "    display = Display(visible=0, size=(400, 300))\n",
    "    display.start()"
   ]
  },
  {
   "cell_type": "code",
   "execution_count": null,
   "id": "informed-musical",
   "metadata": {},
   "outputs": [],
   "source": [
    "# default_exp callback.core"
   ]
  },
  {
   "cell_type": "code",
   "execution_count": null,
   "id": "palestinian-dubai",
   "metadata": {},
   "outputs": [],
   "source": [
    "# export\n",
    "# Python native modules\n",
    "import os\n",
    "# Third party libs\n",
    "from fastcore.all import *\n",
    "from fastai.callback.core import *\n",
    "from fastai.data.all import *\n",
    "# Local modules"
   ]
  },
  {
   "cell_type": "code",
   "execution_count": null,
   "id": "complicated-official",
   "metadata": {},
   "outputs": [],
   "source": [
    "from fastai.learner import *\n",
    "from fastai.test_utils import *"
   ]
  },
  {
   "cell_type": "markdown",
   "id": "rational-diving",
   "metadata": {},
   "source": [
    "# Callback Core\n",
    "> Exntensions of the fastai learner training loop API for Agents and Sources"
   ]
  },
  {
   "cell_type": "markdown",
   "id": "several-extent",
   "metadata": {},
   "source": [
    "The fastai learner has a training loop that looks like..."
   ]
  },
  {
   "cell_type": "code",
   "execution_count": null,
   "id": "authentic-message",
   "metadata": {},
   "outputs": [
    {
     "name": "stdout",
     "output_type": "stream",
     "text": [
      "Start Fit\n",
      "   - before_fit     : [TrainEvalCallback, Recorder]\n",
      "  Start Epoch Loop\n",
      "     - before_epoch   : [Recorder]\n",
      "    Start Train\n",
      "       - before_train   : [TrainEvalCallback, Recorder]\n",
      "      Start Batch Loop\n",
      "         - before_batch   : []\n",
      "         - after_pred     : []\n",
      "         - after_loss     : []\n",
      "         - before_backward: []\n",
      "         - before_step    : []\n",
      "         - after_step     : []\n",
      "         - after_cancel_batch: []\n",
      "         - after_batch    : [TrainEvalCallback, Recorder]\n",
      "      End Batch Loop\n",
      "    End Train\n",
      "     - after_cancel_train: [Recorder]\n",
      "     - after_train    : [Recorder]\n",
      "    Start Valid\n",
      "       - before_validate: [TrainEvalCallback, Recorder]\n",
      "      Start Batch Loop\n",
      "         - **CBs same as train batch**: []\n",
      "      End Batch Loop\n",
      "    End Valid\n",
      "     - after_cancel_validate: [Recorder]\n",
      "     - after_validate : [Recorder]\n",
      "  End Epoch Loop\n",
      "   - after_cancel_epoch: []\n",
      "   - after_epoch    : [Recorder]\n",
      "End Fit\n",
      " - after_cancel_fit: []\n",
      " - after_fit      : []\n"
     ]
    }
   ],
   "source": [
    "synth_learner().show_training_loop()"
   ]
  },
  {
   "cell_type": "markdown",
   "id": "modular-cardiff",
   "metadata": {},
   "source": [
    "It would be great to have this as a generic object that other parts of fastrl can leverage."
   ]
  },
  {
   "cell_type": "code",
   "execution_count": null,
   "id": "quick-postage",
   "metadata": {},
   "outputs": [],
   "source": [
    "# export\n",
    "defaults.loop_callbacks=L()\n",
    "\n",
    "_loop = ['Start Fit', 'before_fit', 'Start Epoch Loop', 'before_epoch', 'Start Train', 'before_train',\n",
    "         'Start Batch Loop', 'before_batch', 'after_pred', 'after_loss', 'before_backward', 'before_step',\n",
    "         'after_step', 'after_cancel_batch', 'after_batch','End Batch Loop','End Train',\n",
    "         'after_cancel_train', 'after_train', 'Start Valid', 'before_validate','Start Batch Loop',\n",
    "         '**CBs same as train batch**', 'End Batch Loop', 'End Valid', 'after_cancel_validate',\n",
    "         'after_validate', 'End Epoch Loop', 'after_cancel_epoch', 'after_epoch', 'End Fit',\n",
    "         'after_cancel_fit', 'after_fit']\n",
    "\n",
    "class Loop(GetAttr):\n",
    "    _loop,_default=_loop,'_base'\n",
    "    def __init__(self,cbs=None,**kwargs):\n",
    "        store_attr(but='cbs')\n",
    "        self.cbs=L()\n",
    "        self.add_cbs(L(defaults.loop_callbacks)+L(cbs))\n",
    "        self(\"after_create\")\n",
    "        \n",
    "    def _grab_cbs(self, cb_cls): return L(cb for cb in self.cbs if isinstance(cb, cb_cls))\n",
    "\n",
    "    def add_cbs(self, cbs):\n",
    "        L(cbs).map(self.add_cb)\n",
    "        return self\n",
    "\n",
    "    def remove_cbs(self, cbs):\n",
    "        L(cbs).map(self.remove_cb)\n",
    "        return self\n",
    "\n",
    "    def add_cb(self, cb):\n",
    "        if isinstance(cb, type): cb = cb()\n",
    "        setattr(cb,self._default,self)\n",
    "        setattr(self, cb.name, cb)\n",
    "        self.cbs.append(cb)\n",
    "        return self\n",
    "\n",
    "    def remove_cb(self, cb):\n",
    "        if isinstance(cb, type): self.remove_cbs(self._grab_cbs(cb))\n",
    "        else:\n",
    "            setattr(cb,self._default,None)\n",
    "            if hasattr(self, cb.name): delattr(self, cb.name)\n",
    "            if cb in self.cbs: self.cbs.remove(cb)\n",
    "        return self\n",
    "\n",
    "    def _with_events(self, f, event_type, ex, final=noop):\n",
    "        try: self(f'before_{event_type}');  f()\n",
    "        except ex: self(f'after_cancel_{event_type}')\n",
    "        self(f'after_{event_type}');  final()\n",
    "    \n",
    "    @contextmanager\n",
    "    def added_cbs(self, cbs):\n",
    "        self.add_cbs(cbs)\n",
    "        try: yield\n",
    "        finally: self.remove_cbs(cbs)\n",
    "\n",
    "    @contextmanager\n",
    "    def removed_cbs(self, cbs):\n",
    "        self.remove_cbs(cbs)\n",
    "        try: yield self\n",
    "        finally: self.add_cbs(cbs)\n",
    "\n",
    "    def ordered_cbs(self, event): return [cb for cb in self.cbs.sorted('order') if hasattr(cb, event)]\n",
    "    def __call__(self, event_name): L(event_name).map(self._call_one)\n",
    "\n",
    "    def _call_one(self, event_name):\n",
    "        if not hasattr(event, event_name): raise Exception(f'missing {event_name}')\n",
    "        for cb in self.cbs.sorted('order'): cb(event_name)\n",
    "            \n",
    "    \n",
    "    def show_training_loop(self):\n",
    "        indent = 0\n",
    "        for s in self._loop:\n",
    "            if s.startswith('Start'): print(f'{\" \"*indent}{s}'); indent += 2\n",
    "            elif s.startswith('End'): indent -= 2; print(f'{\" \"*indent}{s}')\n",
    "            else: print(f'{\" \"*indent} - {s:15}:', self.ordered_cbs(s))"
   ]
  },
  {
   "cell_type": "markdown",
   "id": "proper-resort",
   "metadata": {},
   "source": [
    "Ok so lets try about making a custom callback loop!"
   ]
  },
  {
   "cell_type": "code",
   "execution_count": null,
   "id": "three-bowling",
   "metadata": {},
   "outputs": [],
   "source": [
    "class TstLooper(Loop):\n",
    "    _loop=L(['Start doing this','before_do_this','after_do_this','End doing this',\n",
    "             'Start then doing this','before_then_this','after_then_this',\n",
    "             'Start finally this','before_and_finally_this','after_and_finally_this',\n",
    "             'End finally this','End doing this'])\n",
    "    def do_this(self): return\n",
    "    def then_this(self): return\n",
    "    def and_finally_this(self): return \n",
    "    \n",
    "    def fit(self):\n",
    "        self._with_events(self.do_this,'do_this',Exception)\n",
    "        self._with_events(self.then_this,'then_this',Exception)\n",
    "        self._with_events(self.and_finally_this,'and_finally_this',Exception)"
   ]
  },
  {
   "cell_type": "code",
   "execution_count": null,
   "id": "decimal-government",
   "metadata": {},
   "outputs": [
    {
     "name": "stdout",
     "output_type": "stream",
     "text": [
      "Start doing this\n",
      "   - before_do_this : []\n",
      "   - after_do_this  : []\n",
      "End doing this\n",
      "Start then doing this\n",
      "   - before_then_this: []\n",
      "   - after_then_this: []\n",
      "  Start finally this\n",
      "     - before_and_finally_this: []\n",
      "     - after_and_finally_this: []\n",
      "  End finally this\n",
      "End doing this\n"
     ]
    }
   ],
   "source": [
    "TstLooper().show_training_loop()"
   ]
  },
  {
   "cell_type": "markdown",
   "id": "stock-canal",
   "metadata": {},
   "source": [
    "Ok so we have a custom callback loop, now we want to have some callbacks that get executed!"
   ]
  },
  {
   "cell_type": "code",
   "execution_count": null,
   "id": "fatal-furniture",
   "metadata": {},
   "outputs": [],
   "source": [
    "# export\n",
    "_events = L.split('')\n",
    "\n",
    "mk_class('loop_event', **_events.map_dict(),\n",
    "         doc=\"All possible events as attributes to get tab-completion and typo-proofing\")\n",
    "\n",
    "_all_ = ['loop_event']"
   ]
  },
  {
   "cell_type": "code",
   "execution_count": null,
   "id": "distributed-hartford",
   "metadata": {},
   "outputs": [],
   "source": [
    "#export\n",
    "_inner_loop = \"\".split()"
   ]
  },
  {
   "cell_type": "code",
   "execution_count": null,
   "id": "sustained-bacteria",
   "metadata": {},
   "outputs": [],
   "source": [
    "#export\n",
    "@funcs_kwargs(as_method=True)\n",
    "class LoopCallback(Stateful,GetAttr):\n",
    "    \"Basic class handling tweaks of a callback loop by changing a `obj` in various events\"\n",
    "    order,_default,obj,run,run_train,run_valid = 0,'obj',None,True,True,True\n",
    "    _methods = _events\n",
    "\n",
    "    def __init__(self, **kwargs): assert not kwargs, f'Passed unknown events: {kwargs}'\n",
    "    def __repr__(self): return type(self).__name__\n",
    "\n",
    "    def __call__(self, event_name):\n",
    "        \"Call `self.{event_name}` if it's defined\"\n",
    "        _run = (event_name not in _inner_loop or (self.run_train and getattr(self, 'training', True)) or\n",
    "               (self.run_valid and not getattr(self, 'training', False)))\n",
    "        res = None\n",
    "        if self.run and _run: res = getattr(self, event_name, noop)()\n",
    "        if event_name=='after_fit': self.run=True #Reset self.run to True at each end of fit\n",
    "        return res\n",
    "\n",
    "    def __setattr__(self, name, value):\n",
    "        if hasattr(self.obj,name):\n",
    "            warn(f\"You are shadowing an attribute ({name}) that exists in the {self._default}. Use `self.{self._default}.{name}` to avoid this\")\n",
    "        super().__setattr__(name, value)\n",
    "\n",
    "    @property\n",
    "    def name(self):\n",
    "        \"Name of the `LoopCallback`, camel-cased and with '*LoopCallback*' removed\"\n",
    "        return class2attr(self, 'LoopCallback')"
   ]
  },
  {
   "cell_type": "markdown",
   "id": "threaded-gender",
   "metadata": {},
   "source": [
    "For a custom callback looper, we need 2 things: `_events` and `_inner_loop`.\n",
    "If an event is in the `_inner_loop` then we want to skip executing it since it is going to be \n",
    "manually executed by some other event."
   ]
  },
  {
   "cell_type": "code",
   "execution_count": null,
   "id": "every-birmingham",
   "metadata": {},
   "outputs": [],
   "source": [
    "_events = L.split('create do_this then_this and_finally_this')\n",
    "_events = _events.map(lambda s:'cancel_'+s)+ _events.map(lambda s:'before_'+s) + _events.map(lambda s:'after_'+s)\n",
    "mk_class('event', **_events.map_dict(),\n",
    "         doc=\"All possible events as attributes to get tab-completion and typo-proofing\")\n",
    "\n",
    "class CustomCallback(LoopCallback):\n",
    "    _default,some_obj='some_class',None\n",
    "    _methods=_events\n",
    "\n",
    "#     def do_this(self):          return print('do_this')\n",
    "#     def then_this(self):        return print('then_this')\n",
    "#     def and_finally_this(self): return print('and_finally_this')\n",
    "    def before_do_this(self):          return print('before_do_this')\n",
    "    def before_then_this(self):        return print('before_then_this')\n",
    "    def before_and_finally_this(self): return print('before_and_finally_this')\n",
    "    def after_do_this(self):           return print('after_do_this')\n",
    "    def after_then_this(self):         return print('after_then_this')\n",
    "    def after_and_finally_this(self):  return print('after_and_finally_this')"
   ]
  },
  {
   "cell_type": "code",
   "execution_count": null,
   "id": "generous-chassis",
   "metadata": {},
   "outputs": [
    {
     "data": {
      "text/plain": [
       "(#12) ['cancel_create','cancel_do_this','cancel_then_this','cancel_and_finally_this','before_create','before_do_this','before_then_this','before_and_finally_this','after_create','after_do_this'...]"
      ]
     },
     "execution_count": null,
     "metadata": {},
     "output_type": "execute_result"
    }
   ],
   "source": [
    "CustomCallback()._methods"
   ]
  },
  {
   "cell_type": "code",
   "execution_count": null,
   "id": "moderate-table",
   "metadata": {},
   "outputs": [],
   "source": [
    "TstLooper().do_this()"
   ]
  },
  {
   "cell_type": "code",
   "execution_count": null,
   "id": "twenty-temple",
   "metadata": {},
   "outputs": [],
   "source": [
    "looper=TstLooper(cbs=CustomCallback())"
   ]
  },
  {
   "cell_type": "code",
   "execution_count": null,
   "id": "confirmed-ethics",
   "metadata": {},
   "outputs": [
    {
     "name": "stdout",
     "output_type": "stream",
     "text": [
      "Start doing this\n",
      "   - before_do_this : [CustomCallback]\n",
      "   - after_do_this  : [CustomCallback]\n",
      "End doing this\n",
      "Start then doing this\n",
      "   - before_then_this: [CustomCallback]\n",
      "   - after_then_this: [CustomCallback]\n",
      "  Start finally this\n",
      "     - before_and_finally_this: [CustomCallback]\n",
      "     - after_and_finally_this: [CustomCallback]\n",
      "  End finally this\n",
      "End doing this\n"
     ]
    }
   ],
   "source": [
    "looper.show_training_loop()"
   ]
  },
  {
   "cell_type": "code",
   "execution_count": null,
   "id": "offshore-anchor",
   "metadata": {},
   "outputs": [
    {
     "name": "stdout",
     "output_type": "stream",
     "text": [
      "before_do_this\n",
      "after_do_this\n",
      "before_then_this\n",
      "after_then_this\n",
      "before_and_finally_this\n",
      "after_and_finally_this\n"
     ]
    }
   ],
   "source": [
    "looper.fit()"
   ]
  },
  {
   "cell_type": "code",
   "execution_count": null,
   "id": "legendary-render",
   "metadata": {},
   "outputs": [
    {
     "name": "stdout",
     "output_type": "stream",
     "text": [
      "converting /home/fastrl_user/fastrl/nbs/index.ipynb to README.md\n",
      "Converted 00_core.ipynb.\n",
      "Converted 00_nbdev_extension.ipynb.\n",
      "Converted 03_callback.core.ipynb.\n",
      "Converted 04_agent.ipynb.\n",
      "Converted 05_data.block.ipynb.\n",
      "Converted 05_data.test_async.ipynb.\n",
      "Converted 20_test_utils.ipynb.\n",
      "Converted index.ipynb.\n",
      "Converted nbdev_template.ipynb.\n",
      "converting: /home/fastrl_user/fastrl/nbs/03_callback.core.ipynb\n"
     ]
    }
   ],
   "source": [
    "# hide\n",
    "from fastcore.imports import in_colab\n",
    "\n",
    "# Since colab still requires tornado<6, we don't want to import nbdev if we don't have to\n",
    "if not in_colab():\n",
    "    from nbdev.export import *\n",
    "    from nbdev.export2html import *\n",
    "    from nbdev.cli import make_readme\n",
    "    make_readme()\n",
    "    notebook2script()\n",
    "    notebook2html()"
   ]
  },
  {
   "cell_type": "code",
   "execution_count": null,
   "id": "driving-broadway",
   "metadata": {},
   "outputs": [],
   "source": []
  }
 ],
 "metadata": {
  "kernelspec": {
   "display_name": "Python 3",
   "language": "python",
   "name": "python3"
  }
 },
 "nbformat": 4,
 "nbformat_minor": 5
}
