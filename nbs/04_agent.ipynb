{
 "cells": [
  {
   "cell_type": "code",
   "execution_count": null,
   "id": "blank-grounds",
   "metadata": {},
   "outputs": [],
   "source": [
    "#hide\n",
    "#skip\n",
    "%config Completer.use_jedi = False\n",
    "# upgrade fastrl on colab\n",
    "! [ -e /content ] && pip install -Uqq fastrl['dev'] pyvirtualdisplay && \\\n",
    "                     apt-get install -y xvfb python-opengl > /dev/null 2>&1 \n",
    "# NOTE: IF YOU SEE VERSION ERRORS, IT IS SAFE TO IGNORE THEM. COLAB IS BEHIND IN SOME OF THE PACKAGE VERSIONS"
   ]
  },
  {
   "cell_type": "code",
   "execution_count": null,
   "id": "worst-terminology",
   "metadata": {},
   "outputs": [],
   "source": [
    "# hide\n",
    "from fastcore.imports import in_colab\n",
    "# Since colab still requires tornado<6, we don't want to import nbdev if we don't have to\n",
    "if not in_colab():\n",
    "    from nbdev.showdoc import *\n",
    "    from nbdev.imports import *\n",
    "    if not os.environ.get(\"IN_TEST\", None):\n",
    "        assert IN_NOTEBOOK\n",
    "        assert not IN_COLAB\n",
    "        assert IN_IPYTHON\n",
    "else:\n",
    "    # Virutual display is needed for colab\n",
    "    from pyvirtualdisplay import Display\n",
    "    display = Display(visible=0, size=(400, 300))\n",
    "    display.start()"
   ]
  },
  {
   "cell_type": "code",
   "execution_count": null,
   "id": "hollywood-gates",
   "metadata": {},
   "outputs": [],
   "source": [
    "# default_exp agent"
   ]
  },
  {
   "cell_type": "code",
   "execution_count": null,
   "id": "interim-investigation",
   "metadata": {},
   "outputs": [],
   "source": [
    "# export\n",
    "# Python native modules\n",
    "import os\n",
    "# Third party libs\n",
    "from fastcore.all import *\n",
    "# Local modules\n",
    "from fastrl.callback.core import *"
   ]
  },
  {
   "cell_type": "code",
   "execution_count": null,
   "id": "lonely-poverty",
   "metadata": {},
   "outputs": [],
   "source": [
    "from fastai.learner import *"
   ]
  },
  {
   "cell_type": "markdown",
   "id": "frequent-nigeria",
   "metadata": {},
   "source": [
    "# Agent\n",
    "> fastrl's single agent class that uses callbacks for extendability."
   ]
  },
  {
   "cell_type": "code",
   "execution_count": null,
   "id": "unnecessary-pride",
   "metadata": {},
   "outputs": [],
   "source": [
    "# export\n",
    "_events = L.split('create preprocess action noise')\n",
    "_events = _events.map(lambda s:'cancel_'+s)+ _events.map(lambda s:'before_'+s) + _events.map(lambda s:'after_'+s)\n",
    "\n",
    "mk_class('agent_event', **_events.map_dict(),\n",
    "         doc=\"All possible events as attributes to get tab-completion and typo-proofing\")\n",
    "\n",
    "_all_ = ['agent_event']\n",
    "\n",
    "_inner_loop = \"\".split()"
   ]
  },
  {
   "cell_type": "code",
   "execution_count": null,
   "id": "established-graph",
   "metadata": {},
   "outputs": [],
   "source": [
    "# export\n",
    "class Agent(Loop):\n",
    "    _loop=L(['Start Action','before_preprocess','after_preprocess','after_cancel_preprocess',\n",
    "                            'before_action','after_action','after_cancel_action',\n",
    "                            'before_noise','after_noise','after_cancel_noise','End Action'])\n",
    "    _default='agent'\n",
    "    @delegates(Loop)\n",
    "    def __init__(self,model=None,**kwargs):\n",
    "        super().__init__(**kwargs)\n",
    "        self.experience=None\n",
    "        self.action=None\n",
    "        \n",
    "    def _call_one(self, event_name):\n",
    "        if not hasattr(agent_event, event_name): raise Exception(f'missing {event_name}')\n",
    "        for cb in self.cbs.sorted('order'): cb(event_name)\n",
    "        \n",
    "    def do_action(self,**kwargs):\n",
    "        self.experience=kwargs\n",
    "        for event in L.split('preprocess action noise'): \n",
    "            self._with_events(noop,event,Exception)\n",
    "        return self.action,self.experience"
   ]
  },
  {
   "cell_type": "code",
   "execution_count": null,
   "id": "twenty-chart",
   "metadata": {},
   "outputs": [
    {
     "name": "stdout",
     "output_type": "stream",
     "text": [
      "Start Action\n",
      "   - before_preprocess: []\n",
      "   - after_preprocess: []\n",
      "   - after_cancel_preprocess: []\n",
      "   - before_action  : []\n",
      "   - after_action   : []\n",
      "   - after_cancel_action: []\n",
      "   - before_noise   : []\n",
      "   - after_noise    : []\n",
      "   - after_cancel_noise: []\n",
      "End Action\n"
     ]
    }
   ],
   "source": [
    "Agent().show_training_loop()"
   ]
  },
  {
   "cell_type": "code",
   "execution_count": null,
   "id": "downtown-circuit",
   "metadata": {},
   "outputs": [],
   "source": [
    "# export\n",
    "class AgentCallback(LoopCallback):\n",
    "    _default,agent='agent',None\n",
    "    _methods=_events"
   ]
  },
  {
   "cell_type": "code",
   "execution_count": null,
   "id": "graduate-screening",
   "metadata": {},
   "outputs": [
    {
     "name": "stdout",
     "output_type": "stream",
     "text": [
      "before noise\n"
     ]
    },
    {
     "data": {
      "text/plain": [
       "(tensor([[ 0.5675, -1.9773, -0.2074, -0.9423, -0.5747]]), {})"
      ]
     },
     "execution_count": null,
     "metadata": {},
     "output_type": "execute_result"
    }
   ],
   "source": [
    "import torch\n",
    "\n",
    "class TstRandomCallback(AgentCallback):\n",
    "    def before_noise(self): \n",
    "        print('before noise')\n",
    "        self.agent.action=torch.randn((1,5))\n",
    "    \n",
    "agent=Agent(cbs=TstRandomCallback)\n",
    "agent.do_action()"
   ]
  },
  {
   "cell_type": "code",
   "execution_count": null,
   "id": "faced-setting",
   "metadata": {},
   "outputs": [
    {
     "name": "stdout",
     "output_type": "stream",
     "text": [
      "Start Action\n",
      "   - before_preprocess: []\n",
      "   - after_preprocess: []\n",
      "   - after_cancel_preprocess: []\n",
      "   - before_action  : []\n",
      "   - after_action   : []\n",
      "   - after_cancel_action: []\n",
      "   - before_noise   : [TstRandomCallback]\n",
      "   - after_noise    : []\n",
      "   - after_cancel_noise: []\n",
      "End Action\n"
     ]
    }
   ],
   "source": [
    "agent.show_training_loop()"
   ]
  },
  {
   "cell_type": "code",
   "execution_count": null,
   "id": "mature-scroll",
   "metadata": {},
   "outputs": [
    {
     "name": "stdout",
     "output_type": "stream",
     "text": [
      "converting /home/fastrl_user/fastrl/nbs/index.ipynb to README.md\n",
      "Converted 00_core.ipynb.\n",
      "Converted 00_nbdev_extension.ipynb.\n",
      "Converted 03_callback.core.ipynb.\n",
      "Converted 04_agent.ipynb.\n",
      "Converted 05_data.block.ipynb.\n",
      "Converted 05_data.test_async.ipynb.\n",
      "Converted 20_test_utils.ipynb.\n",
      "Converted index.ipynb.\n",
      "Converted nbdev_template.ipynb.\n",
      "converting: /home/fastrl_user/fastrl/nbs/04_agent.ipynb\n"
     ]
    }
   ],
   "source": [
    "# hide\n",
    "from fastcore.imports import in_colab\n",
    "\n",
    "# Since colab still requires tornado<6, we don't want to import nbdev if we don't have to\n",
    "if not in_colab():\n",
    "    from nbdev.export import *\n",
    "    from nbdev.export2html import *\n",
    "    from nbdev.cli import make_readme\n",
    "    make_readme()\n",
    "    notebook2script()\n",
    "    notebook2html()"
   ]
  },
  {
   "cell_type": "code",
   "execution_count": null,
   "id": "advisory-making",
   "metadata": {},
   "outputs": [],
   "source": []
  }
 ],
 "metadata": {
  "kernelspec": {
   "display_name": "Python 3",
   "language": "python",
   "name": "python3"
  }
 },
 "nbformat": 4,
 "nbformat_minor": 5
}
