{
 "cells": [
  {
   "cell_type": "markdown",
   "metadata": {},
   "source": [
    "# General Notes\n",
    "\n",
    "> Notes about using jupyter, openai gyms\n",
    "\n",
    "For starters, if you use the dockerfile provided, you will notice that the `xvfb` package is being used. This is needed to allow many of the gyms to run properly. Below is an example of running a env in a jupyter notebook."
   ]
  },
  {
   "cell_type": "code",
   "execution_count": null,
   "metadata": {},
   "outputs": [
    {
     "data": {
      "image/png": "[encoded data removed]",
      "text/plain": [
       "<PIL.Image.Image image mode=RGB size=600x400 at 0x7F019473CD90>"
      ]
     },
     "metadata": {},
     "output_type": "display_data"
    }
   ],
   "source": [
    "import gym\n",
    "from IPython import display\n",
    "import PIL.Image\n",
    "%matplotlib inline\n",
    "\n",
    "env=gym.make('CartPole-v1')\n",
    "env.reset()\n",
    "for _ in range(200):\n",
    "    display.clear_output(wait=True)\n",
    "    display.display(PIL.Image.fromarray(env.render(mode='rgb_array')))\n",
    "    s,r,d,_=env.step(env.action_space.sample())\n",
    "    if d:env.reset()"
   ]
  },
  {
   "cell_type": "code",
   "execution_count": null,
   "metadata": {},
   "outputs": [
    {
     "data": {
      "image/png": "[encoded data removed]",
      "text/plain": [
       "<PIL.Image.Image image mode=RGB size=160x210 at 0x7F0194762A90>"
      ]
     },
     "metadata": {},
     "output_type": "display_data"
    },
    {
     "name": "stdout",
     "output_type": "stream",
     "text": [
      "hi\n"
     ]
    }
   ],
   "source": [
    "env = gym.make('Breakout-v0')\n",
    "env.reset()\n",
    "for _ in range(800):\n",
    "    display.clear_output(wait=True)\n",
    "    display.display(PIL.Image.fromarray(env.render(mode='rgb_array')))\n",
    "    s,r,d,_=env.step(env.action_space.sample())\n",
    "    if d:env.reset()"
   ]
  },
  {
   "cell_type": "code",
   "execution_count": null,
   "metadata": {},
   "outputs": [],
   "source": [
    "# hide\n",
    "from nbdev.export import *\n",
    "notebook2script()\n",
    "notebook2html(n_workers=0)"
   ]
  }
 ],
 "metadata": {
  "kernelspec": {
   "display_name": "Python 3",
   "language": "python",
   "name": "python3"
  }
 },
 "nbformat": 4,
 "nbformat_minor": 4
}
