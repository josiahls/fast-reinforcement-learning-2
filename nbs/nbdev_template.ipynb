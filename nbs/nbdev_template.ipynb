{
 "cells": [
  {
   "cell_type": "code",
   "execution_count": null,
   "id": "smart-oregon",
   "metadata": {},
   "outputs": [],
   "source": [
    "#hide\n",
    "#skip\n",
    "! [ -e /content ] && pip install -Uqq fastrl  # upgrade fastrl on colab"
   ]
  },
  {
   "cell_type": "code",
   "execution_count": null,
   "id": "induced-lodge",
   "metadata": {},
   "outputs": [],
   "source": [
    "# hide\n",
    "from nbdev.showdoc import *\n",
    "from nbdev.imports import *\n",
    "if not os.environ.get(\"IN_TEST\", None):\n",
    "    assert IN_NOTEBOOK\n",
    "    assert not IN_COLAB\n",
    "    assert IN_IPYTHON"
   ]
  },
  {
   "cell_type": "code",
   "execution_count": null,
   "id": "returning-specific",
   "metadata": {},
   "outputs": [],
   "source": [
    "#Removethis # default_exp some_module"
   ]
  },
  {
   "cell_type": "code",
   "execution_count": null,
   "id": "juvenile-flesh",
   "metadata": {},
   "outputs": [],
   "source": [
    "#Removethis # export\n",
    "# Python native libs\n",
    "import os\n",
    "# Third party Libs\n",
    "from fastcore.all import *\n",
    "# Local Libs"
   ]
  },
  {
   "cell_type": "markdown",
   "id": "rough-accident",
   "metadata": {},
   "source": [
    "# Notebook Template\n",
    "> Bare Minimum notebook"
   ]
  },
  {
   "cell_type": "code",
   "execution_count": null,
   "id": "matched-tissue",
   "metadata": {},
   "outputs": [
    {
     "name": "stdout",
     "output_type": "stream",
     "text": [
      "converting /home/fastrl_user/fastrl/nbs/index.ipynb to README.md\n",
      "Converted 00_nbdev_extension.ipynb.\n",
      "Converted 05_data.transforms.ipynb.\n",
      "Converted index.ipynb.\n",
      "Converted nbdev_template.ipynb.\n",
      "converting: /home/fastrl_user/fastrl/nbs/nbdev_template.ipynb\n"
     ]
    }
   ],
   "source": [
    "# hide\n",
    "from nbdev.export import *\n",
    "from nbdev.export2html import *\n",
    "from nbdev.cli import make_readme\n",
    "make_readme()\n",
    "notebook2script()\n",
    "notebook2html()"
   ]
  }
 ],
 "metadata": {
  "kernelspec": {
   "display_name": "Python 3",
   "language": "python",
   "name": "python3"
  }
 },
 "nbformat": 4,
 "nbformat_minor": 5
}
