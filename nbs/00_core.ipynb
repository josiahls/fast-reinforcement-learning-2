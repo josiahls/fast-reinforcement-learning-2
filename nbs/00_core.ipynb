{
 "cells": [
  {
   "cell_type": "code",
   "execution_count": null,
   "id": "recorded-arbitration",
   "metadata": {},
   "outputs": [],
   "source": [
    "#hide\n",
    "#skip\n",
    "! [ -e /content ] && pip install -Uqq fastrl['dev']  # upgrade fastrl on colab"
   ]
  },
  {
   "cell_type": "code",
   "execution_count": null,
   "id": "handled-requirement",
   "metadata": {},
   "outputs": [],
   "source": [
    "# hide\n",
    "from fastcore.imports import in_colab\n",
    "\n",
    "# Since colab still requires tornado<6, we don't want to import nbdev if we don't have to\n",
    "if not in_colab():\n",
    "    from nbdev.showdoc import *\n",
    "    from nbdev.imports import *\n",
    "    if not os.environ.get(\"IN_TEST\", None):\n",
    "        assert IN_NOTEBOOK\n",
    "        assert not IN_COLAB\n",
    "        assert IN_IPYTHON"
   ]
  },
  {
   "cell_type": "code",
   "execution_count": null,
   "id": "absolute-minimum",
   "metadata": {},
   "outputs": [],
   "source": [
    "# export\n",
    "# Python native modules\n",
    "import os,warnings\n",
    "# Third party libs\n",
    "from fastcore.all import *\n",
    "from fastai.torch_core import *\n",
    "from fastai.basics import *\n",
    "import pandas as pd\n",
    "import torch\n",
    "import numpy as np\n",
    "# Local modules"
   ]
  },
  {
   "cell_type": "code",
   "execution_count": null,
   "id": "competitive-provider",
   "metadata": {},
   "outputs": [],
   "source": [
    "# default_exp core"
   ]
  },
  {
   "cell_type": "markdown",
   "id": "ancient-functionality",
   "metadata": {},
   "source": [
    "# Core\n",
    "> Core libs for fastrl"
   ]
  },
  {
   "cell_type": "markdown",
   "id": "tropical-there",
   "metadata": {},
   "source": [
    "## D\n",
    "> A better dictionary"
   ]
  },
  {
   "cell_type": "code",
   "execution_count": null,
   "id": "lonely-citizenship",
   "metadata": {},
   "outputs": [],
   "source": [
    "# export\n",
    "def map_dict_ex(d,f,*args,gen=False,wise=None,**kwargs):\n",
    "    \"Like `map`, but for dicts and uses `bind`, and supports `str` and indexing\"\n",
    "    g = (bind(f,*args,**kwargs) if callable(f)\n",
    "         else f.format if isinstance(f,str)\n",
    "         else f.__getitem__)\n",
    "\n",
    "    if wise is None:  return map(g,d.items())\n",
    "    return ((k,g(v)) if wise=='value' else (g(k),v) for k,v in d.items())"
   ]
  },
  {
   "cell_type": "markdown",
   "id": "married-battery",
   "metadata": {},
   "source": [
    "Check that general mapping for dicts works nicely..."
   ]
  },
  {
   "cell_type": "code",
   "execution_count": null,
   "id": "combined-premium",
   "metadata": {},
   "outputs": [],
   "source": [
    "test_dict={'a':1,'b':2,'c':3}\n",
    "test_eq(dict(map_dict_ex(test_dict,lambda t:(t[0]+'_new',t[1]+1))),{'a_new':2,'b_new':3,'c_new':4})"
   ]
  },
  {
   "cell_type": "markdown",
   "id": "compliant-literature",
   "metadata": {},
   "source": [
    "Check that key and value wise mapping works correctly..."
   ]
  },
  {
   "cell_type": "code",
   "execution_count": null,
   "id": "minimal-coral",
   "metadata": {},
   "outputs": [],
   "source": [
    "test_eq(dict(map_dict_ex(test_dict,lambda k:k+'_new',wise='key')),{'a_new':1,'b_new':2,'c_new':3})\n",
    "test_eq(dict(map_dict_ex(test_dict,lambda v:v+1,wise='value')),{'a':2,'b':3,'c':4})"
   ]
  },
  {
   "cell_type": "code",
   "execution_count": null,
   "id": "unlike-scope",
   "metadata": {},
   "outputs": [],
   "source": [
    "# export\n",
    "_error_msg='Found idxs: %s have values more than %s e.g.: %s'\n",
    "\n",
    "class D(dict):\n",
    "    \"Improved version of `dict` with array handling abilities\"\n",
    "    def __init__(self,*args,mapping=False,**kwargs):\n",
    "        self.mapping=mapping\n",
    "        super().__init__(*args,**kwargs)\n",
    "        \n",
    "    def eq_k(self,o:'D',with_diff=False):\n",
    "        eq=set(o.keys())==set(self.keys())\n",
    "        if with_diff: return eq,set(o.keys()).symmetric_difference(set(self.keys()))\n",
    "        return eq\n",
    "    def _new(self,*args,**kwargs): return type(self)(*args,**kwargs)\n",
    "    \n",
    "    def map(self,f,*args,gen=False,**kwargs): \n",
    "        return (self._new,noop)[gen](map_dict_ex(self,f,*args,**kwargs),mapping=True)\n",
    "    def mapk(self,f,*args,gen=False,wise='key',**kwargs):\n",
    "        return self.map(f,*args,gen=gen,wise=wise,**kwargs)\n",
    "    def mapv(self,f,*args,gen=False,wise='value',**kwargs):\n",
    "        return self.map(f,*args,gen=gen,wise=wise,**kwargs)"
   ]
  },
  {
   "cell_type": "code",
   "execution_count": null,
   "id": "fancy-aerospace",
   "metadata": {},
   "outputs": [],
   "source": [
    "test_dict=D({'a':1,'b':2,'c':3})\n",
    "test_eq(test_dict.map(lambda t:(t[0]+'_new',t[1]+1)),{'a_new':2,'b_new':3,'c_new':4})\n",
    "test_eq(isinstance(test_dict.map(lambda t:(t[0]+'_new',t[1]+1),gen=True),map),True)\n",
    "test_eq(dict(test_dict.map(lambda t:(t[0]+'_new',t[1]+1),gen=True)),{'a_new':2,'b_new':3,'c_new':4})\n",
    "\n",
    "test_eq(test_dict.mapk(lambda k:k+'_new'),{'a_new':1,'b_new':2,'c_new':3})\n",
    "test_eq(dict(test_dict.mapk(lambda k:k+'_new',gen=True)),{'a_new':1,'b_new':2,'c_new':3})\n",
    "\n",
    "test_eq(test_dict.mapv(lambda v:v+1,wise='value'),{'a':2,'b':3,'c':4})\n",
    "test_eq(dict(test_dict.mapv(lambda v:v+1,gen=True,wise='value')),{'a':2,'b':3,'c':4})"
   ]
  },
  {
   "cell_type": "markdown",
   "id": "difficult-convergence",
   "metadata": {},
   "source": [
    "`BD` is the primary data structure that `fastrl` uses. It allows for easily iterating and doing operations on steps attained from environments."
   ]
  },
  {
   "cell_type": "markdown",
   "id": "civilian-toilet",
   "metadata": {},
   "source": [
    "## BD \n",
    "> A batch wise dictionary that requires all values to be numpy,tensor, or None."
   ]
  },
  {
   "cell_type": "markdown",
   "id": "immune-interest",
   "metadata": {},
   "source": [
    "We need to change any indexer that is passed. We don't know if the indexer is going to\n",
    "be a numpy array, slice, tensor, or int.\n",
    "All we know is 2 things:\n",
    "- If it is an int, the batch dim will disappear\n",
    "- If it is an indexer, then the batch dim will stay, but be smaller"
   ]
  },
  {
   "cell_type": "code",
   "execution_count": null,
   "id": "statistical-portugal",
   "metadata": {},
   "outputs": [],
   "source": [
    "# export\n",
    "def tensor2shape(k,t:Tensor):\n",
    "    \"Converts a tensor into a dict of shapes, or a 1d numpy array\"\n",
    "    return {\n",
    "        k:t.numpy().reshape(-1,) if len(t.shape)==2 and t.shape[1]==1 else \n",
    "        [str(t.shape)]*t.shape[0]\n",
    "    }"
   ]
  },
  {
   "cell_type": "markdown",
   "id": "subsequent-sender",
   "metadata": {},
   "source": [
    "`tensor2shape` is a function for preparing tensors for showing in pandas. For example\n",
    "if we have a tensor that has 5 dimensions, it would be very hard to read if displayed in pandas"
   ]
  },
  {
   "cell_type": "code",
   "execution_count": null,
   "id": "revised-moses",
   "metadata": {},
   "outputs": [],
   "source": [
    "test_eq(tensor2shape('test',torch.randn(3,5)),\n",
    "       {'test': ['torch.Size([3, 5])', 'torch.Size([3, 5])', 'torch.Size([3, 5])']})"
   ]
  },
  {
   "cell_type": "markdown",
   "id": "monetary-penetration",
   "metadata": {},
   "source": [
    "If the tensor has only 1 channel, then we can show its literal value..."
   ]
  },
  {
   "cell_type": "code",
   "execution_count": null,
   "id": "medium-brown",
   "metadata": {},
   "outputs": [],
   "source": [
    "test_eq(tensor2shape('test',torch.tensor([[1],[2],[3]]))['test'],\n",
    "        {'test': np.array([1, 2, 3])}['test'])"
   ]
  },
  {
   "cell_type": "code",
   "execution_count": null,
   "id": "blank-closer",
   "metadata": {},
   "outputs": [],
   "source": [
    "# export\n",
    "def tensor2mu(k,t:Tensor): return {f'{k}_mu':t.reshape(t.shape[0],-1).double().mean(axis=1)}\n",
    "tensor2mu.__docs__=\"Returns a dict with key `k`_mu with the mean of `t` batchwise \""
   ]
  },
  {
   "cell_type": "markdown",
   "id": "heard-ghost",
   "metadata": {},
   "source": [
    "Outputs a dictionary that has the mean of the tensor. The returned dictionary's keys \n",
    "have the naming convention: *[k]_mu*."
   ]
  },
  {
   "cell_type": "code",
   "execution_count": null,
   "id": "mounted-aircraft",
   "metadata": {},
   "outputs": [],
   "source": [
    "o=torch.randn(3,5)\n",
    "test_eq(tensor2mu('test',o)['test_mu'],{'test_mu': o.double().mean(axis=1)}['test_mu'])"
   ]
  },
  {
   "cell_type": "code",
   "execution_count": null,
   "id": "seventh-apparel",
   "metadata": {},
   "outputs": [],
   "source": [
    "# export\n",
    "def obj2tensor(o):\n",
    "    return (o if isinstance(o,Tensor) else\n",
    "            Tensor(o) if isinstance(o,(L,list,np.ndarray)) else\n",
    "            Tensor([o]))    "
   ]
  },
  {
   "cell_type": "markdown",
   "id": "beneficial-block",
   "metadata": {},
   "source": [
    "After passing through the init, we convert all values into tensors.\n",
    "The expected batchsize is 1, however increments based on merges/adds.\n",
    "And convert shapes on 3 different conditions:\n",
    "```python\n",
    "    - bs==1 and len shape < 2 and shape[0]==bs, then reshape(-1,1)\n",
    "    - bs==1 and len shape < 2 and shape[0]!=bs, then unsqueeze(0)\n",
    "    - bs==1 and len shape > 1 and shape[0]==bs, then pass\n",
    "    - bs==1 and len shape > 1 and shape[0]!=bs, then unsqueeze(0)\n",
    "```\n",
    "If bs!=1 then BS will have limited reshaping behavior. \n",
    "```python\n",
    "    - bs!=1 and len shape < 2 and shape[0]==bs, then reshape(-1,1)\n",
    "    - bs!=1 and len shape < 2 and shape[0]!=bs, then raise error\n",
    "    - bs!=1 and len shape > 1 and shape[0]==bs, then pass\n",
    "    - bs!=1 and len shape > 1 and shape[0]==1 and shape[1]==bs, then squeeze(0)\n",
    "    - bs!=1 and len shape > 1 and shape[0],shape[1]!=bs, then raise error\n",
    "```"
   ]
  },
  {
   "cell_type": "code",
   "execution_count": null,
   "id": "acceptable-arthritis",
   "metadata": {},
   "outputs": [],
   "source": [
    "# export\n",
    "class UnCollateble(Exception):pass\n",
    "def collate(v,bs):\n",
    "    if bs==1:\n",
    "        if len(v.shape)==1 and v.shape[0]==bs: return v.reshape(-1,1)\n",
    "        if len(v.shape)==1 and v.shape[0]!=bs: return v.unsqueeze(0)\n",
    "        if len(v.shape)>1 and v.shape[0]==bs:  return v\n",
    "        if len(v.shape)>1 and v.shape[0]!=bs:  return v.unsqueeze(0)\n",
    "    else:\n",
    "        if len(v.shape)==1 and v.shape[0]==bs: return v.reshape(-1,1)\n",
    "        if len(v.shape)==1 and v.shape[0]!=bs: \n",
    "            raise UnCollateble(f'Cant handle {v} since bs:{bs} shape:{v.shape} are incompatible')\n",
    "        if len(v.shape)>1 and v.shape[0]==bs:  return v \n",
    "        if len(v.shape)>1 and v.shape[0]==1 and v.shape[1]==bs: return v.squeeze(0)  \n",
    "        if len(v.shape)>1 and bs not in v.shape[:2]: \n",
    "            raise UnCollateble(f'Cant handle {v} since bs:{bs} shape:{v.shape} are incompatible')\n",
    "\n",
    "class BD(D):\n",
    "    def __init__(self,*args,v=False,bs=1,**kwargs):\n",
    "        store_attr()\n",
    "        super().__init__(*args,**kwargs)\n",
    "        if not self.mapping: self.update(self.mapv(obj2tensor))\n",
    "        if self.bs is None: self.bs=list(self.values())[0].shape[0]\n",
    "        if not self.mapping: self.update(self.mapv(collate,bs=self.bs))\n",
    "    \n",
    "    def __radd__(self,o): return self if isinstance(o,int) else self.__add__(o) \n",
    "    def __add__(self,o):\n",
    "        return BD({k:torch.vstack((self[k],o[k])) for k in self},bs=self.bs+o.bs)\n",
    "    def __getitem__(self,o):\n",
    "        if isinstance(o,int) or is_listy(o) or isinstance(o,Tensor): \n",
    "            bs=1 if isinstance(o,int) else None\n",
    "            return type(self)({k:self[k][o] for k in self},bs=bs)\n",
    "        return super().__getitem__(o)\n",
    "    @classmethod\n",
    "    def merge(cls,*ds,**kwargs): return cls(merge(*ds),**kwargs)\n",
    "    \n",
    "    @delegates(pd.DataFrame)\n",
    "    def pandas(self,mu=False,**kwargs):\n",
    "        \"Turns a `BD` into a pandas Dataframe optionally showing `mu` of values.\"\n",
    "        return pd.DataFrame(merge(\n",
    "            *tuple(tensor2shape(k,v) for k,v in self.items()),\n",
    "            *(tuple(tensor2mu(k,v) for k,v in self.items()) if mu else ())\n",
    "        ),**kwargs)"
   ]
  },
  {
   "cell_type": "markdown",
   "id": "guilty-president",
   "metadata": {},
   "source": [
    "Probably the most important thing for `BD` is to allow as many ways of initializing as possible."
   ]
  },
  {
   "cell_type": "code",
   "execution_count": null,
   "id": "fixed-specific",
   "metadata": {},
   "outputs": [],
   "source": [
    "# Typical dictionary with an image field.\n",
    "example_1=lambda: {'state':np.random.rand(4,),'next_state':torch.rand(4,),\n",
    "                'action':[np.random.randint(0,2)],'reward':[np.random.ranf()],\n",
    "                'steps':[np.random.randint(0,20)],'episode_reward':[np.random.randint(5,40)],\n",
    "                'env':[np.random.randint(5,40)],'done':[np.random.randint(0,2)==0],\n",
    "                'image':torch.rand(5,5,3)}\n",
    "# If some fields have different shape\n",
    "example_2=lambda: {'state':np.random.rand(1,4),'next_state':torch.rand(1,4),\n",
    "                'action':L([np.random.randint(0,2)]),\n",
    "                'reward':L([np.random.ranf()]),\n",
    "                'steps':L([np.random.randint(0,20)]),\n",
    "                'episode_reward':L([np.random.randint(5,40)]),\n",
    "                'env':L([np.random.randint(5,40)]),\n",
    "                'done':L([np.random.randint(0,2)==0]),\n",
    "                'image':torch.rand(1,5,5,3)}\n",
    "# Single dict with has bs > 3\n",
    "example_3=lambda: {'state':np.random.rand(3,4),'next_state':torch.rand(3,4),\n",
    "                'action':L.range(3).map(lambda _:np.random.randint(0,2)),\n",
    "                'reward':L.range(3).map(lambda _:np.random.ranf()),\n",
    "                'steps':L.range(3).map(lambda _:np.random.randint(0,20)),\n",
    "                'episode_reward':L.range(3).map(lambda _:np.random.randint(5,40)),\n",
    "                'env':L.range(3).map(lambda _:np.random.randint(5,40)),\n",
    "                'done':L.range(3).map(lambda _:np.random.randint(0,2)==0),\n",
    "                'image':torch.rand(3,5,5,3)}\n",
    "\n",
    "functions={'example 1':example_1,'example 2':example_2,'example 3':example_3}"
   ]
  },
  {
   "cell_type": "markdown",
   "id": "assisted-engagement",
   "metadata": {},
   "source": [
    "Lets check what happens when a single dict is passed into the `__init__`"
   ]
  },
  {
   "cell_type": "code",
   "execution_count": null,
   "id": "organized-bulgaria",
   "metadata": {},
   "outputs": [
    {
     "name": "stdout",
     "output_type": "stream",
     "text": [
      "example 1\n"
     ]
    },
    {
     "data": {
      "text/html": [
       "<div>\n",
       "<style scoped>\n",
       "    .dataframe tbody tr th:only-of-type {\n",
       "        vertical-align: middle;\n",
       "    }\n",
       "\n",
       "    .dataframe tbody tr th {\n",
       "        vertical-align: top;\n",
       "    }\n",
       "\n",
       "    .dataframe thead th {\n",
       "        text-align: right;\n",
       "    }\n",
       "</style>\n",
       "<table border=\"1\" class=\"dataframe\">\n",
       "  <thead>\n",
       "    <tr style=\"text-align: right;\">\n",
       "      <th></th>\n",
       "      <th>state</th>\n",
       "      <th>next_state</th>\n",
       "      <th>action</th>\n",
       "      <th>reward</th>\n",
       "      <th>steps</th>\n",
       "      <th>episode_reward</th>\n",
       "      <th>env</th>\n",
       "      <th>done</th>\n",
       "      <th>image</th>\n",
       "    </tr>\n",
       "  </thead>\n",
       "  <tbody>\n",
       "    <tr>\n",
       "      <th>0</th>\n",
       "      <td>torch.Size([1, 4])</td>\n",
       "      <td>torch.Size([1, 4])</td>\n",
       "      <td>1.0</td>\n",
       "      <td>0.316291</td>\n",
       "      <td>2.0</td>\n",
       "      <td>36.0</td>\n",
       "      <td>30.0</td>\n",
       "      <td>1.0</td>\n",
       "      <td>torch.Size([1, 5, 5, 3])</td>\n",
       "    </tr>\n",
       "  </tbody>\n",
       "</table>\n",
       "</div>"
      ],
      "text/plain": [
       "                state          next_state  action    reward  steps  \\\n",
       "0  torch.Size([1, 4])  torch.Size([1, 4])     1.0  0.316291    2.0   \n",
       "\n",
       "   episode_reward   env  done                     image  \n",
       "0            36.0  30.0   1.0  torch.Size([1, 5, 5, 3])  "
      ]
     },
     "metadata": {},
     "output_type": "display_data"
    },
    {
     "name": "stdout",
     "output_type": "stream",
     "text": [
      "example 2\n"
     ]
    },
    {
     "data": {
      "text/html": [
       "<div>\n",
       "<style scoped>\n",
       "    .dataframe tbody tr th:only-of-type {\n",
       "        vertical-align: middle;\n",
       "    }\n",
       "\n",
       "    .dataframe tbody tr th {\n",
       "        vertical-align: top;\n",
       "    }\n",
       "\n",
       "    .dataframe thead th {\n",
       "        text-align: right;\n",
       "    }\n",
       "</style>\n",
       "<table border=\"1\" class=\"dataframe\">\n",
       "  <thead>\n",
       "    <tr style=\"text-align: right;\">\n",
       "      <th></th>\n",
       "      <th>state</th>\n",
       "      <th>next_state</th>\n",
       "      <th>action</th>\n",
       "      <th>reward</th>\n",
       "      <th>steps</th>\n",
       "      <th>episode_reward</th>\n",
       "      <th>env</th>\n",
       "      <th>done</th>\n",
       "      <th>image</th>\n",
       "    </tr>\n",
       "  </thead>\n",
       "  <tbody>\n",
       "    <tr>\n",
       "      <th>0</th>\n",
       "      <td>torch.Size([1, 4])</td>\n",
       "      <td>torch.Size([1, 4])</td>\n",
       "      <td>0.0</td>\n",
       "      <td>0.150571</td>\n",
       "      <td>18.0</td>\n",
       "      <td>7.0</td>\n",
       "      <td>8.0</td>\n",
       "      <td>0.0</td>\n",
       "      <td>torch.Size([1, 5, 5, 3])</td>\n",
       "    </tr>\n",
       "  </tbody>\n",
       "</table>\n",
       "</div>"
      ],
      "text/plain": [
       "                state          next_state  action    reward  steps  \\\n",
       "0  torch.Size([1, 4])  torch.Size([1, 4])     0.0  0.150571   18.0   \n",
       "\n",
       "   episode_reward  env  done                     image  \n",
       "0             7.0  8.0   0.0  torch.Size([1, 5, 5, 3])  "
      ]
     },
     "metadata": {},
     "output_type": "display_data"
    },
    {
     "name": "stdout",
     "output_type": "stream",
     "text": [
      "example 3\n"
     ]
    },
    {
     "data": {
      "text/html": [
       "<div>\n",
       "<style scoped>\n",
       "    .dataframe tbody tr th:only-of-type {\n",
       "        vertical-align: middle;\n",
       "    }\n",
       "\n",
       "    .dataframe tbody tr th {\n",
       "        vertical-align: top;\n",
       "    }\n",
       "\n",
       "    .dataframe thead th {\n",
       "        text-align: right;\n",
       "    }\n",
       "</style>\n",
       "<table border=\"1\" class=\"dataframe\">\n",
       "  <thead>\n",
       "    <tr style=\"text-align: right;\">\n",
       "      <th></th>\n",
       "      <th>state</th>\n",
       "      <th>next_state</th>\n",
       "      <th>action</th>\n",
       "      <th>reward</th>\n",
       "      <th>steps</th>\n",
       "      <th>episode_reward</th>\n",
       "      <th>env</th>\n",
       "      <th>done</th>\n",
       "      <th>image</th>\n",
       "    </tr>\n",
       "  </thead>\n",
       "  <tbody>\n",
       "    <tr>\n",
       "      <th>0</th>\n",
       "      <td>torch.Size([1, 3, 4])</td>\n",
       "      <td>torch.Size([1, 3, 4])</td>\n",
       "      <td>torch.Size([1, 3])</td>\n",
       "      <td>torch.Size([1, 3])</td>\n",
       "      <td>torch.Size([1, 3])</td>\n",
       "      <td>torch.Size([1, 3])</td>\n",
       "      <td>torch.Size([1, 3])</td>\n",
       "      <td>torch.Size([1, 3])</td>\n",
       "      <td>torch.Size([1, 3, 5, 5, 3])</td>\n",
       "    </tr>\n",
       "  </tbody>\n",
       "</table>\n",
       "</div>"
      ],
      "text/plain": [
       "                   state             next_state              action  \\\n",
       "0  torch.Size([1, 3, 4])  torch.Size([1, 3, 4])  torch.Size([1, 3])   \n",
       "\n",
       "               reward               steps      episode_reward  \\\n",
       "0  torch.Size([1, 3])  torch.Size([1, 3])  torch.Size([1, 3])   \n",
       "\n",
       "                  env                done                        image  \n",
       "0  torch.Size([1, 3])  torch.Size([1, 3])  torch.Size([1, 3, 5, 5, 3])  "
      ]
     },
     "metadata": {},
     "output_type": "display_data"
    }
   ],
   "source": [
    "for k,f in functions.items():\n",
    "    print(k)\n",
    "    display(BD(f()).pandas())"
   ]
  },
  {
   "cell_type": "markdown",
   "id": "going-apollo",
   "metadata": {},
   "source": [
    "Hm seems like the shape above is not what we want. `BS` will only do limited reshaping/fixing.\n",
    "Although it could possibly check the shapes if they are all the same batch, it is likely better for the\n",
    "user define specifically what batch size they are expecting."
   ]
  },
  {
   "cell_type": "code",
   "execution_count": null,
   "id": "durable-sussex",
   "metadata": {},
   "outputs": [
    {
     "data": {
      "text/html": [
       "<div>\n",
       "<style scoped>\n",
       "    .dataframe tbody tr th:only-of-type {\n",
       "        vertical-align: middle;\n",
       "    }\n",
       "\n",
       "    .dataframe tbody tr th {\n",
       "        vertical-align: top;\n",
       "    }\n",
       "\n",
       "    .dataframe thead th {\n",
       "        text-align: right;\n",
       "    }\n",
       "</style>\n",
       "<table border=\"1\" class=\"dataframe\">\n",
       "  <thead>\n",
       "    <tr style=\"text-align: right;\">\n",
       "      <th></th>\n",
       "      <th>state</th>\n",
       "      <th>next_state</th>\n",
       "      <th>action</th>\n",
       "      <th>reward</th>\n",
       "      <th>steps</th>\n",
       "      <th>episode_reward</th>\n",
       "      <th>env</th>\n",
       "      <th>done</th>\n",
       "      <th>image</th>\n",
       "    </tr>\n",
       "  </thead>\n",
       "  <tbody>\n",
       "    <tr>\n",
       "      <th>0</th>\n",
       "      <td>torch.Size([3, 4])</td>\n",
       "      <td>torch.Size([3, 4])</td>\n",
       "      <td>0.0</td>\n",
       "      <td>0.747427</td>\n",
       "      <td>15.0</td>\n",
       "      <td>18.0</td>\n",
       "      <td>38.0</td>\n",
       "      <td>1.0</td>\n",
       "      <td>torch.Size([3, 5, 5, 3])</td>\n",
       "    </tr>\n",
       "    <tr>\n",
       "      <th>1</th>\n",
       "      <td>torch.Size([3, 4])</td>\n",
       "      <td>torch.Size([3, 4])</td>\n",
       "      <td>0.0</td>\n",
       "      <td>0.958449</td>\n",
       "      <td>5.0</td>\n",
       "      <td>19.0</td>\n",
       "      <td>14.0</td>\n",
       "      <td>0.0</td>\n",
       "      <td>torch.Size([3, 5, 5, 3])</td>\n",
       "    </tr>\n",
       "    <tr>\n",
       "      <th>2</th>\n",
       "      <td>torch.Size([3, 4])</td>\n",
       "      <td>torch.Size([3, 4])</td>\n",
       "      <td>1.0</td>\n",
       "      <td>0.816427</td>\n",
       "      <td>4.0</td>\n",
       "      <td>13.0</td>\n",
       "      <td>13.0</td>\n",
       "      <td>1.0</td>\n",
       "      <td>torch.Size([3, 5, 5, 3])</td>\n",
       "    </tr>\n",
       "  </tbody>\n",
       "</table>\n",
       "</div>"
      ],
      "text/plain": [
       "                state          next_state  action    reward  steps  \\\n",
       "0  torch.Size([3, 4])  torch.Size([3, 4])     0.0  0.747427   15.0   \n",
       "1  torch.Size([3, 4])  torch.Size([3, 4])     0.0  0.958449    5.0   \n",
       "2  torch.Size([3, 4])  torch.Size([3, 4])     1.0  0.816427    4.0   \n",
       "\n",
       "   episode_reward   env  done                     image  \n",
       "0            18.0  38.0   1.0  torch.Size([3, 5, 5, 3])  \n",
       "1            19.0  14.0   0.0  torch.Size([3, 5, 5, 3])  \n",
       "2            13.0  13.0   1.0  torch.Size([3, 5, 5, 3])  "
      ]
     },
     "execution_count": null,
     "metadata": {},
     "output_type": "execute_result"
    }
   ],
   "source": [
    "BD(example_3(),bs=3).pandas()"
   ]
  },
  {
   "cell_type": "markdown",
   "id": "coordinate-plain",
   "metadata": {},
   "source": [
    "As expected, passing dicts into `BD` kwargs should also work..."
   ]
  },
  {
   "cell_type": "code",
   "execution_count": null,
   "id": "athletic-forty",
   "metadata": {},
   "outputs": [
    {
     "name": "stdout",
     "output_type": "stream",
     "text": [
      "example 1\n"
     ]
    },
    {
     "data": {
      "text/html": [
       "<div>\n",
       "<style scoped>\n",
       "    .dataframe tbody tr th:only-of-type {\n",
       "        vertical-align: middle;\n",
       "    }\n",
       "\n",
       "    .dataframe tbody tr th {\n",
       "        vertical-align: top;\n",
       "    }\n",
       "\n",
       "    .dataframe thead th {\n",
       "        text-align: right;\n",
       "    }\n",
       "</style>\n",
       "<table border=\"1\" class=\"dataframe\">\n",
       "  <thead>\n",
       "    <tr style=\"text-align: right;\">\n",
       "      <th></th>\n",
       "      <th>state</th>\n",
       "      <th>next_state</th>\n",
       "      <th>action</th>\n",
       "      <th>reward</th>\n",
       "      <th>steps</th>\n",
       "      <th>episode_reward</th>\n",
       "      <th>env</th>\n",
       "      <th>done</th>\n",
       "      <th>image</th>\n",
       "    </tr>\n",
       "  </thead>\n",
       "  <tbody>\n",
       "    <tr>\n",
       "      <th>0</th>\n",
       "      <td>torch.Size([1, 4])</td>\n",
       "      <td>torch.Size([1, 4])</td>\n",
       "      <td>0.0</td>\n",
       "      <td>0.607529</td>\n",
       "      <td>3.0</td>\n",
       "      <td>15.0</td>\n",
       "      <td>24.0</td>\n",
       "      <td>1.0</td>\n",
       "      <td>torch.Size([1, 5, 5, 3])</td>\n",
       "    </tr>\n",
       "  </tbody>\n",
       "</table>\n",
       "</div>"
      ],
      "text/plain": [
       "                state          next_state  action    reward  steps  \\\n",
       "0  torch.Size([1, 4])  torch.Size([1, 4])     0.0  0.607529    3.0   \n",
       "\n",
       "   episode_reward   env  done                     image  \n",
       "0            15.0  24.0   1.0  torch.Size([1, 5, 5, 3])  "
      ]
     },
     "metadata": {},
     "output_type": "display_data"
    },
    {
     "name": "stdout",
     "output_type": "stream",
     "text": [
      "example 2\n"
     ]
    },
    {
     "data": {
      "text/html": [
       "<div>\n",
       "<style scoped>\n",
       "    .dataframe tbody tr th:only-of-type {\n",
       "        vertical-align: middle;\n",
       "    }\n",
       "\n",
       "    .dataframe tbody tr th {\n",
       "        vertical-align: top;\n",
       "    }\n",
       "\n",
       "    .dataframe thead th {\n",
       "        text-align: right;\n",
       "    }\n",
       "</style>\n",
       "<table border=\"1\" class=\"dataframe\">\n",
       "  <thead>\n",
       "    <tr style=\"text-align: right;\">\n",
       "      <th></th>\n",
       "      <th>state</th>\n",
       "      <th>next_state</th>\n",
       "      <th>action</th>\n",
       "      <th>reward</th>\n",
       "      <th>steps</th>\n",
       "      <th>episode_reward</th>\n",
       "      <th>env</th>\n",
       "      <th>done</th>\n",
       "      <th>image</th>\n",
       "    </tr>\n",
       "  </thead>\n",
       "  <tbody>\n",
       "    <tr>\n",
       "      <th>0</th>\n",
       "      <td>torch.Size([1, 4])</td>\n",
       "      <td>torch.Size([1, 4])</td>\n",
       "      <td>1.0</td>\n",
       "      <td>0.591736</td>\n",
       "      <td>5.0</td>\n",
       "      <td>38.0</td>\n",
       "      <td>38.0</td>\n",
       "      <td>1.0</td>\n",
       "      <td>torch.Size([1, 5, 5, 3])</td>\n",
       "    </tr>\n",
       "  </tbody>\n",
       "</table>\n",
       "</div>"
      ],
      "text/plain": [
       "                state          next_state  action    reward  steps  \\\n",
       "0  torch.Size([1, 4])  torch.Size([1, 4])     1.0  0.591736    5.0   \n",
       "\n",
       "   episode_reward   env  done                     image  \n",
       "0            38.0  38.0   1.0  torch.Size([1, 5, 5, 3])  "
      ]
     },
     "metadata": {},
     "output_type": "display_data"
    },
    {
     "name": "stdout",
     "output_type": "stream",
     "text": [
      "example 3\n"
     ]
    },
    {
     "data": {
      "text/html": [
       "<div>\n",
       "<style scoped>\n",
       "    .dataframe tbody tr th:only-of-type {\n",
       "        vertical-align: middle;\n",
       "    }\n",
       "\n",
       "    .dataframe tbody tr th {\n",
       "        vertical-align: top;\n",
       "    }\n",
       "\n",
       "    .dataframe thead th {\n",
       "        text-align: right;\n",
       "    }\n",
       "</style>\n",
       "<table border=\"1\" class=\"dataframe\">\n",
       "  <thead>\n",
       "    <tr style=\"text-align: right;\">\n",
       "      <th></th>\n",
       "      <th>state</th>\n",
       "      <th>next_state</th>\n",
       "      <th>action</th>\n",
       "      <th>reward</th>\n",
       "      <th>steps</th>\n",
       "      <th>episode_reward</th>\n",
       "      <th>env</th>\n",
       "      <th>done</th>\n",
       "      <th>image</th>\n",
       "    </tr>\n",
       "  </thead>\n",
       "  <tbody>\n",
       "    <tr>\n",
       "      <th>0</th>\n",
       "      <td>torch.Size([1, 3, 4])</td>\n",
       "      <td>torch.Size([1, 3, 4])</td>\n",
       "      <td>torch.Size([1, 3])</td>\n",
       "      <td>torch.Size([1, 3])</td>\n",
       "      <td>torch.Size([1, 3])</td>\n",
       "      <td>torch.Size([1, 3])</td>\n",
       "      <td>torch.Size([1, 3])</td>\n",
       "      <td>torch.Size([1, 3])</td>\n",
       "      <td>torch.Size([1, 3, 5, 5, 3])</td>\n",
       "    </tr>\n",
       "  </tbody>\n",
       "</table>\n",
       "</div>"
      ],
      "text/plain": [
       "                   state             next_state              action  \\\n",
       "0  torch.Size([1, 3, 4])  torch.Size([1, 3, 4])  torch.Size([1, 3])   \n",
       "\n",
       "               reward               steps      episode_reward  \\\n",
       "0  torch.Size([1, 3])  torch.Size([1, 3])  torch.Size([1, 3])   \n",
       "\n",
       "                  env                done                        image  \n",
       "0  torch.Size([1, 3])  torch.Size([1, 3])  torch.Size([1, 3, 5, 5, 3])  "
      ]
     },
     "metadata": {},
     "output_type": "display_data"
    }
   ],
   "source": [
    "for k,f in functions.items():\n",
    "    print(k)\n",
    "    display(BD(**f()).pandas())"
   ]
  },
  {
   "cell_type": "markdown",
   "id": "experienced-african",
   "metadata": {},
   "source": [
    "Passing in itemwise tuples should also not be a problem..."
   ]
  },
  {
   "cell_type": "code",
   "execution_count": null,
   "id": "removable-garbage",
   "metadata": {},
   "outputs": [
    {
     "name": "stdout",
     "output_type": "stream",
     "text": [
      "example 1\n"
     ]
    },
    {
     "data": {
      "text/html": [
       "<div>\n",
       "<style scoped>\n",
       "    .dataframe tbody tr th:only-of-type {\n",
       "        vertical-align: middle;\n",
       "    }\n",
       "\n",
       "    .dataframe tbody tr th {\n",
       "        vertical-align: top;\n",
       "    }\n",
       "\n",
       "    .dataframe thead th {\n",
       "        text-align: right;\n",
       "    }\n",
       "</style>\n",
       "<table border=\"1\" class=\"dataframe\">\n",
       "  <thead>\n",
       "    <tr style=\"text-align: right;\">\n",
       "      <th></th>\n",
       "      <th>state</th>\n",
       "      <th>next_state</th>\n",
       "      <th>action</th>\n",
       "      <th>reward</th>\n",
       "      <th>steps</th>\n",
       "      <th>episode_reward</th>\n",
       "      <th>env</th>\n",
       "      <th>done</th>\n",
       "      <th>image</th>\n",
       "    </tr>\n",
       "  </thead>\n",
       "  <tbody>\n",
       "    <tr>\n",
       "      <th>0</th>\n",
       "      <td>torch.Size([1, 4])</td>\n",
       "      <td>torch.Size([1, 4])</td>\n",
       "      <td>0.0</td>\n",
       "      <td>0.567727</td>\n",
       "      <td>17.0</td>\n",
       "      <td>24.0</td>\n",
       "      <td>13.0</td>\n",
       "      <td>0.0</td>\n",
       "      <td>torch.Size([1, 5, 5, 3])</td>\n",
       "    </tr>\n",
       "  </tbody>\n",
       "</table>\n",
       "</div>"
      ],
      "text/plain": [
       "                state          next_state  action    reward  steps  \\\n",
       "0  torch.Size([1, 4])  torch.Size([1, 4])     0.0  0.567727   17.0   \n",
       "\n",
       "   episode_reward   env  done                     image  \n",
       "0            24.0  13.0   0.0  torch.Size([1, 5, 5, 3])  "
      ]
     },
     "metadata": {},
     "output_type": "display_data"
    },
    {
     "name": "stdout",
     "output_type": "stream",
     "text": [
      "example 2\n"
     ]
    },
    {
     "data": {
      "text/html": [
       "<div>\n",
       "<style scoped>\n",
       "    .dataframe tbody tr th:only-of-type {\n",
       "        vertical-align: middle;\n",
       "    }\n",
       "\n",
       "    .dataframe tbody tr th {\n",
       "        vertical-align: top;\n",
       "    }\n",
       "\n",
       "    .dataframe thead th {\n",
       "        text-align: right;\n",
       "    }\n",
       "</style>\n",
       "<table border=\"1\" class=\"dataframe\">\n",
       "  <thead>\n",
       "    <tr style=\"text-align: right;\">\n",
       "      <th></th>\n",
       "      <th>state</th>\n",
       "      <th>next_state</th>\n",
       "      <th>action</th>\n",
       "      <th>reward</th>\n",
       "      <th>steps</th>\n",
       "      <th>episode_reward</th>\n",
       "      <th>env</th>\n",
       "      <th>done</th>\n",
       "      <th>image</th>\n",
       "    </tr>\n",
       "  </thead>\n",
       "  <tbody>\n",
       "    <tr>\n",
       "      <th>0</th>\n",
       "      <td>torch.Size([1, 4])</td>\n",
       "      <td>torch.Size([1, 4])</td>\n",
       "      <td>0.0</td>\n",
       "      <td>0.133824</td>\n",
       "      <td>13.0</td>\n",
       "      <td>33.0</td>\n",
       "      <td>13.0</td>\n",
       "      <td>0.0</td>\n",
       "      <td>torch.Size([1, 5, 5, 3])</td>\n",
       "    </tr>\n",
       "  </tbody>\n",
       "</table>\n",
       "</div>"
      ],
      "text/plain": [
       "                state          next_state  action    reward  steps  \\\n",
       "0  torch.Size([1, 4])  torch.Size([1, 4])     0.0  0.133824   13.0   \n",
       "\n",
       "   episode_reward   env  done                     image  \n",
       "0            33.0  13.0   0.0  torch.Size([1, 5, 5, 3])  "
      ]
     },
     "metadata": {},
     "output_type": "display_data"
    },
    {
     "name": "stdout",
     "output_type": "stream",
     "text": [
      "example 3\n"
     ]
    },
    {
     "data": {
      "text/html": [
       "<div>\n",
       "<style scoped>\n",
       "    .dataframe tbody tr th:only-of-type {\n",
       "        vertical-align: middle;\n",
       "    }\n",
       "\n",
       "    .dataframe tbody tr th {\n",
       "        vertical-align: top;\n",
       "    }\n",
       "\n",
       "    .dataframe thead th {\n",
       "        text-align: right;\n",
       "    }\n",
       "</style>\n",
       "<table border=\"1\" class=\"dataframe\">\n",
       "  <thead>\n",
       "    <tr style=\"text-align: right;\">\n",
       "      <th></th>\n",
       "      <th>state</th>\n",
       "      <th>next_state</th>\n",
       "      <th>action</th>\n",
       "      <th>reward</th>\n",
       "      <th>steps</th>\n",
       "      <th>episode_reward</th>\n",
       "      <th>env</th>\n",
       "      <th>done</th>\n",
       "      <th>image</th>\n",
       "    </tr>\n",
       "  </thead>\n",
       "  <tbody>\n",
       "    <tr>\n",
       "      <th>0</th>\n",
       "      <td>torch.Size([1, 3, 4])</td>\n",
       "      <td>torch.Size([1, 3, 4])</td>\n",
       "      <td>torch.Size([1, 3])</td>\n",
       "      <td>torch.Size([1, 3])</td>\n",
       "      <td>torch.Size([1, 3])</td>\n",
       "      <td>torch.Size([1, 3])</td>\n",
       "      <td>torch.Size([1, 3])</td>\n",
       "      <td>torch.Size([1, 3])</td>\n",
       "      <td>torch.Size([1, 3, 5, 5, 3])</td>\n",
       "    </tr>\n",
       "  </tbody>\n",
       "</table>\n",
       "</div>"
      ],
      "text/plain": [
       "                   state             next_state              action  \\\n",
       "0  torch.Size([1, 3, 4])  torch.Size([1, 3, 4])  torch.Size([1, 3])   \n",
       "\n",
       "               reward               steps      episode_reward  \\\n",
       "0  torch.Size([1, 3])  torch.Size([1, 3])  torch.Size([1, 3])   \n",
       "\n",
       "                  env                done                        image  \n",
       "0  torch.Size([1, 3])  torch.Size([1, 3])  torch.Size([1, 3, 5, 5, 3])  "
      ]
     },
     "metadata": {},
     "output_type": "display_data"
    }
   ],
   "source": [
    "for k,f in functions.items():\n",
    "    print(k)\n",
    "    display(BD(((k,v) for k,v in f().items())).pandas())"
   ]
  },
  {
   "cell_type": "code",
   "execution_count": null,
   "id": "close-viking",
   "metadata": {},
   "outputs": [
    {
     "name": "stdout",
     "output_type": "stream",
     "text": [
      "example 1\n"
     ]
    },
    {
     "data": {
      "text/html": [
       "<div>\n",
       "<style scoped>\n",
       "    .dataframe tbody tr th:only-of-type {\n",
       "        vertical-align: middle;\n",
       "    }\n",
       "\n",
       "    .dataframe tbody tr th {\n",
       "        vertical-align: top;\n",
       "    }\n",
       "\n",
       "    .dataframe thead th {\n",
       "        text-align: right;\n",
       "    }\n",
       "</style>\n",
       "<table border=\"1\" class=\"dataframe\">\n",
       "  <thead>\n",
       "    <tr style=\"text-align: right;\">\n",
       "      <th></th>\n",
       "      <th>state</th>\n",
       "      <th>next_state</th>\n",
       "      <th>action</th>\n",
       "      <th>reward</th>\n",
       "      <th>steps</th>\n",
       "      <th>episode_reward</th>\n",
       "      <th>env</th>\n",
       "      <th>done</th>\n",
       "      <th>image</th>\n",
       "    </tr>\n",
       "  </thead>\n",
       "  <tbody>\n",
       "    <tr>\n",
       "      <th>0</th>\n",
       "      <td>torch.Size([3, 4])</td>\n",
       "      <td>torch.Size([3, 4])</td>\n",
       "      <td>1.0</td>\n",
       "      <td>0.778721</td>\n",
       "      <td>18.0</td>\n",
       "      <td>11.0</td>\n",
       "      <td>16.0</td>\n",
       "      <td>1.0</td>\n",
       "      <td>torch.Size([3, 5, 5, 3])</td>\n",
       "    </tr>\n",
       "    <tr>\n",
       "      <th>1</th>\n",
       "      <td>torch.Size([3, 4])</td>\n",
       "      <td>torch.Size([3, 4])</td>\n",
       "      <td>0.0</td>\n",
       "      <td>0.240419</td>\n",
       "      <td>14.0</td>\n",
       "      <td>8.0</td>\n",
       "      <td>38.0</td>\n",
       "      <td>0.0</td>\n",
       "      <td>torch.Size([3, 5, 5, 3])</td>\n",
       "    </tr>\n",
       "    <tr>\n",
       "      <th>2</th>\n",
       "      <td>torch.Size([3, 4])</td>\n",
       "      <td>torch.Size([3, 4])</td>\n",
       "      <td>1.0</td>\n",
       "      <td>0.959504</td>\n",
       "      <td>18.0</td>\n",
       "      <td>7.0</td>\n",
       "      <td>11.0</td>\n",
       "      <td>0.0</td>\n",
       "      <td>torch.Size([3, 5, 5, 3])</td>\n",
       "    </tr>\n",
       "  </tbody>\n",
       "</table>\n",
       "</div>"
      ],
      "text/plain": [
       "                state          next_state  action    reward  steps  \\\n",
       "0  torch.Size([3, 4])  torch.Size([3, 4])     1.0  0.778721   18.0   \n",
       "1  torch.Size([3, 4])  torch.Size([3, 4])     0.0  0.240419   14.0   \n",
       "2  torch.Size([3, 4])  torch.Size([3, 4])     1.0  0.959504   18.0   \n",
       "\n",
       "   episode_reward   env  done                     image  \n",
       "0            11.0  16.0   1.0  torch.Size([3, 5, 5, 3])  \n",
       "1             8.0  38.0   0.0  torch.Size([3, 5, 5, 3])  \n",
       "2             7.0  11.0   0.0  torch.Size([3, 5, 5, 3])  "
      ]
     },
     "metadata": {},
     "output_type": "display_data"
    },
    {
     "name": "stdout",
     "output_type": "stream",
     "text": [
      "example 2\n"
     ]
    },
    {
     "data": {
      "text/html": [
       "<div>\n",
       "<style scoped>\n",
       "    .dataframe tbody tr th:only-of-type {\n",
       "        vertical-align: middle;\n",
       "    }\n",
       "\n",
       "    .dataframe tbody tr th {\n",
       "        vertical-align: top;\n",
       "    }\n",
       "\n",
       "    .dataframe thead th {\n",
       "        text-align: right;\n",
       "    }\n",
       "</style>\n",
       "<table border=\"1\" class=\"dataframe\">\n",
       "  <thead>\n",
       "    <tr style=\"text-align: right;\">\n",
       "      <th></th>\n",
       "      <th>state</th>\n",
       "      <th>next_state</th>\n",
       "      <th>action</th>\n",
       "      <th>reward</th>\n",
       "      <th>steps</th>\n",
       "      <th>episode_reward</th>\n",
       "      <th>env</th>\n",
       "      <th>done</th>\n",
       "      <th>image</th>\n",
       "    </tr>\n",
       "  </thead>\n",
       "  <tbody>\n",
       "    <tr>\n",
       "      <th>0</th>\n",
       "      <td>torch.Size([3, 4])</td>\n",
       "      <td>torch.Size([3, 4])</td>\n",
       "      <td>1.0</td>\n",
       "      <td>0.457843</td>\n",
       "      <td>16.0</td>\n",
       "      <td>27.0</td>\n",
       "      <td>10.0</td>\n",
       "      <td>0.0</td>\n",
       "      <td>torch.Size([3, 5, 5, 3])</td>\n",
       "    </tr>\n",
       "    <tr>\n",
       "      <th>1</th>\n",
       "      <td>torch.Size([3, 4])</td>\n",
       "      <td>torch.Size([3, 4])</td>\n",
       "      <td>1.0</td>\n",
       "      <td>0.011371</td>\n",
       "      <td>7.0</td>\n",
       "      <td>27.0</td>\n",
       "      <td>20.0</td>\n",
       "      <td>1.0</td>\n",
       "      <td>torch.Size([3, 5, 5, 3])</td>\n",
       "    </tr>\n",
       "    <tr>\n",
       "      <th>2</th>\n",
       "      <td>torch.Size([3, 4])</td>\n",
       "      <td>torch.Size([3, 4])</td>\n",
       "      <td>0.0</td>\n",
       "      <td>0.826068</td>\n",
       "      <td>2.0</td>\n",
       "      <td>38.0</td>\n",
       "      <td>9.0</td>\n",
       "      <td>1.0</td>\n",
       "      <td>torch.Size([3, 5, 5, 3])</td>\n",
       "    </tr>\n",
       "  </tbody>\n",
       "</table>\n",
       "</div>"
      ],
      "text/plain": [
       "                state          next_state  action    reward  steps  \\\n",
       "0  torch.Size([3, 4])  torch.Size([3, 4])     1.0  0.457843   16.0   \n",
       "1  torch.Size([3, 4])  torch.Size([3, 4])     1.0  0.011371    7.0   \n",
       "2  torch.Size([3, 4])  torch.Size([3, 4])     0.0  0.826068    2.0   \n",
       "\n",
       "   episode_reward   env  done                     image  \n",
       "0            27.0  10.0   0.0  torch.Size([3, 5, 5, 3])  \n",
       "1            27.0  20.0   1.0  torch.Size([3, 5, 5, 3])  \n",
       "2            38.0   9.0   1.0  torch.Size([3, 5, 5, 3])  "
      ]
     },
     "metadata": {},
     "output_type": "display_data"
    },
    {
     "name": "stdout",
     "output_type": "stream",
     "text": [
      "example 3\n"
     ]
    },
    {
     "data": {
      "text/html": [
       "<div>\n",
       "<style scoped>\n",
       "    .dataframe tbody tr th:only-of-type {\n",
       "        vertical-align: middle;\n",
       "    }\n",
       "\n",
       "    .dataframe tbody tr th {\n",
       "        vertical-align: top;\n",
       "    }\n",
       "\n",
       "    .dataframe thead th {\n",
       "        text-align: right;\n",
       "    }\n",
       "</style>\n",
       "<table border=\"1\" class=\"dataframe\">\n",
       "  <thead>\n",
       "    <tr style=\"text-align: right;\">\n",
       "      <th></th>\n",
       "      <th>state</th>\n",
       "      <th>next_state</th>\n",
       "      <th>action</th>\n",
       "      <th>reward</th>\n",
       "      <th>steps</th>\n",
       "      <th>episode_reward</th>\n",
       "      <th>env</th>\n",
       "      <th>done</th>\n",
       "      <th>image</th>\n",
       "    </tr>\n",
       "  </thead>\n",
       "  <tbody>\n",
       "    <tr>\n",
       "      <th>0</th>\n",
       "      <td>torch.Size([3, 4])</td>\n",
       "      <td>torch.Size([3, 4])</td>\n",
       "      <td>1.0</td>\n",
       "      <td>0.681567</td>\n",
       "      <td>8.0</td>\n",
       "      <td>28.0</td>\n",
       "      <td>37.0</td>\n",
       "      <td>1.0</td>\n",
       "      <td>torch.Size([3, 5, 5, 3])</td>\n",
       "    </tr>\n",
       "    <tr>\n",
       "      <th>1</th>\n",
       "      <td>torch.Size([3, 4])</td>\n",
       "      <td>torch.Size([3, 4])</td>\n",
       "      <td>0.0</td>\n",
       "      <td>0.078813</td>\n",
       "      <td>3.0</td>\n",
       "      <td>5.0</td>\n",
       "      <td>29.0</td>\n",
       "      <td>0.0</td>\n",
       "      <td>torch.Size([3, 5, 5, 3])</td>\n",
       "    </tr>\n",
       "    <tr>\n",
       "      <th>2</th>\n",
       "      <td>torch.Size([3, 4])</td>\n",
       "      <td>torch.Size([3, 4])</td>\n",
       "      <td>0.0</td>\n",
       "      <td>0.940886</td>\n",
       "      <td>17.0</td>\n",
       "      <td>36.0</td>\n",
       "      <td>11.0</td>\n",
       "      <td>1.0</td>\n",
       "      <td>torch.Size([3, 5, 5, 3])</td>\n",
       "    </tr>\n",
       "  </tbody>\n",
       "</table>\n",
       "</div>"
      ],
      "text/plain": [
       "                state          next_state  action    reward  steps  \\\n",
       "0  torch.Size([3, 4])  torch.Size([3, 4])     1.0  0.681567    8.0   \n",
       "1  torch.Size([3, 4])  torch.Size([3, 4])     0.0  0.078813    3.0   \n",
       "2  torch.Size([3, 4])  torch.Size([3, 4])     0.0  0.940886   17.0   \n",
       "\n",
       "   episode_reward   env  done                     image  \n",
       "0            28.0  37.0   1.0  torch.Size([3, 5, 5, 3])  \n",
       "1             5.0  29.0   0.0  torch.Size([3, 5, 5, 3])  \n",
       "2            36.0  11.0   1.0  torch.Size([3, 5, 5, 3])  "
      ]
     },
     "metadata": {},
     "output_type": "display_data"
    }
   ],
   "source": [
    "for k,f in functions.items():\n",
    "    original_bd=sum((BD(example_1()) for _ in range(20)))\n",
    "    print(k)\n",
    "    display(original_bd[[2,5,8]].pandas())"
   ]
  },
  {
   "cell_type": "markdown",
   "id": "enhanced-fever",
   "metadata": {},
   "source": [
    "It is also important that when we sum, that the batch size make sense..."
   ]
  },
  {
   "cell_type": "code",
   "execution_count": null,
   "id": "split-blues",
   "metadata": {},
   "outputs": [],
   "source": [
    "test_d=sum((BD(example_1()) for _ in range(20)))\n",
    "test_eq(test_d.bs,20)"
   ]
  },
  {
   "cell_type": "markdown",
   "id": "bearing-guarantee",
   "metadata": {},
   "source": [
    "Check that indexing works as well as the adjusting of the batch size..."
   ]
  },
  {
   "cell_type": "code",
   "execution_count": null,
   "id": "compact-bacteria",
   "metadata": {},
   "outputs": [
    {
     "data": {
      "text/html": [
       "<div>\n",
       "<style scoped>\n",
       "    .dataframe tbody tr th:only-of-type {\n",
       "        vertical-align: middle;\n",
       "    }\n",
       "\n",
       "    .dataframe tbody tr th {\n",
       "        vertical-align: top;\n",
       "    }\n",
       "\n",
       "    .dataframe thead th {\n",
       "        text-align: right;\n",
       "    }\n",
       "</style>\n",
       "<table border=\"1\" class=\"dataframe\">\n",
       "  <thead>\n",
       "    <tr style=\"text-align: right;\">\n",
       "      <th></th>\n",
       "      <th>state</th>\n",
       "      <th>next_state</th>\n",
       "      <th>action</th>\n",
       "      <th>reward</th>\n",
       "      <th>steps</th>\n",
       "      <th>episode_reward</th>\n",
       "      <th>env</th>\n",
       "      <th>done</th>\n",
       "      <th>image</th>\n",
       "    </tr>\n",
       "  </thead>\n",
       "  <tbody>\n",
       "    <tr>\n",
       "      <th>0</th>\n",
       "      <td>torch.Size([3, 4])</td>\n",
       "      <td>torch.Size([3, 4])</td>\n",
       "      <td>1.0</td>\n",
       "      <td>0.883429</td>\n",
       "      <td>5.0</td>\n",
       "      <td>8.0</td>\n",
       "      <td>24.0</td>\n",
       "      <td>1.0</td>\n",
       "      <td>torch.Size([3, 5, 5, 3])</td>\n",
       "    </tr>\n",
       "    <tr>\n",
       "      <th>1</th>\n",
       "      <td>torch.Size([3, 4])</td>\n",
       "      <td>torch.Size([3, 4])</td>\n",
       "      <td>0.0</td>\n",
       "      <td>0.335055</td>\n",
       "      <td>13.0</td>\n",
       "      <td>18.0</td>\n",
       "      <td>37.0</td>\n",
       "      <td>0.0</td>\n",
       "      <td>torch.Size([3, 5, 5, 3])</td>\n",
       "    </tr>\n",
       "    <tr>\n",
       "      <th>2</th>\n",
       "      <td>torch.Size([3, 4])</td>\n",
       "      <td>torch.Size([3, 4])</td>\n",
       "      <td>1.0</td>\n",
       "      <td>0.352697</td>\n",
       "      <td>19.0</td>\n",
       "      <td>17.0</td>\n",
       "      <td>32.0</td>\n",
       "      <td>1.0</td>\n",
       "      <td>torch.Size([3, 5, 5, 3])</td>\n",
       "    </tr>\n",
       "  </tbody>\n",
       "</table>\n",
       "</div>"
      ],
      "text/plain": [
       "                state          next_state  action    reward  steps  \\\n",
       "0  torch.Size([3, 4])  torch.Size([3, 4])     1.0  0.883429    5.0   \n",
       "1  torch.Size([3, 4])  torch.Size([3, 4])     0.0  0.335055   13.0   \n",
       "2  torch.Size([3, 4])  torch.Size([3, 4])     1.0  0.352697   19.0   \n",
       "\n",
       "   episode_reward   env  done                     image  \n",
       "0             8.0  24.0   1.0  torch.Size([3, 5, 5, 3])  \n",
       "1            18.0  37.0   0.0  torch.Size([3, 5, 5, 3])  \n",
       "2            17.0  32.0   1.0  torch.Size([3, 5, 5, 3])  "
      ]
     },
     "execution_count": null,
     "metadata": {},
     "output_type": "execute_result"
    }
   ],
   "source": [
    "test_eq(type(test_d['state']),Tensor)\n",
    "test_eq(type(test_d[5]),BD)\n",
    "test_eq(test_d[5:8].bs,3)\n",
    "test_d[5:8].pandas()"
   ]
  },
  {
   "cell_type": "code",
   "execution_count": null,
   "id": "female-florida",
   "metadata": {},
   "outputs": [
    {
     "data": {
      "text/html": [
       "<div>\n",
       "<style scoped>\n",
       "    .dataframe tbody tr th:only-of-type {\n",
       "        vertical-align: middle;\n",
       "    }\n",
       "\n",
       "    .dataframe tbody tr th {\n",
       "        vertical-align: top;\n",
       "    }\n",
       "\n",
       "    .dataframe thead th {\n",
       "        text-align: right;\n",
       "    }\n",
       "</style>\n",
       "<table border=\"1\" class=\"dataframe\">\n",
       "  <thead>\n",
       "    <tr style=\"text-align: right;\">\n",
       "      <th></th>\n",
       "      <th>state</th>\n",
       "      <th>next_state</th>\n",
       "      <th>action</th>\n",
       "      <th>reward</th>\n",
       "      <th>steps</th>\n",
       "      <th>episode_reward</th>\n",
       "      <th>env</th>\n",
       "      <th>done</th>\n",
       "      <th>image</th>\n",
       "    </tr>\n",
       "  </thead>\n",
       "  <tbody>\n",
       "    <tr>\n",
       "      <th>0</th>\n",
       "      <td>torch.Size([8, 4])</td>\n",
       "      <td>torch.Size([8, 4])</td>\n",
       "      <td>1.0</td>\n",
       "      <td>0.769159</td>\n",
       "      <td>9.0</td>\n",
       "      <td>16.0</td>\n",
       "      <td>21.0</td>\n",
       "      <td>0.0</td>\n",
       "      <td>torch.Size([8, 5, 5, 3])</td>\n",
       "    </tr>\n",
       "    <tr>\n",
       "      <th>1</th>\n",
       "      <td>torch.Size([8, 4])</td>\n",
       "      <td>torch.Size([8, 4])</td>\n",
       "      <td>1.0</td>\n",
       "      <td>0.665282</td>\n",
       "      <td>7.0</td>\n",
       "      <td>22.0</td>\n",
       "      <td>35.0</td>\n",
       "      <td>1.0</td>\n",
       "      <td>torch.Size([8, 5, 5, 3])</td>\n",
       "    </tr>\n",
       "    <tr>\n",
       "      <th>2</th>\n",
       "      <td>torch.Size([8, 4])</td>\n",
       "      <td>torch.Size([8, 4])</td>\n",
       "      <td>1.0</td>\n",
       "      <td>0.773795</td>\n",
       "      <td>0.0</td>\n",
       "      <td>18.0</td>\n",
       "      <td>16.0</td>\n",
       "      <td>1.0</td>\n",
       "      <td>torch.Size([8, 5, 5, 3])</td>\n",
       "    </tr>\n",
       "    <tr>\n",
       "      <th>3</th>\n",
       "      <td>torch.Size([8, 4])</td>\n",
       "      <td>torch.Size([8, 4])</td>\n",
       "      <td>1.0</td>\n",
       "      <td>0.780645</td>\n",
       "      <td>17.0</td>\n",
       "      <td>21.0</td>\n",
       "      <td>17.0</td>\n",
       "      <td>1.0</td>\n",
       "      <td>torch.Size([8, 5, 5, 3])</td>\n",
       "    </tr>\n",
       "    <tr>\n",
       "      <th>4</th>\n",
       "      <td>torch.Size([8, 4])</td>\n",
       "      <td>torch.Size([8, 4])</td>\n",
       "      <td>0.0</td>\n",
       "      <td>0.462467</td>\n",
       "      <td>6.0</td>\n",
       "      <td>18.0</td>\n",
       "      <td>27.0</td>\n",
       "      <td>0.0</td>\n",
       "      <td>torch.Size([8, 5, 5, 3])</td>\n",
       "    </tr>\n",
       "    <tr>\n",
       "      <th>5</th>\n",
       "      <td>torch.Size([8, 4])</td>\n",
       "      <td>torch.Size([8, 4])</td>\n",
       "      <td>1.0</td>\n",
       "      <td>0.883429</td>\n",
       "      <td>5.0</td>\n",
       "      <td>8.0</td>\n",
       "      <td>24.0</td>\n",
       "      <td>1.0</td>\n",
       "      <td>torch.Size([8, 5, 5, 3])</td>\n",
       "    </tr>\n",
       "    <tr>\n",
       "      <th>6</th>\n",
       "      <td>torch.Size([8, 4])</td>\n",
       "      <td>torch.Size([8, 4])</td>\n",
       "      <td>0.0</td>\n",
       "      <td>0.335055</td>\n",
       "      <td>13.0</td>\n",
       "      <td>18.0</td>\n",
       "      <td>37.0</td>\n",
       "      <td>0.0</td>\n",
       "      <td>torch.Size([8, 5, 5, 3])</td>\n",
       "    </tr>\n",
       "    <tr>\n",
       "      <th>7</th>\n",
       "      <td>torch.Size([8, 4])</td>\n",
       "      <td>torch.Size([8, 4])</td>\n",
       "      <td>1.0</td>\n",
       "      <td>0.352697</td>\n",
       "      <td>19.0</td>\n",
       "      <td>17.0</td>\n",
       "      <td>32.0</td>\n",
       "      <td>1.0</td>\n",
       "      <td>torch.Size([8, 5, 5, 3])</td>\n",
       "    </tr>\n",
       "  </tbody>\n",
       "</table>\n",
       "</div>"
      ],
      "text/plain": [
       "                state          next_state  action    reward  steps  \\\n",
       "0  torch.Size([8, 4])  torch.Size([8, 4])     1.0  0.769159    9.0   \n",
       "1  torch.Size([8, 4])  torch.Size([8, 4])     1.0  0.665282    7.0   \n",
       "2  torch.Size([8, 4])  torch.Size([8, 4])     1.0  0.773795    0.0   \n",
       "3  torch.Size([8, 4])  torch.Size([8, 4])     1.0  0.780645   17.0   \n",
       "4  torch.Size([8, 4])  torch.Size([8, 4])     0.0  0.462467    6.0   \n",
       "5  torch.Size([8, 4])  torch.Size([8, 4])     1.0  0.883429    5.0   \n",
       "6  torch.Size([8, 4])  torch.Size([8, 4])     0.0  0.335055   13.0   \n",
       "7  torch.Size([8, 4])  torch.Size([8, 4])     1.0  0.352697   19.0   \n",
       "\n",
       "   episode_reward   env  done                     image  \n",
       "0            16.0  21.0   0.0  torch.Size([8, 5, 5, 3])  \n",
       "1            22.0  35.0   1.0  torch.Size([8, 5, 5, 3])  \n",
       "2            18.0  16.0   1.0  torch.Size([8, 5, 5, 3])  \n",
       "3            21.0  17.0   1.0  torch.Size([8, 5, 5, 3])  \n",
       "4            18.0  27.0   0.0  torch.Size([8, 5, 5, 3])  \n",
       "5             8.0  24.0   1.0  torch.Size([8, 5, 5, 3])  \n",
       "6            18.0  37.0   0.0  torch.Size([8, 5, 5, 3])  \n",
       "7            17.0  32.0   1.0  torch.Size([8, 5, 5, 3])  "
      ]
     },
     "execution_count": null,
     "metadata": {},
     "output_type": "execute_result"
    }
   ],
   "source": [
    "test_d[:8].pandas()"
   ]
  },
  {
   "cell_type": "code",
   "execution_count": null,
   "id": "original-examination",
   "metadata": {},
   "outputs": [
    {
     "data": {
      "text/html": [
       "<div>\n",
       "<style scoped>\n",
       "    .dataframe tbody tr th:only-of-type {\n",
       "        vertical-align: middle;\n",
       "    }\n",
       "\n",
       "    .dataframe tbody tr th {\n",
       "        vertical-align: top;\n",
       "    }\n",
       "\n",
       "    .dataframe thead th {\n",
       "        text-align: right;\n",
       "    }\n",
       "</style>\n",
       "<table border=\"1\" class=\"dataframe\">\n",
       "  <thead>\n",
       "    <tr style=\"text-align: right;\">\n",
       "      <th></th>\n",
       "      <th>state</th>\n",
       "      <th>next_state</th>\n",
       "      <th>action</th>\n",
       "      <th>reward</th>\n",
       "      <th>steps</th>\n",
       "      <th>episode_reward</th>\n",
       "      <th>env</th>\n",
       "      <th>done</th>\n",
       "      <th>image</th>\n",
       "    </tr>\n",
       "  </thead>\n",
       "  <tbody>\n",
       "    <tr>\n",
       "      <th>0</th>\n",
       "      <td>torch.Size([1, 4])</td>\n",
       "      <td>torch.Size([1, 4])</td>\n",
       "      <td>1.0</td>\n",
       "      <td>0.769159</td>\n",
       "      <td>9.0</td>\n",
       "      <td>16.0</td>\n",
       "      <td>21.0</td>\n",
       "      <td>0.0</td>\n",
       "      <td>torch.Size([1, 5, 5, 3])</td>\n",
       "    </tr>\n",
       "  </tbody>\n",
       "</table>\n",
       "</div>"
      ],
      "text/plain": [
       "                state          next_state  action    reward  steps  \\\n",
       "0  torch.Size([1, 4])  torch.Size([1, 4])     1.0  0.769159    9.0   \n",
       "\n",
       "   episode_reward   env  done                     image  \n",
       "0            16.0  21.0   0.0  torch.Size([1, 5, 5, 3])  "
      ]
     },
     "execution_count": null,
     "metadata": {},
     "output_type": "execute_result"
    }
   ],
   "source": [
    "test_d[Tensor([0]).long()].pandas()"
   ]
  },
  {
   "cell_type": "code",
   "execution_count": null,
   "id": "tracked-typing",
   "metadata": {},
   "outputs": [],
   "source": [
    "test_eq(BD(test_d,bs=20)['state'].shape,(20,4))"
   ]
  },
  {
   "cell_type": "code",
   "execution_count": null,
   "id": "running-cherry",
   "metadata": {},
   "outputs": [
    {
     "name": "stdout",
     "output_type": "stream",
     "text": [
      "converting /home/fastrl_user/fastrl/nbs/index.ipynb to README.md\n",
      "Converted 00_core.ipynb.\n",
      "Converted 00_nbdev_extension.ipynb.\n",
      "Converted 05_data.block.ipynb.\n",
      "Converted 05_data.test_async.ipynb.\n",
      "Converted 20_test_utils.ipynb.\n",
      "Converted index.ipynb.\n",
      "Converted nbdev_template.ipynb.\n",
      "converting: /home/fastrl_user/fastrl/nbs/00_core.ipynb\n"
     ]
    }
   ],
   "source": [
    "# hide\n",
    "from fastcore.imports import in_colab\n",
    "\n",
    "# Since colab still requires tornado<6, we don't want to import nbdev if we don't have to\n",
    "if not in_colab():\n",
    "    from nbdev.export import *\n",
    "    from nbdev.export2html import *\n",
    "    from nbdev.cli import make_readme\n",
    "    make_readme()\n",
    "    notebook2script()\n",
    "    notebook2html()"
   ]
  },
  {
   "cell_type": "code",
   "execution_count": null,
   "id": "concerned-temple",
   "metadata": {},
   "outputs": [],
   "source": []
  }
 ],
 "metadata": {
  "kernelspec": {
   "display_name": "Python 3",
   "language": "python",
   "name": "python3"
  }
 },
 "nbformat": 4,
 "nbformat_minor": 5
}
