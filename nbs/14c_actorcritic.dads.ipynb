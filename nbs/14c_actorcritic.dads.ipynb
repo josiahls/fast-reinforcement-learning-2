{
 "cells": [
  {
   "cell_type": "code",
   "execution_count": 7,
   "metadata": {},
   "outputs": [],
   "source": [
    "# default_exp actorcritic.dads"
   ]
  },
  {
   "cell_type": "code",
   "execution_count": 8,
   "metadata": {},
   "outputs": [],
   "source": [
    "import os\n",
    "os.environ['CUDA_LAUNCH_BLOCKING'] = \"1\""
   ]
  },
  {
   "cell_type": "code",
   "execution_count": 9,
   "metadata": {},
   "outputs": [],
   "source": [
    "#export\n",
    "import torch.nn.utils as nn_utils\n",
    "from fastai.torch_basics import *\n",
    "import torch.nn.functional as F\n",
    "from fastai.data.all import *\n",
    "from fastai.basics import *\n",
    "from dataclasses import field,asdict\n",
    "from typing import List,Any,Dict,Callable\n",
    "from collections import deque\n",
    "import gym\n",
    "import torch.multiprocessing as mp\n",
    "from torch.optim import *\n",
    "from dataclasses import dataclass\n",
    "\n",
    "from fastrl.data import *\n",
    "from fastrl.async_data import *\n",
    "from fastrl.basic_agents import *\n",
    "from fastrl.learner import *\n",
    "from fastrl.metrics import *\n",
    "from fastai.callback.progress import *\n",
    "from fastrl.ptan_extension import *\n",
    "from fastrl.actorcritic.sac import *\n",
    "from fastrl.actorcritic.diayn import *\n",
    "import gym\n",
    "from torch.distributions import *\n",
    "\n",
    "import matplotlib.pyplot as plt\n",
    "\n",
    "if IN_NOTEBOOK:\n",
    "    from IPython import display\n",
    "    import PIL.Image"
   ]
  },
  {
   "cell_type": "code",
   "execution_count": 10,
   "metadata": {},
   "outputs": [],
   "source": [
    "# hide\n",
    "import matplotlib.pyplot as plt\n",
    "\n",
    "from nbdev.showdoc import *\n",
    "from nbdev.imports import *\n",
    "from nbdev.export2html import *\n",
    "if not os.environ.get(\"IN_TEST\", None):\n",
    "    assert IN_NOTEBOOK\n",
    "    assert not IN_COLAB\n",
    "    assert IN_IPYTHON"
   ]
  },
  {
   "cell_type": "markdown",
   "metadata": {},
   "source": [
    "# DADS\n",
    "\n",
    "> Diversity Is All You Need"
   ]
  },
  {
   "cell_type": "markdown",
   "metadata": {
    "heading_collapsed": "true"
   },
   "source": [
    "## GMM\n",
    "> A neural net with a gaussian probability distribution component."
   ]
  },
  {
   "cell_type": "markdown",
   "metadata": {},
   "source": [
    "Gaussian Mixture Models parameterized by neural nets can be used for:\n",
    "- Giving the probability that a given `state` + `action` will result in `next_state`\n",
    "- Predict what the `next_state` will look like given a `state` + `action`\n",
    "\n",
    "Hopefully from the list above, it is understandable *why* a GMM can be useful.\n",
    "Since it has a probabilistic component, you can avoid instances of (easily) overfitting. "
   ]
  },
  {
   "cell_type": "code",
   "execution_count": 11,
   "metadata": {},
   "outputs": [],
   "source": [
    "# export \n",
    "class OptionalClampLinear(Module):\n",
    "    def __init__(self,num_inputs,state_dims,fix_variance:bool=False,\n",
    "                 clip_min=0.3,clip_max=10.0):\n",
    "        \"Linear layer or constant block used for std.\"\n",
    "        store_attr()\n",
    "        if not self.fix_variance: self.fc=nn.Linear(self.num_inputs,self.state_dims)\n",
    "    \n",
    "    def forward(self,x):\n",
    "        if self.fix_variance: return torch.full((x.shape[0],self.state_dims),1.0)\n",
    "        else:                 return torch.clamp(nn.Softplus()(self.fc(x)),self.clip_min,self.clip_max)\n",
    "\n",
    "class MultiCompGMM(Module):\n",
    "    def __init__(self,num_inputs,state_dims,n_components,fix_variance:bool=False):\n",
    "        \"Multi-component GMM parameterized by a fully connected layer with optional std layer.\"\n",
    "        store_attr()\n",
    "        self.logit_fc=nn.Linear(self.num_inputs,self.n_components)\n",
    "        self.mean_fcs=nn.ModuleList([nn.Linear(self.num_inputs,self.state_dims) \n",
    "                                     for _ in range(self.n_components)])\n",
    "        self.std_fcs=nn.ModuleList([OptionalClampLinear(self.num_inputs,self.state_dims,fix_variance) \n",
    "                                    for _ in range(self.n_components)])\n",
    "        self.means,self.logits,self.stds=[],[],[]\n",
    "    \n",
    "    def forward(self,x):\n",
    "        self.means=torch.stack([o(x) for o in self.mean_fcs],dim=1)\n",
    "        self.stds=torch.stack([o(x) for o in self.std_fcs],dim=1)\n",
    "        self.logits=self.logit_fc(x)\n",
    "        return MixtureSameFamily(\n",
    "            mixture_distribution=Categorical(self.logits),\n",
    "            component_distribution=Independent(Normal(self.means,self.stds),1)\n",
    "        )\n",
    "    \n",
    "class SimpleGMM(Module):\n",
    "    def __init__(self,num_inputs,state_dims,fix_variance:bool=False):\n",
    "        \"Single-component GMM parameterized by a fully connected layer with optional std layer.\"\n",
    "        store_attr()\n",
    "        self.mean_fc=nn.Linear(self.num_inputs,self.state_dims)\n",
    "        self.std_fc=OptionalClampLinear(self.num_inputs,self.state_dims,fix_variance)\n",
    "        \n",
    "    def forward(self,x): return Independent(Normal(self.mean_fc(x),self.std_fc(x)),1)\n",
    "\n",
    "class GMM(Module):\n",
    "    def __init__(self,num_inputs,state_dims,n_components,fix_variance:bool=False):\n",
    "        \"N-component GMM parameterized by fully connected layers with optional std layers.\"\n",
    "        store_attr()\n",
    "        if self.n_components>1: self.distribution=MultiCompGMM(num_inputs,state_dims,n_components,fix_variance)\n",
    "        else:                   self.distribution=SimpleGMM(num_inputs,state_dims,fix_variance)\n",
    "        \n",
    "    def forward(self,x): return self.distribution(x)"
   ]
  },
  {
   "cell_type": "markdown",
   "metadata": {},
   "source": [
    "The GMM is going to try to predict the next state. So lets make a simple input to optimize against.\n",
    "This test will be of a hot airballoon. Lets see if we can have a reasonable next state prediction."
   ]
  },
  {
   "cell_type": "code",
   "execution_count": 12,
   "metadata": {},
   "outputs": [
    {
     "data": {
      "image/png": "[encoded data removed]",
      "text/plain": [
       "<Figure size 432x288 with 1 Axes>"
      ]
     },
     "metadata": {
      "needs_background": "light"
     },
     "output_type": "display_data"
    }
   ],
   "source": [
    "hot_air_ballon_start_states=torch.rand((5,1))\n",
    "hot_air_ballon_start_actions=torch.rand((5,1))-0.5\n",
    "hot_air_ballon_next_states=hot_air_ballon_start_states+hot_air_ballon_start_actions\n",
    "\n",
    "plt.plot(hot_air_ballon_start_states.numpy(),label='Starting Step')\n",
    "plt.plot(hot_air_ballon_start_actions.numpy(),label='Action')\n",
    "plt.plot(hot_air_ballon_next_states.numpy(),label='Resulting Step')\n",
    "plt.legend()\n",
    "plt.show()"
   ]
  },
  {
   "cell_type": "code",
   "execution_count": 13,
   "metadata": {},
   "outputs": [],
   "source": [
    "gmm=GMM(2,1,2,fix_variance=False)\n",
    "opt=Adam(gmm.parameters(),lr=3e-4)"
   ]
  },
  {
   "cell_type": "markdown",
   "metadata": {},
   "source": [
    "First, lets see if the GMM can predict the next state accurately..."
   ]
  },
  {
   "cell_type": "code",
   "execution_count": 14,
   "metadata": {},
   "outputs": [
    {
     "data": {
      "text/plain": [
       "tensor([[-0.4737],\n",
       "        [ 2.3079],\n",
       "        [ 2.1567],\n",
       "        [ 0.3689],\n",
       "        [-0.7923]], grad_fn=<AddBackward0>)"
      ]
     },
     "execution_count": 14,
     "metadata": {},
     "output_type": "execute_result"
    }
   ],
   "source": [
    "x=torch.hstack([hot_air_ballon_start_states,hot_air_ballon_start_actions])\n",
    "dist=gmm(x)\n",
    "hot_air_ballon_start_states+dist.mean"
   ]
  },
  {
   "cell_type": "raw",
   "metadata": {},
   "source": [
    "versus..."
   ]
  },
  {
   "cell_type": "code",
   "execution_count": 15,
   "metadata": {},
   "outputs": [
    {
     "data": {
      "text/plain": [
       "tensor([[ 0.0073],\n",
       "        [-0.2682],\n",
       "        [ 0.5896],\n",
       "        [ 0.4545],\n",
       "        [ 0.8918]])"
      ]
     },
     "execution_count": 15,
     "metadata": {},
     "output_type": "execute_result"
    }
   ],
   "source": [
    "hot_air_ballon_next_states"
   ]
  },
  {
   "cell_type": "markdown",
   "metadata": {},
   "source": [
    "Yeah the GMM is way off...\n",
    "So lets first see if we can get it to optimize to predict a next state..."
   ]
  },
  {
   "cell_type": "code",
   "execution_count": 16,
   "metadata": {},
   "outputs": [
    {
     "name": "stdout",
     "output_type": "stream",
     "text": [
      "tensor(0.9393, grad_fn=<NegBackward>) tensor(-0.9393, grad_fn=<MeanBackward0>)\n",
      "tensor(0.5572, grad_fn=<NegBackward>) tensor(-0.5572, grad_fn=<MeanBackward0>)\n",
      "tensor(0.2285, grad_fn=<NegBackward>) tensor(-0.2285, grad_fn=<MeanBackward0>)\n",
      "tensor(-0.0047, grad_fn=<NegBackward>) tensor(0.0047, grad_fn=<MeanBackward0>)\n",
      "tensor(-0.1535, grad_fn=<NegBackward>) tensor(0.1535, grad_fn=<MeanBackward0>)\n"
     ]
    }
   ],
   "source": [
    "next_timesteps=hot_air_ballon_next_states-hot_air_ballon_start_states    \n",
    "x=torch.hstack([hot_air_ballon_start_states,hot_air_ballon_start_actions])\n",
    "\n",
    "for step in range(5000):\n",
    "    dist=gmm(x)\n",
    "\n",
    "    opt.zero_grad()\n",
    "    loss=-torch.mean(dist.log_prob(next_timesteps))\n",
    "    loss.backward()\n",
    "    if step%1000==0:print(loss,torch.mean(dist.log_prob(next_timesteps)))\n",
    "    opt.step()"
   ]
  },
  {
   "cell_type": "code",
   "execution_count": 17,
   "metadata": {},
   "outputs": [
    {
     "data": {
      "text/plain": [
       "tensor([[-0.0216],\n",
       "        [ 0.5934],\n",
       "        [ 1.2184],\n",
       "        [ 0.5576],\n",
       "        [ 0.8760]], grad_fn=<AddBackward0>)"
      ]
     },
     "execution_count": 17,
     "metadata": {},
     "output_type": "execute_result"
    }
   ],
   "source": [
    "x=torch.hstack([hot_air_ballon_start_states,hot_air_ballon_start_actions])\n",
    "dist=gmm(x)\n",
    "hot_air_ballon_start_states+dist.mean"
   ]
  },
  {
   "cell_type": "code",
   "execution_count": 18,
   "metadata": {},
   "outputs": [
    {
     "data": {
      "text/plain": [
       "tensor([[ 0.0073],\n",
       "        [-0.2682],\n",
       "        [ 0.5896],\n",
       "        [ 0.4545],\n",
       "        [ 0.8918]])"
      ]
     },
     "execution_count": 18,
     "metadata": {},
     "output_type": "execute_result"
    }
   ],
   "source": [
    "hot_air_ballon_next_states"
   ]
  },
  {
   "cell_type": "markdown",
   "metadata": {},
   "source": [
    "This is much better, the GMM is making a better prediction of what the next state is going to be..."
   ]
  },
  {
   "cell_type": "markdown",
   "metadata": {
    "heading_collapsed": "true"
   },
   "source": [
    "## Skill Dynamics\n",
    "> Now that we have a working GMM, we need a way to modify our input data to be useful for the DADS agent."
   ]
  },
  {
   "cell_type": "code",
   "execution_count": 19,
   "metadata": {},
   "outputs": [],
   "source": [
    "# export\n",
    "class SkillDynamics(Module):\n",
    "    def __init__(self,s_dim,a_dim,n_components,fix_variance:bool=False,\n",
    "                 use_model_mean:bool=None,use_batch_norm:bool=True,fc_params:tuple=None):\n",
    "        store_attr(but='fc_params,use_model_mean')\n",
    "        self.fc_params=ifnone(fc_params,(256,256))\n",
    "        self.use_model_mean=ifnone(use_model_mean,n_components>1)\n",
    "        if self.use_batch_norm:\n",
    "            self.s_bn,self.sp_bn=nn.BatchNorm1d(s_dim),nn.BatchNorm1d(s_dim)\n",
    "        self.fcs=nn.Sequential(*[nn.Linear((s_dim+a_dim) if i==0 else self.fc_params[i-1],p) \n",
    "                                for i,p in enumerate(self.fc_params)])\n",
    "        \n",
    "        self.gmm=GMM(self.fc_params[-1],s_dim,n_components,fix_variance)\n",
    "        \n",
    "    def forward(self,s,a,sp=None,training=True):\n",
    "        \"Returns the `GMM` distribution of `s` and `a`, mean, and **optionally** \"\\\n",
    "        \"log(p) of the state transition between `s` and `sp` if `sp` is not None.\"\n",
    "        if sp is not None: sp=sp-s\n",
    "        if not training: self.eval()\n",
    "            \n",
    "        if self.use_batch_norm:\n",
    "            s=self.s_bn(s)\n",
    "            if sp is not None: sp=self.sp_bn(sp)\n",
    "            \n",
    "        sa=torch.hstack([s,a])\n",
    "        \n",
    "        x=self.fcs(sa)\n",
    "        \n",
    "        dist=self.gmm(x)\n",
    "        self.train()\n",
    "        return dist,(sp if sp is None else dist.log_prob(sp))\n",
    "    \n",
    "    def log_prob(self,s,a,sp): return self(s,a,sp,training=False)[1]\n",
    "\n",
    "    def predict_state(self,s,a):\n",
    "        \"Returns the predicted state that `s` and `a` will result in.\"\n",
    "        dist,_=self(s,a,training=False)\n",
    "        if self.use_model_mean:\n",
    "            means,idx=dist.component_distribution.mean,torch.argmax(dist.mixture_distribution.logits,dim=1)\n",
    "            pred_s=means[[torch.arange(means.shape[0]),idx]]\n",
    "        else:\n",
    "            pred_s=dist.mean\n",
    "            \n",
    "        if self.use_batch_norm:\n",
    "            pred_s=pred_s*(self.sp_bn.running_var+1e-3).sqrt()+self.sp_bn.running_mean\n",
    "        \n",
    "        pred_s+=s\n",
    "        return pred_s"
   ]
  },
  {
   "cell_type": "markdown",
   "metadata": {},
   "source": [
    "The `SkillDynamics` module is actually pretty simple. It is tasked with getting the mean and log probability from the `GMM` and providing a convenient way to get a predicted state. It additionaly has the capability of batch normalization, noise, and input shuffling.\n",
    "\n",
    "Going back to our hot air balloon example, lets feed the states, actions, and resulting states into it..."
   ]
  },
  {
   "cell_type": "code",
   "execution_count": 20,
   "metadata": {},
   "outputs": [],
   "source": [
    "skill_dyn=SkillDynamics(1,1,2,fix_variance=False,use_batch_norm=False)\n",
    "opt=Adam(skill_dyn.parameters(),lr=3e-4)"
   ]
  },
  {
   "cell_type": "code",
   "execution_count": 21,
   "metadata": {},
   "outputs": [
    {
     "data": {
      "text/plain": [
       "SkillDynamics(\n",
       "  (fcs): Sequential(\n",
       "    (0): Linear(in_features=2, out_features=256, bias=True)\n",
       "    (1): Linear(in_features=256, out_features=256, bias=True)\n",
       "  )\n",
       "  (gmm): GMM(\n",
       "    (distribution): MultiCompGMM(\n",
       "      (logit_fc): Linear(in_features=256, out_features=2, bias=True)\n",
       "      (mean_fcs): ModuleList(\n",
       "        (0): Linear(in_features=256, out_features=1, bias=True)\n",
       "        (1): Linear(in_features=256, out_features=1, bias=True)\n",
       "      )\n",
       "      (std_fcs): ModuleList(\n",
       "        (0): OptionalClampLinear(\n",
       "          (fc): Linear(in_features=256, out_features=1, bias=True)\n",
       "        )\n",
       "        (1): OptionalClampLinear(\n",
       "          (fc): Linear(in_features=256, out_features=1, bias=True)\n",
       "        )\n",
       "      )\n",
       "    )\n",
       "  )\n",
       ")"
      ]
     },
     "execution_count": 21,
     "metadata": {},
     "output_type": "execute_result"
    }
   ],
   "source": [
    "skill_dyn"
   ]
  },
  {
   "cell_type": "markdown",
   "metadata": {},
   "source": [
    "Lets do a regular feed through and look at the output of our `SkillDynamics` instance."
   ]
  },
  {
   "cell_type": "code",
   "execution_count": 22,
   "metadata": {},
   "outputs": [
    {
     "data": {
      "text/plain": [
       "(MixtureSameFamily(\n",
       "   Categorical(probs: torch.Size([5, 2]), logits: torch.Size([5, 2])),\n",
       "   Independent(Normal(loc: torch.Size([5, 2, 1]), scale: torch.Size([5, 2, 1])), 1)),\n",
       " tensor([-0.4865, -0.4315, -0.4033, -0.5579, -0.3238],\n",
       "        grad_fn=<LogsumexpBackward>))"
      ]
     },
     "execution_count": 22,
     "metadata": {},
     "output_type": "execute_result"
    }
   ],
   "source": [
    "skill_dyn(hot_air_ballon_start_states,hot_air_ballon_start_actions,\n",
    "                           hot_air_ballon_next_states)"
   ]
  },
  {
   "cell_type": "markdown",
   "metadata": {},
   "source": [
    "We have 3 components: `dist`, `mean`, and `log_prob`.\\\n",
    "`dist` lets the user do more advanced operations with the results.\\\n",
    "`mean` will always return since at minimum `s` and `a` need to be passed in.\\\n",
    "`log_prob` can be returned if `sp` is not None.\n",
    "\n",
    "The most immediately useful result is `log_prob` since it can be used for operations that need to know *what is the probability of this state occuring.*\n",
    "\n",
    "However, like we said earlier, `dist` is returned because we might want to do more advanced operations. For example `predict_state`..."
   ]
  },
  {
   "cell_type": "code",
   "execution_count": 23,
   "metadata": {},
   "outputs": [
    {
     "data": {
      "text/plain": [
       "('Prediction:',\n",
       " tensor([[ 0.3138],\n",
       "         [-0.0994],\n",
       "         [ 0.3857],\n",
       "         [ 0.0987],\n",
       "         [ 0.7800]], grad_fn=<AddBackward0>),\n",
       " 'Actual',\n",
       " tensor([[ 0.0073],\n",
       "         [-0.2682],\n",
       "         [ 0.5896],\n",
       "         [ 0.4545],\n",
       "         [ 0.8918]]))"
      ]
     },
     "execution_count": 23,
     "metadata": {},
     "output_type": "execute_result"
    }
   ],
   "source": [
    "'Prediction:',\\\n",
    "skill_dyn.predict_state(hot_air_ballon_start_states,hot_air_ballon_start_actions),\\\n",
    "'Actual',\\\n",
    "hot_air_ballon_next_states"
   ]
  },
  {
   "cell_type": "markdown",
   "metadata": {},
   "source": [
    "This state prediction seems terrible! Obviously, we need to train `skill_dyn` so this is more accurate. You may notice the number of steps is 100 as opposed to 5000! This is because we are actually feeding a linear layer's output into the `GMM` as opposed to the `s+a` tensor directly. This is called a `latent space`, and these have friendlier values for the `GMM` to learn against. You will also see later that the results are a little more accurate also."
   ]
  },
  {
   "cell_type": "code",
   "execution_count": 24,
   "metadata": {},
   "outputs": [
    {
     "name": "stdout",
     "output_type": "stream",
     "text": [
      "tensor(0.4406, grad_fn=<NegBackward>) tensor(0.2086, grad_fn=<MeanBackward0>)\n",
      "tensor(-0.2830, grad_fn=<NegBackward>) tensor(0.2086, grad_fn=<MeanBackward0>)\n",
      "tensor(-0.2849, grad_fn=<NegBackward>) tensor(0.2086, grad_fn=<MeanBackward0>)\n",
      "tensor(-0.2848, grad_fn=<NegBackward>) tensor(0.2086, grad_fn=<MeanBackward0>)\n",
      "tensor(-0.2850, grad_fn=<NegBackward>) tensor(0.2086, grad_fn=<MeanBackward0>)\n"
     ]
    }
   ],
   "source": [
    "def train(steps=100,print_every=20):\n",
    "    skill_dyn.train()\n",
    "    for step in range(steps):\n",
    "        _,log_prob=skill_dyn(hot_air_ballon_start_states,hot_air_ballon_start_actions,\n",
    "                       hot_air_ballon_next_states)\n",
    "\n",
    "        opt.zero_grad()\n",
    "        loss=-torch.mean(log_prob)\n",
    "        loss.backward()\n",
    "        if step%print_every==0:print(loss,torch.mean(dist.log_prob(next_timesteps)))\n",
    "        opt.step()\n",
    "    skill_dyn.eval()\n",
    "train()"
   ]
  },
  {
   "cell_type": "code",
   "execution_count": 25,
   "metadata": {},
   "outputs": [
    {
     "data": {
      "text/plain": [
       "('Prediction:',\n",
       " tensor([[ 0.0063],\n",
       "         [-0.2689],\n",
       "         [ 0.5901],\n",
       "         [ 0.4555],\n",
       "         [ 0.8922]], grad_fn=<AddBackward0>),\n",
       " 'Actual',\n",
       " tensor([[ 0.0073],\n",
       "         [-0.2682],\n",
       "         [ 0.5896],\n",
       "         [ 0.4545],\n",
       "         [ 0.8918]]))"
      ]
     },
     "execution_count": 25,
     "metadata": {},
     "output_type": "execute_result"
    }
   ],
   "source": [
    "'Prediction:',\\\n",
    "skill_dyn.predict_state(hot_air_ballon_start_states,hot_air_ballon_start_actions),\\\n",
    "'Actual',\\\n",
    "hot_air_ballon_next_states"
   ]
  },
  {
   "cell_type": "markdown",
   "metadata": {},
   "source": [
    "Much better! It is ok they are not exact, we want `SkillDynamics` to have a general idea on how current states and their actions can cause the state to change.\n",
    "\n",
    "But here is a small wrench in the works. You will notice that the state spaces we are feeding into the model have values [-1, 1] which are nice and friendly to train our model on but also **highly unrealistic in the real world**. We will likely see values [-10,1000] possibly. Can we train on these? Let's convert our ballon problem into meters. We don't need to worry about actions because the values of actions are usually *within our control*."
   ]
  },
  {
   "cell_type": "code",
   "execution_count": 26,
   "metadata": {},
   "outputs": [
    {
     "data": {
      "image/png": "[encoded data removed]",
      "text/plain": [
       "<Figure size 432x288 with 1 Axes>"
      ]
     },
     "metadata": {
      "needs_background": "light"
     },
     "output_type": "display_data"
    }
   ],
   "source": [
    "hot_air_ballon_start_states=torch.rand((5,1))*100\n",
    "hot_air_ballon_start_actions=torch.rand((5,1))-0.5\n",
    "hot_air_ballon_next_states=hot_air_ballon_start_states+hot_air_ballon_start_actions*100\n",
    "\n",
    "plt.plot(hot_air_ballon_start_states.numpy(),label='Starting Step')\n",
    "plt.plot(hot_air_ballon_start_actions.numpy()*100,label='Action')\n",
    "plt.plot(hot_air_ballon_next_states.numpy(),label='Resulting Step')\n",
    "plt.legend()\n",
    "plt.show()"
   ]
  },
  {
   "cell_type": "markdown",
   "metadata": {},
   "source": [
    "These are much bigger values... Training a model on these without normalzing can be very hard. \n",
    "The worst part is that in order to normalize something like states,\n",
    "you would need to know *what is the absolute minimum and maximum this state will ever be*. This is a general problem in RL because when the agent is first\n",
    "starting the states might start small, such as being newer the origin 0,0, but everntually as the agent gets better it starts to get to states like -20,100.\n",
    "Our model needs to convert these into nice [0,1] or [-1,1] values.\n",
    "\n",
    "So first, lets see if we can even learn anything without batch norm..."
   ]
  },
  {
   "cell_type": "code",
   "execution_count": 27,
   "metadata": {},
   "outputs": [
    {
     "data": {
      "text/plain": [
       "('Prediction:',\n",
       " tensor([[26.2782],\n",
       "         [95.4494],\n",
       "         [20.4711],\n",
       "         [51.5636],\n",
       "         [ 3.0872]], grad_fn=<AddBackward0>),\n",
       " 'Actual',\n",
       " tensor([[ 11.4776],\n",
       "         [145.6361],\n",
       "         [ 70.0573],\n",
       "         [ 90.4038],\n",
       "         [-18.6300]]))"
      ]
     },
     "execution_count": 27,
     "metadata": {},
     "output_type": "execute_result"
    }
   ],
   "source": [
    "skill_dyn=SkillDynamics(1,1,2,fix_variance=False,use_batch_norm=False)\n",
    "opt=Adam(skill_dyn.parameters(),lr=3e-4)\n",
    "'Prediction:',\\\n",
    "skill_dyn.predict_state(hot_air_ballon_start_states,hot_air_ballon_start_actions),\\\n",
    "'Actual',\\\n",
    "hot_air_ballon_next_states"
   ]
  },
  {
   "cell_type": "code",
   "execution_count": 28,
   "metadata": {},
   "outputs": [
    {
     "name": "stdout",
     "output_type": "stream",
     "text": [
      "tensor(166.3442, grad_fn=<NegBackward>) tensor(0.2086, grad_fn=<MeanBackward0>)\n",
      "tensor(7.4911, grad_fn=<NegBackward>) tensor(0.2086, grad_fn=<MeanBackward0>)\n",
      "tensor(7.1395, grad_fn=<NegBackward>) tensor(0.2086, grad_fn=<MeanBackward0>)\n",
      "tensor(6.9110, grad_fn=<NegBackward>) tensor(0.2086, grad_fn=<MeanBackward0>)\n",
      "tensor(6.7321, grad_fn=<NegBackward>) tensor(0.2086, grad_fn=<MeanBackward0>)\n",
      "tensor(6.5922, grad_fn=<NegBackward>) tensor(0.2086, grad_fn=<MeanBackward0>)\n"
     ]
    }
   ],
   "source": [
    "train(300,50)"
   ]
  },
  {
   "cell_type": "code",
   "execution_count": 29,
   "metadata": {},
   "outputs": [
    {
     "data": {
      "text/plain": [
       "('Prediction:',\n",
       " tensor([[ 40.7076],\n",
       "         [149.7475],\n",
       "         [ 22.8561],\n",
       "         [ 80.7531],\n",
       "         [  4.2423]], grad_fn=<AddBackward0>),\n",
       " 'Actual',\n",
       " tensor([[ 11.4776],\n",
       "         [145.6361],\n",
       "         [ 70.0573],\n",
       "         [ 90.4038],\n",
       "         [-18.6300]]))"
      ]
     },
     "execution_count": 29,
     "metadata": {},
     "output_type": "execute_result"
    }
   ],
   "source": [
    "'Prediction:',\\\n",
    "skill_dyn.predict_state(hot_air_ballon_start_states,hot_air_ballon_start_actions),\\\n",
    "'Actual',\\\n",
    "hot_air_ballon_next_states"
   ]
  },
  {
   "cell_type": "markdown",
   "metadata": {},
   "source": [
    "Hm... It's diffinitely not amazing. The worst part is that this will likely be made worst with larger and differing batches. Lets see if using batch norm makes this better..."
   ]
  },
  {
   "cell_type": "code",
   "execution_count": 30,
   "metadata": {},
   "outputs": [
    {
     "data": {
      "text/plain": [
       "('Prediction:',\n",
       " tensor([[ 29.1465],\n",
       "         [105.9709],\n",
       "         [ 22.8306],\n",
       "         [ 57.2867],\n",
       "         [  3.4180]], grad_fn=<AddBackward0>),\n",
       " 'Actual',\n",
       " tensor([[ 11.4776],\n",
       "         [145.6361],\n",
       "         [ 70.0573],\n",
       "         [ 90.4038],\n",
       "         [-18.6300]]))"
      ]
     },
     "execution_count": 30,
     "metadata": {},
     "output_type": "execute_result"
    }
   ],
   "source": [
    "skill_dyn=SkillDynamics(1,1,2,fix_variance=False,use_batch_norm=True)\n",
    "opt=Adam(skill_dyn.parameters(),lr=3e-4)\n",
    "'Prediction:',\\\n",
    "skill_dyn.predict_state(hot_air_ballon_start_states,hot_air_ballon_start_actions),\\\n",
    "'Actual',\\\n",
    "hot_air_ballon_next_states"
   ]
  },
  {
   "cell_type": "code",
   "execution_count": 31,
   "metadata": {},
   "outputs": [
    {
     "name": "stdout",
     "output_type": "stream",
     "text": [
      "tensor(1.5101, grad_fn=<NegBackward>) tensor(0.2086, grad_fn=<MeanBackward0>)\n",
      "tensor(-0.0839, grad_fn=<NegBackward>) tensor(0.2086, grad_fn=<MeanBackward0>)\n",
      "tensor(-0.2528, grad_fn=<NegBackward>) tensor(0.2086, grad_fn=<MeanBackward0>)\n",
      "tensor(-0.2682, grad_fn=<NegBackward>) tensor(0.2086, grad_fn=<MeanBackward0>)\n",
      "tensor(-0.2778, grad_fn=<NegBackward>) tensor(0.2086, grad_fn=<MeanBackward0>)\n",
      "tensor(-0.2825, grad_fn=<NegBackward>) tensor(0.2086, grad_fn=<MeanBackward0>)\n"
     ]
    }
   ],
   "source": [
    "train(300,50)"
   ]
  },
  {
   "cell_type": "code",
   "execution_count": 32,
   "metadata": {},
   "outputs": [
    {
     "data": {
      "text/plain": [
       "('Prediction:',\n",
       " tensor([[ 11.2599],\n",
       "         [148.0827],\n",
       "         [ 70.1127],\n",
       "         [ 91.3726],\n",
       "         [-22.2219]], grad_fn=<AddBackward0>),\n",
       " 'Actual',\n",
       " tensor([[ 11.4776],\n",
       "         [145.6361],\n",
       "         [ 70.0573],\n",
       "         [ 90.4038],\n",
       "         [-18.6300]]))"
      ]
     },
     "execution_count": 32,
     "metadata": {},
     "output_type": "execute_result"
    }
   ],
   "source": [
    "'Prediction:',\\\n",
    "skill_dyn.predict_state(hot_air_ballon_start_states,hot_air_ballon_start_actions),\\\n",
    "'Actual',\\\n",
    "hot_air_ballon_next_states"
   ]
  },
  {
   "cell_type": "markdown",
   "metadata": {},
   "source": [
    "Great! It seems that batch norm makes `SkillDynamics` compatible with state space inputs of varying values \n",
    "that will addapt as the agent explores its environment."
   ]
  },
  {
   "cell_type": "code",
   "execution_count": 98,
   "metadata": {},
   "outputs": [
    {
     "data": {
      "text/plain": [
       "\u001b[0;31mInit signature:\u001b[0m\n",
       "\u001b[0mSkillDynamics\u001b[0m\u001b[0;34m(\u001b[0m\u001b[0;34m\u001b[0m\n",
       "\u001b[0;34m\u001b[0m    \u001b[0ms_dim\u001b[0m\u001b[0;34m,\u001b[0m\u001b[0;34m\u001b[0m\n",
       "\u001b[0;34m\u001b[0m    \u001b[0ma_dim\u001b[0m\u001b[0;34m,\u001b[0m\u001b[0;34m\u001b[0m\n",
       "\u001b[0;34m\u001b[0m    \u001b[0mn_components\u001b[0m\u001b[0;34m,\u001b[0m\u001b[0;34m\u001b[0m\n",
       "\u001b[0;34m\u001b[0m    \u001b[0mfix_variance\u001b[0m\u001b[0;34m:\u001b[0m \u001b[0mbool\u001b[0m \u001b[0;34m=\u001b[0m \u001b[0;32mFalse\u001b[0m\u001b[0;34m,\u001b[0m\u001b[0;34m\u001b[0m\n",
       "\u001b[0;34m\u001b[0m    \u001b[0muse_model_mean\u001b[0m\u001b[0;34m:\u001b[0m \u001b[0mbool\u001b[0m \u001b[0;34m=\u001b[0m \u001b[0;32mNone\u001b[0m\u001b[0;34m,\u001b[0m\u001b[0;34m\u001b[0m\n",
       "\u001b[0;34m\u001b[0m    \u001b[0muse_batch_norm\u001b[0m\u001b[0;34m:\u001b[0m \u001b[0mbool\u001b[0m \u001b[0;34m=\u001b[0m \u001b[0;32mTrue\u001b[0m\u001b[0;34m,\u001b[0m\u001b[0;34m\u001b[0m\n",
       "\u001b[0;34m\u001b[0m    \u001b[0mfc_params\u001b[0m\u001b[0;34m:\u001b[0m \u001b[0mtuple\u001b[0m \u001b[0;34m=\u001b[0m \u001b[0;32mNone\u001b[0m\u001b[0;34m,\u001b[0m\u001b[0;34m\u001b[0m\n",
       "\u001b[0;34m\u001b[0m\u001b[0;34m)\u001b[0m\u001b[0;34m\u001b[0m\u001b[0;34m\u001b[0m\u001b[0m\n",
       "\u001b[0;31mDocstring:\u001b[0m      Same as `nn.Module`, but no need for subclasses to call `super().__init__`\n",
       "\u001b[0;31mSource:\u001b[0m        \n",
       "\u001b[0;32mclass\u001b[0m \u001b[0mPrePostInitMeta\u001b[0m\u001b[0;34m(\u001b[0m\u001b[0mFixSigMeta\u001b[0m\u001b[0;34m)\u001b[0m\u001b[0;34m:\u001b[0m\u001b[0;34m\u001b[0m\n",
       "\u001b[0;34m\u001b[0m    \u001b[0;34m\"A metaclass that calls optional `__pre_init__` and `__post_init__` methods\"\u001b[0m\u001b[0;34m\u001b[0m\n",
       "\u001b[0;34m\u001b[0m    \u001b[0;32mdef\u001b[0m \u001b[0m__call__\u001b[0m\u001b[0;34m(\u001b[0m\u001b[0mcls\u001b[0m\u001b[0;34m,\u001b[0m \u001b[0;34m*\u001b[0m\u001b[0margs\u001b[0m\u001b[0;34m,\u001b[0m \u001b[0;34m**\u001b[0m\u001b[0mkwargs\u001b[0m\u001b[0;34m)\u001b[0m\u001b[0;34m:\u001b[0m\u001b[0;34m\u001b[0m\n",
       "\u001b[0;34m\u001b[0m        \u001b[0mres\u001b[0m \u001b[0;34m=\u001b[0m \u001b[0mcls\u001b[0m\u001b[0;34m.\u001b[0m\u001b[0m__new__\u001b[0m\u001b[0;34m(\u001b[0m\u001b[0mcls\u001b[0m\u001b[0;34m)\u001b[0m\u001b[0;34m\u001b[0m\n",
       "\u001b[0;34m\u001b[0m        \u001b[0;32mif\u001b[0m \u001b[0mtype\u001b[0m\u001b[0;34m(\u001b[0m\u001b[0mres\u001b[0m\u001b[0;34m)\u001b[0m\u001b[0;34m==\u001b[0m\u001b[0mcls\u001b[0m\u001b[0;34m:\u001b[0m\u001b[0;34m\u001b[0m\n",
       "\u001b[0;34m\u001b[0m            \u001b[0;32mif\u001b[0m \u001b[0mhasattr\u001b[0m\u001b[0;34m(\u001b[0m\u001b[0mres\u001b[0m\u001b[0;34m,\u001b[0m\u001b[0;34m'__pre_init__'\u001b[0m\u001b[0;34m)\u001b[0m\u001b[0;34m:\u001b[0m \u001b[0mres\u001b[0m\u001b[0;34m.\u001b[0m\u001b[0m__pre_init__\u001b[0m\u001b[0;34m(\u001b[0m\u001b[0;34m*\u001b[0m\u001b[0margs\u001b[0m\u001b[0;34m,\u001b[0m\u001b[0;34m**\u001b[0m\u001b[0mkwargs\u001b[0m\u001b[0;34m)\u001b[0m\u001b[0;34m\u001b[0m\n",
       "\u001b[0;34m\u001b[0m            \u001b[0mres\u001b[0m\u001b[0;34m.\u001b[0m\u001b[0m__init__\u001b[0m\u001b[0;34m(\u001b[0m\u001b[0;34m*\u001b[0m\u001b[0margs\u001b[0m\u001b[0;34m,\u001b[0m\u001b[0;34m**\u001b[0m\u001b[0mkwargs\u001b[0m\u001b[0;34m)\u001b[0m\u001b[0;34m\u001b[0m\n",
       "\u001b[0;34m\u001b[0m            \u001b[0;32mif\u001b[0m \u001b[0mhasattr\u001b[0m\u001b[0;34m(\u001b[0m\u001b[0mres\u001b[0m\u001b[0;34m,\u001b[0m\u001b[0;34m'__post_init__'\u001b[0m\u001b[0;34m)\u001b[0m\u001b[0;34m:\u001b[0m \u001b[0mres\u001b[0m\u001b[0;34m.\u001b[0m\u001b[0m__post_init__\u001b[0m\u001b[0;34m(\u001b[0m\u001b[0;34m*\u001b[0m\u001b[0margs\u001b[0m\u001b[0;34m,\u001b[0m\u001b[0;34m**\u001b[0m\u001b[0mkwargs\u001b[0m\u001b[0;34m)\u001b[0m\u001b[0;34m\u001b[0m\n",
       "\u001b[0;34m\u001b[0m        \u001b[0;32mreturn\u001b[0m \u001b[0mres\u001b[0m\u001b[0;34m\u001b[0m\u001b[0;34m\u001b[0m\u001b[0m\n",
       "\u001b[0;31mFile:\u001b[0m           /opt/conda/envs/fastrl/lib/python3.7/site-packages/fastcore/meta.py\n",
       "\u001b[0;31mType:\u001b[0m           PrePostInitMeta\n",
       "\u001b[0;31mSubclasses:\u001b[0m     \n"
      ]
     },
     "metadata": {},
     "output_type": "display_data"
    }
   ],
   "source": [
    "SkillDynamics??"
   ]
  },
  {
   "cell_type": "markdown",
   "metadata": {},
   "source": [
    "## DADS Agent\n",
    "\n",
    "Some important notes...\n",
    "\n",
    "Earlier `SkillDynamics` had:\n",
    "```python\n",
    "SkillDynamics(s_dim=1,a_dim=1,n_components=2)\n",
    "```\n",
    "where `a_dim` was the action dimension. In reality this is the **skill** dimension. You could say that if `a_dim` is being fed raw actions, then `SkillDynamics` should be renamed `ActionDynamics`.\n",
    "\n",
    "However, you will see in `DADS`, that the `SkillDynamics` is always fed the skills as opposed to the primitive actions."
   ]
  },
  {
   "cell_type": "markdown",
   "metadata": {},
   "source": [
    "### Marginalization methods\n",
    "> Ways of calculating the denominator.\n",
    "\n",
    "A good reference is [Probability concepts explained: Marginalisation](https://towardsdatascience.com/probability-concepts-explained-marginalisation-2296846344fc). We need to calculate the intrinsic reward whose primary goal is to say:\n",
    "- Did this skill produce predictable results? If so, let's reward it for doing so!\n",
    "\n",
    "The actual math from the [Dynamics-Aware Unsupervised Discovery of Skills](https://arxiv.org/abs/1907.01657) for intrinsic reward:"
   ]
  },
  {
   "cell_type": "markdown",
   "metadata": {},
   "source": [
    "<h5><center>\n",
    "$r_z(s,a,s')=\\log{\\frac{q_{\\phi}(s' \\mid s,z)}{\\sum_{i=1}^L q_{\\phi}(s' \\mid s,z_i)}}+\\log{L},~~ z_i \\sim p(z)$\n",
    "</center></h5>"
   ]
  },
  {
   "cell_type": "markdown",
   "metadata": {},
   "source": [
    "The first part of getting the intrinsic reward is getting the denominator:\n",
    "$\\sum_{i=1}^L q_{\\phi}(s' \\mid s,z_i)$ which is going to be the *all other possible skills*."
   ]
  },
  {
   "cell_type": "code",
   "execution_count": 163,
   "metadata": {},
   "outputs": [],
   "source": [
    "# export\n",
    "def discrete_uniform(current_skill,latent_sz:int=2,alt_s:Tensor=None,deterministic:bool=False):\n",
    "    \"Returns a uniform discrete distribution.\"\n",
    "    if deterministic: \n",
    "        return torch.cat([torch.roll(current_skill,i,dims=1) for i in range(1,alt_s.shape[0])])\n",
    "    return Multinomial(1,probs=Tensor([1./latent_sz]*latent_sz)).sample_n(alt_s.shape[0])"
   ]
  },
  {
   "cell_type": "code",
   "execution_count": 164,
   "metadata": {},
   "outputs": [],
   "source": [
    "skill_size=5 # Skill \n",
    "alt_s=torch.ones((5,3))\n",
    "current_skill=Tensor([[0,0,0,1,0]])"
   ]
  },
  {
   "cell_type": "markdown",
   "metadata": {},
   "source": [
    "We have the current skill that was used..."
   ]
  },
  {
   "cell_type": "code",
   "execution_count": 165,
   "metadata": {},
   "outputs": [
    {
     "data": {
      "text/plain": [
       "tensor([[0., 0., 0., 1., 0.]])"
      ]
     },
     "execution_count": 165,
     "metadata": {},
     "output_type": "execute_result"
    }
   ],
   "source": [
    "current_skill"
   ]
  },
  {
   "cell_type": "markdown",
   "metadata": {},
   "source": [
    "...and so the other skills to compare it with are..."
   ]
  },
  {
   "cell_type": "code",
   "execution_count": 166,
   "metadata": {},
   "outputs": [
    {
     "data": {
      "text/plain": [
       "tensor([[0., 0., 0., 0., 1.],\n",
       "        [1., 0., 0., 0., 0.],\n",
       "        [0., 1., 0., 0., 0.],\n",
       "        [0., 0., 1., 0., 0.]])"
      ]
     },
     "execution_count": 166,
     "metadata": {},
     "output_type": "execute_result"
    }
   ],
   "source": [
    "discrete_uniform(current_skill,latent_sz=skill_size,alt_s=alt_s,deterministic=True)"
   ]
  },
  {
   "cell_type": "markdown",
   "metadata": {},
   "source": [
    "... but this isn't very random is it? It just rolling them so let's add some random\n",
    "alternative skills to look at..."
   ]
  },
  {
   "cell_type": "code",
   "execution_count": 167,
   "metadata": {},
   "outputs": [
    {
     "data": {
      "text/plain": [
       "tensor([[1., 0., 0., 0., 0.],\n",
       "        [0., 0., 0., 0., 1.],\n",
       "        [0., 0., 0., 0., 1.],\n",
       "        [0., 1., 0., 0., 0.],\n",
       "        [1., 0., 0., 0., 0.]])"
      ]
     },
     "execution_count": 167,
     "metadata": {},
     "output_type": "execute_result"
    }
   ],
   "source": [
    "discrete_uniform(current_skill,latent_sz=skill_size,alt_s=alt_s)"
   ]
  },
  {
   "cell_type": "markdown",
   "metadata": {},
   "source": [
    "But you may ask, what if the skill is continuous? For example:"
   ]
  },
  {
   "cell_type": "code",
   "execution_count": 168,
   "metadata": {},
   "outputs": [
    {
     "data": {
      "text/plain": [
       "tensor([[0.1000, 0.2000, 0.2000, 0.3000, 0.2000]])"
      ]
     },
     "execution_count": 168,
     "metadata": {},
     "output_type": "execute_result"
    }
   ],
   "source": [
    "current_skill=Tensor([[0.1,0.2,0.2,0.3,0.2]]);current_skill"
   ]
  },
  {
   "cell_type": "markdown",
   "metadata": {},
   "source": [
    "Well then we have a few other disributions to sample instead!"
   ]
  },
  {
   "cell_type": "code",
   "execution_count": null,
   "metadata": {},
   "outputs": [],
   "source": [
    "# hide\n",
    "def show2d(t:Tensor):"
   ]
  },
  {
   "cell_type": "code",
   "execution_count": 173,
   "metadata": {},
   "outputs": [],
   "source": [
    "# export\n",
    "def cont_gaussian(sz:int,alt_s:Tensor):\n",
    "    \"Returns a continuous guassian distribution of size `sz`\"\n",
    "    return MultivariateNormal(torch.zeros(sz),torch.eye(sz)).sample_n(alt_s.shape[0])"
   ]
  },
  {
   "cell_type": "code",
   "execution_count": 180,
   "metadata": {},
   "outputs": [
    {
     "data": {
      "text/plain": [
       "tensor([[-0.3195,  0.1748,  1.0341, -0.5630,  0.2380],\n",
       "        [ 0.3240, -0.0412, -0.4597, -2.1902,  0.0244],\n",
       "        [ 0.9082,  0.3915,  0.8459, -0.6514,  1.6217],\n",
       "        [-1.7011, -1.1576, -0.1004, -0.8319,  0.3888],\n",
       "        [-0.7661, -1.0383, -0.7232,  0.2897,  0.3999]])"
      ]
     },
     "execution_count": 180,
     "metadata": {},
     "output_type": "execute_result"
    }
   ],
   "source": [
    "cont_gaussian(skill_size,alt_s)"
   ]
  },
  {
   "cell_type": "code",
   "execution_count": 177,
   "metadata": {},
   "outputs": [
    {
     "data": {
      "text/plain": [
       "array([[-0.59757962, -0.00414586,  0.59792878, -0.93434294,  0.22219328],\n",
       "       [ 0.07873538,  0.60221156, -0.90653623, -0.62373714,  0.09617011],\n",
       "       [-0.68870973, -0.11055043, -0.48887387, -0.72144175,  0.81364112],\n",
       "       [-0.88802999,  0.67341878,  0.32644702,  0.64245965,  0.16416884],\n",
       "       [ 0.82191753,  0.98977457,  0.08325447,  0.36874363,  0.02606827]])"
      ]
     },
     "execution_count": 177,
     "metadata": {},
     "output_type": "execute_result"
    }
   ],
   "source": [
    "np.random.uniform(\n",
    "low=-1.0, high=1.0, size=(alt_s.shape[0], skill_size))"
   ]
  },
  {
   "cell_type": "code",
   "execution_count": null,
   "metadata": {},
   "outputs": [],
   "source": [
    "# export\n",
    "def "
   ]
  },
  {
   "cell_type": "markdown",
   "metadata": {},
   "source": [
    "### Agent"
   ]
  },
  {
   "cell_type": "code",
   "execution_count": null,
   "metadata": {},
   "outputs": [],
   "source": [
    "# export\n",
    "@delegates(SAC)\n",
    "class DADS(SAC):\n",
    "    def __init__(self,num_inputs,action_space,num_skills:int=20,include_actions:bool=False,hidden_size=100,lr=0.003,\n",
    "                 n_components:int=4,prior_samples:int=100,latent_sz:int=2,**kwargs):\n",
    "        store_attr()\n",
    "        self.num_inputs=num_inputs+self.num_skills\n",
    "        self.original_num_inputs=num_inputs\n",
    "        self.skill_dyn=SkillDynamics(self.num_inputs,action_space.shape[0],self.n_components)\n",
    "        super().__init__(self.num_inputs,self.latent_sz,hidden_size=hidden_size,lr=lr,**kwargs)\n",
    "    \n",
    "    def intrinsic_reward(self,s,z:int,sp):\n",
    "        \"Given a batch of `s` and `sp` what is the reward for using skill `z`?\"\n",
    "        n_repetitions=self.prior_samples if self.prior_samples>0 else self.latent_sz-1\n",
    "        alt_s=torch.cat([s]*n_repetitions,axis=0)\n",
    "        alt_sp=torch.cat([sp]*n_repetitions,axis=0)\n",
    "        \n",
    "        \n",
    "        return 0"
   ]
  },
  {
   "cell_type": "code",
   "execution_count": null,
   "metadata": {},
   "outputs": [],
   "source": [
    "cur_skill=[[0,0,0,1,0,0,0]]"
   ]
  },
  {
   "cell_type": "code",
   "execution_count": null,
   "metadata": {},
   "outputs": [],
   "source": []
  },
  {
   "cell_type": "code",
   "execution_count": null,
   "metadata": {},
   "outputs": [],
   "source": [
    "dads=DADS(1,gym.spaces.Box(-1,1,(1,)));dads"
   ]
  },
  {
   "cell_type": "code",
   "execution_count": null,
   "metadata": {},
   "outputs": [],
   "source": [
    "dads.intrinsic_reward(hot_air_ballon_start_states,1,hot_air_ballon_next_states)\n",
    "\n"
   ]
  },
  {
   "cell_type": "markdown",
   "metadata": {},
   "source": [
    "## Full Training"
   ]
  },
  {
   "cell_type": "code",
   "execution_count": null,
   "metadata": {},
   "outputs": [],
   "source": [
    "# # export\n",
    "# class Discriminator(Module):\n",
    "#     \"`Module` for storing skills. Receives input (`num_inputs`+`num_actions`) -> `num_skills`.\"\n",
    "#     def __init__(self, num_inputs,num_actions,num_skills,hidden_dim):\n",
    "#         self.linear1 = nn.Linear(num_inputs+num_skills, hidden_dim)\n",
    "#         self.linear2 = nn.Linear(hidden_dim, hidden_dim)\n",
    "#         self.linear3 = nn.Linear(hidden_dim,num_skills)\n",
    "\n",
    "#         self.apply(weights_init_)\n",
    "\n",
    "#     def forward(self, state):\n",
    "#         x = F.relu(self.linear1(state.float()))\n",
    "#         x = F.relu(self.linear2(x))\n",
    "#         return self.linear3(x)"
   ]
  },
  {
   "cell_type": "code",
   "execution_count": null,
   "metadata": {},
   "outputs": [],
   "source": [
    "# # export\n",
    "# @delegates(SAC)\n",
    "# class DADS(SAC):\n",
    "#     def __init__(self,num_inputs,action_space,discriminator:Module=None,num_skills:int=20,\n",
    "#                  find_best_skill_interval:int=10,scale_entropy:float=1,\n",
    "#                  best_skill_n_rollouts:int=10,include_actions:bool=False,\n",
    "#                  learn_p_z:bool=False,add_p_z:bool=True,hidden_size=100,lr=0.003,**kwargs):\n",
    "#         store_attr()\n",
    "#         self.num_inputs=num_inputs+self.num_skills\n",
    "#         self.original_num_inputs=num_inputs\n",
    "#         self.p_z=np.full(self.num_skills,1.0/self.num_skills)\n",
    "#         self.discriminator=Discriminator(self.original_num_inputs,action_space.shape[0],\n",
    "#                                          num_skills,hidden_size)\n",
    "\n",
    "#         self.discriminator_optim = Adam(self.discriminator.parameters(), lr=self.lr)\n",
    "\n",
    "#         self.log_p_z_episode=[]\n",
    "#         self.z=0\n",
    "#         self.reset_z()\n",
    "\n",
    "\n",
    "#         super().__init__(self.num_inputs,action_space,hidden_size=hidden_size,lr=lr,**kwargs)\n",
    "\n",
    "#     def sample_z(self):\n",
    "#         \"\"\"Samples z from p(z), using probabilities in self._p_z.\"\"\"\n",
    "#         return np.random.choice(self.num_skills,p=self.p_z)\n",
    "\n",
    "#     def reset_z(self): self.z=self.sample_z()\n",
    "#     def __call__(self,s,asl):\n",
    "#         aug_s=self.concat_obs_z(s,self.z)\n",
    "#         return super().__call__(aug_s,asl)\n",
    "\n",
    "#     def concat_obs_z(self,obs,z):\n",
    "#         \"\"\"Concatenates the observation to a one-hot encoding of Z.\"\"\"\n",
    "#         assert np.isscalar(z)\n",
    "#         if type(obs)==list and len(obs)==1: obs=obs[0]\n",
    "#         if len(obs.shape)==2 and obs.shape[0]==1: obs=obs[0]\n",
    "\n",
    "#         z_one_hot=np.zeros(self.num_skills)\n",
    "#         z_one_hot[z]=1\n",
    "#         if type(obs)==Tensor: obs=obs.cpu()\n",
    "#         return torch.FloatTensor(np.hstack([obs,z_one_hot])).reshape(1,-1)\n",
    "\n",
    "#     def skill_p(self,skill,next_state):\n",
    "#         unnorm_skill_dist=self.discriminator(next_state).unsqueeze(0)\n",
    "#         skill_p=F.softmax(unnorm_skill_dist)[:,skill]\n",
    "#         return skill_p,unnorm_skill_dist\n",
    "\n",
    "#     def discriminator_learn(self,skill,out):\n",
    "#         self.discriminator_optim.zero_grad()\n",
    "#         loss=nn.CrossEntropyLoss()(out,torch.LongTensor([skill]))\n",
    "#         loss.backward()\n",
    "#         self.discriminator_optim.step()\n",
    "\n",
    "#     def intrinsic_reward(self,next_state):\n",
    "#         skill_p,disc_out=self.skill_p(self.z,next_state)\n",
    "#         intrinsic_reward=np.log(skill_p.cpu().detach()+1e-8)-np.log(self.p_z[self.z])\n",
    "# #         print(skill_p,self.p_z,intrinsic_reward)\n",
    "#         return intrinsic_reward,disc_out\n"
   ]
  },
  {
   "cell_type": "code",
   "execution_count": null,
   "metadata": {},
   "outputs": [],
   "source": [
    "# # export\n",
    "# class DiscriminatorTrainer(ExperienceReplay):\n",
    "\n",
    "#     def __init__(self,*args,**kwargs):\n",
    "#         self.log_p_z_episode=[]\n",
    "#         super().__init__(*args,**kwargs)\n",
    "        \n",
    "#     def before_fit(self):\n",
    "#         self.learn.agent.warming_up=True\n",
    "#         while len(self.queue)<self.starting_els:\n",
    "#             for i,o in enumerate(self.dls.train):\n",
    "#                 z=self.learn.agent.z\n",
    "#                 batch=[ExperienceFirstLast(state=self.learn.agent.concat_obs_z(o[0][i],z)[0],\n",
    "#                                            action=o[1][i],\n",
    "#                                            reward=o[2][i],\n",
    "#                                            last_state=self.learn.agent.concat_obs_z(o[3][i],z)[0], \n",
    "#                                            done=(o[4][i] and self.max_steps!=o[6][i]),\n",
    "#                                            episode_reward=o[5][i],steps=o[6][i])\n",
    "#                                     for i in range(len(o[0]))]\n",
    "# #                 print(self.max_steps,max([o.steps for o in batch]))\n",
    "# #                 print(batch[0])\n",
    "#                 for k in range(len(batch)):\n",
    "#                     intrinsic_reward,disc_out=self.learn.agent.intrinsic_reward(Tensor(batch[k].last_state))\n",
    "#                     self.learn.agent.discriminator_learn(self.agent.z,disc_out)\n",
    "#                     batch[k]=ExperienceFirstLast(\n",
    "#                         state=batch[k].state.to(device=default_device()),\n",
    "#                         action=batch[k].action,\n",
    "#                         reward=intrinsic_reward,\n",
    "#                         last_state=batch[k].last_state.to(device=default_device()),\n",
    "#                         done=batch[k].done,\n",
    "#                         episode_reward=batch[k].episode_reward,\n",
    "#                         steps=batch[k].steps\n",
    "#                     )\n",
    "\n",
    "\n",
    "# #                 print(batch[0])\n",
    "#                 for _b in batch:self.queue.append(_b)\n",
    "#                 if any([_b.done for _b in batch]): self.learn.agent.reset_z()\n",
    "#                 if len(self.queue)>self.starting_els:break\n",
    "#         self.learn.agent.warming_up=False\n",
    "\n",
    "# # #     def after_epoch(self):\n",
    "# # #         print(len(self.queue))\n",
    "#     def before_batch(self):\n",
    "# #         print(len(self.queue))\n",
    "#         b=list(self.learn.xb)+list(self.learn.yb)\n",
    "#         z=self.learn.agent.z\n",
    "#         batch=[ExperienceFirstLast(state=self.learn.agent.concat_obs_z(b[0][i],z)[0],\n",
    "#                                    action=b[1][i],\n",
    "#                                    reward=b[2][i],\n",
    "#                                    last_state=self.learn.agent.concat_obs_z(b[3][i],z)[0], \n",
    "#                                    done=(b[4][i] and self.max_steps!=b[6][i]),\n",
    "#                                    episode_reward=b[5][i],steps=b[6][i])\n",
    "#               for i in range(len(b[0]))]\n",
    "        \n",
    "#         for k in range(len(batch)):\n",
    "#             intrinsic_reward,disc_out=self.learn.agent.intrinsic_reward(Tensor(batch[k].last_state))\n",
    "#             self.learn.agent.discriminator_learn(self.agent.z,disc_out)\n",
    "#             batch[k]=ExperienceFirstLast(\n",
    "#                 state=batch[k].state.to(device=default_device()),\n",
    "#                 action=batch[k].action,\n",
    "#                 reward=intrinsic_reward,\n",
    "#                 last_state=batch[k].last_state.to(device=default_device()),\n",
    "#                 done=batch[k].done,\n",
    "#                 episode_reward=batch[k].episode_reward,\n",
    "#                 steps=batch[k].steps\n",
    "#             )\n",
    "        \n",
    "# #         print(self.learn.xb)\n",
    "#         self.learn.xb=(torch.stack([e.state for e in batch]),)\n",
    "# #         print(self.learn.yb)\n",
    "#         self.learn.yb=(torch.stack([o.action for o in batch]),\n",
    "#                        torch.stack([o.reward for o in batch]),\n",
    "#                        torch.stack([o.last_state for o in batch]),\n",
    "#                        torch.stack([o.done for o in batch]),\n",
    "#                        torch.stack([o.episode_reward for o in batch]),\n",
    "#                        torch.stack([o.steps for o in batch]))\n",
    "# #         print(self.learn.yb)\n",
    "        \n",
    "#         for _b in batch: self.queue.append(_b)\n",
    "#         idxs=np.random.randint(0,len(self.queue), self.bs)\n",
    "#         self.learn.sample_yb=[self.queue[i] for i in idxs]"
   ]
  },
  {
   "cell_type": "code",
   "execution_count": null,
   "metadata": {},
   "outputs": [],
   "source": [
    "# from pybulletgym.envs import *\n",
    "\n",
    "# env='InvertedPendulumPyBulletEnv-v0'\n",
    "# agent=DADS(5,gym.make(env).action_space,gamma=0.99,tau=0.005,alpha=0.1,hidden_size=300,num_skills=5)\n",
    "# block=FirstLastExperienceBlock(agent=agent,seed=0,n_steps=2,exclude_nones=True,\n",
    "#                                dls_kwargs={'bs':1,'num_workers':0,'verbose':False,'indexed':True,'shuffle_train':False})\n",
    "# blk=IterableDataBlock(blocks=(block),splitter=FuncSplitter(lambda x:False))\n",
    "# dls=blk.dataloaders([env]*1,n=10,device=default_device())\n",
    "\n",
    "# learner=SACLearner(dls,agent=agent,cbs=[DiscriminatorTrainer(sz=1000000,bs=64,starting_els=1000,max_steps=gym.make(env)._max_episode_steps),\n",
    "#                                         SACCriticTrainer],\n",
    "#                    metrics=[AvgEpisodeRewardMetric(experience_cls=ExperienceFirstLast)])\n",
    "# learner.fit(1,lr=0.003,wd=0)"
   ]
  },
  {
   "cell_type": "code",
   "execution_count": null,
   "metadata": {},
   "outputs": [],
   "source": [
    "# # hide\n",
    "# # slow\n",
    "# import gym\n",
    "# from IPython import display\n",
    "# import PIL.Image\n",
    "# %matplotlib inline\n",
    "\n",
    "# # env=gym.make('InvertedPendulumPyBulletEnv-v0')\n",
    "# # s=env.reset()\n",
    "\n",
    "# # for z in range(5):\n",
    "# #     for i in range(0,100,20):\n",
    "# #         s=env.reset()\n",
    "# #         env.seed(i)\n",
    "# #         for _ in range(200):\n",
    "# #             display.clear_output(wait=True)\n",
    "# #             display.display(PIL.Image.fromarray(env.render(mode='rgb_array')))\n",
    "\n",
    "# #             agent.z=z\n",
    "# #             a,_=agent(s,None)\n",
    "\n",
    "# #             s,r,d,_=env.step(a)\n",
    "# #             if d:\n",
    "# #                 break"
   ]
  },
  {
   "cell_type": "code",
   "execution_count": null,
   "metadata": {},
   "outputs": [],
   "source": [
    "# hide\n",
    "from nbdev.export import *\n",
    "from nbdev.export2html import *\n",
    "notebook2script()\n",
    "notebook2html()"
   ]
  },
  {
   "cell_type": "code",
   "execution_count": null,
   "metadata": {},
   "outputs": [],
   "source": []
  }
 ],
 "metadata": {
  "kernelspec": {
   "display_name": "Python 3",
   "language": "python",
   "name": "python3"
  },
  "language_info": {
   "codemirror_mode": {
    "name": "ipython",
    "version": 3
   },
   "file_extension": ".py",
   "mimetype": "text/x-python",
   "name": "python",
   "nbconvert_exporter": "python",
   "pygments_lexer": "ipython3",
   "version": "3.7.9"
  }
 },
 "nbformat": 4,
 "nbformat_minor": 4
}
