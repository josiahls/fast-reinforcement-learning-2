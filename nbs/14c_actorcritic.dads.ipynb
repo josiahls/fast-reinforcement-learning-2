{
 "cells": [
  {
   "cell_type": "code",
   "execution_count": 1,
   "metadata": {},
   "outputs": [],
   "source": [
    "# default_exp actorcritic.dads"
   ]
  },
  {
   "cell_type": "code",
   "execution_count": 2,
   "metadata": {},
   "outputs": [],
   "source": [
    "import os\n",
    "os.environ['CUDA_LAUNCH_BLOCKING'] = \"1\""
   ]
  },
  {
   "cell_type": "code",
   "execution_count": 3,
   "metadata": {},
   "outputs": [],
   "source": [
    "#export\n",
    "import torch.nn.utils as nn_utils\n",
    "from fastai.torch_basics import *\n",
    "import torch.nn.functional as F\n",
    "from fastai.data.all import *\n",
    "from fastai.basics import *\n",
    "from dataclasses import field,asdict\n",
    "from typing import List,Any,Dict,Callable\n",
    "from collections import deque\n",
    "import gym\n",
    "import torch.multiprocessing as mp\n",
    "from torch.optim import *\n",
    "from dataclasses import dataclass\n",
    "\n",
    "from fastrl.data import *\n",
    "from fastrl.async_data import *\n",
    "from fastrl.basic_agents import *\n",
    "from fastrl.learner import *\n",
    "from fastrl.metrics import *\n",
    "from fastai.callback.progress import *\n",
    "from fastrl.ptan_extension import *\n",
    "from fastrl.actorcritic.sac import *\n",
    "from fastrl.actorcritic.diayn import *\n",
    "\n",
    "from torch.distributions import *\n",
    "\n",
    "import matplotlib.pyplot as plt\n",
    "\n",
    "if IN_NOTEBOOK:\n",
    "    from IPython import display\n",
    "    import PIL.Image"
   ]
  },
  {
   "cell_type": "code",
   "execution_count": 4,
   "metadata": {},
   "outputs": [],
   "source": [
    "# hide\n",
    "from nbdev.showdoc import *\n",
    "from nbdev.imports import *\n",
    "from nbdev.export2html import *\n",
    "if not os.environ.get(\"IN_TEST\", None):\n",
    "    assert IN_NOTEBOOK\n",
    "    assert not IN_COLAB\n",
    "    assert IN_IPYTHON"
   ]
  },
  {
   "cell_type": "markdown",
   "metadata": {},
   "source": [
    "# DADS\n",
    "\n",
    "> Diversity Is All You Need"
   ]
  },
  {
   "cell_type": "markdown",
   "metadata": {},
   "source": [
    "## GMM\n",
    "> A neural net with a gaussian probability distribution component."
   ]
  },
  {
   "cell_type": "code",
   "execution_count": 27,
   "metadata": {},
   "outputs": [],
   "source": [
    "# export \n",
    "class OptionalClampLinear(Module):\n",
    "    def __init__(self,num_inputs,state_dims,fix_variance:bool=False,\n",
    "                 clip_min=0.3,clip_max=10.0):\n",
    "        \"Linear layer or constant block used for std.\"\n",
    "        store_attr()\n",
    "        if self.fix_variance: self.fc=nn.Linear(self.num_inputs,self.state_dims)\n",
    "    \n",
    "    def forward(self,x):\n",
    "        if self.fix_variance: return torch.full((x.shape[0],self.state_dims),1.0)\n",
    "        else:                 return torch.clamp(nn.Softplus()(self.fc(x)))\n",
    "\n",
    "class MultiCompGMM(Module):\n",
    "    def __init__(self,num_inputs,state_dims,n_components,fix_variance:bool=False):\n",
    "        \"Multi-component GMM parameterized by a fully connected layer with optional std layer.\"\n",
    "        store_attr()\n",
    "        self.logit_fc=nn.Linear(self.num_inputs,self.n_components)\n",
    "        self.mean_fcs=nn.ModuleList([nn.Linear(self.num_inputs,self.state_dims) for _ in range(self.n_components)])\n",
    "        self.std_fcs=nn.ModuleList([OptionalClampLinear(self.num_inputs,self.state_dims,fix_variance) for _ in range(self.n_components)])\n",
    "        self.distribution=None\n",
    "\n",
    "    def forward(self,x):\n",
    "        means=torch.stack([o(x) for o in self.mean_fcs],dim=1)\n",
    "        stds=torch.stack([o(x) for o in self.std_fcs],dim=1)\n",
    "        logits=self.logit_fc(x)\n",
    "        return MixtureSameFamily(\n",
    "            mixture_distribution=Categorical(logits),\n",
    "            component_distribution=Independent(Normal(means,stds),1)\n",
    "        )\n",
    "    \n",
    "class SimpleGMM(Module):\n",
    "    def __init__(self,num_inputs,state_dims,fix_variance:bool=False):\n",
    "        \"Single-component GMM parameterized by a fully connected layer with optional std layer.\"\n",
    "        store_attr()\n",
    "        self.mean_fc=nn.Linear(self.num_inputs,self.state_dims)\n",
    "        self.std_fc=OptionalClampLinear(self.num_inputs,self.state_dims,fix_variance)\n",
    "        \n",
    "    def forward(self,x): return Independent(Normal(self.mean_fc(x),self.std_fc(x)),1)\n",
    "\n",
    "class GMM(Module):\n",
    "    def __init__(self,num_inputs,state_dims,n_components,fix_variance:bool=False):\n",
    "        \"N-component GMM parameterized by fully connected layers with optional std layers.\"\n",
    "        store_attr()\n",
    "        if self.n_components>1: self.distribution=MultiCompGMM(num_inputs,state_dims,n_components,fix_variance)\n",
    "        else:                   self.distribution=SimpleGMM(num_inputs,state_dims,fix_variance)\n",
    "        \n",
    "    def forward(self,x): return self.distribution(x)"
   ]
  },
  {
   "cell_type": "markdown",
   "metadata": {},
   "source": [
    "The GMM is going to try to predict the next state. So lets make a simple input to optimize against.\n",
    "This test will be of a hot airballoon. Lets see if we can have a reasonable next state prediction."
   ]
  },
  {
   "cell_type": "code",
   "execution_count": 28,
   "metadata": {},
   "outputs": [
    {
     "data": {
      "image/png": "[encoded data removed]",
      "text/plain": [
       "<Figure size 432x288 with 1 Axes>"
      ]
     },
     "metadata": {
      "needs_background": "light"
     },
     "output_type": "display_data"
    }
   ],
   "source": [
    "hot_air_ballon_start_states=torch.randn((5,1))\n",
    "hot_air_ballon_start_actions=torch.randn((5,1))-0.5\n",
    "hot_air_ballon_next_states=hot_air_ballon_start_states+hot_air_ballon_start_actions\n",
    "\n",
    "plt.plot(hot_air_ballon_start_states.numpy(),label='Start')\n",
    "plt.plot(hot_air_ballon_start_actions.numpy(),label='Action')\n",
    "plt.plot(hot_air_ballon_next_states.numpy(),label='Next Step')\n",
    "plt.legend()\n",
    "plt.show()"
   ]
  },
  {
   "cell_type": "code",
   "execution_count": 29,
   "metadata": {},
   "outputs": [],
   "source": [
    "gmm=GMM(2,1,2,fix_variance=True)\n",
    "opt=Adam(gmm.parameters(),lr=0.001)"
   ]
  },
  {
   "cell_type": "markdown",
   "metadata": {},
   "source": [
    "We have our GMM, so lets first see if we can get it to optimize to predict a next state..."
   ]
  },
  {
   "cell_type": "code",
   "execution_count": 30,
   "metadata": {},
   "outputs": [],
   "source": [
    "next_timesteps=hot_air_ballon_next_states-hot_air_ballon_start_states"
   ]
  },
  {
   "cell_type": "code",
   "execution_count": 36,
   "metadata": {},
   "outputs": [
    {
     "name": "stdout",
     "output_type": "stream",
     "text": [
      "tensor(1.8159, grad_fn=<NegBackward>)\n",
      "tensor(0.9257, grad_fn=<NegBackward>)\n",
      "tensor(0.9216, grad_fn=<NegBackward>)\n",
      "tensor(0.9210, grad_fn=<NegBackward>)\n",
      "tensor(0.9204, grad_fn=<NegBackward>)\n",
      "tensor(0.9197, grad_fn=<NegBackward>)\n",
      "tensor(0.9192, grad_fn=<NegBackward>)\n",
      "tensor(0.9190, grad_fn=<NegBackward>)\n",
      "tensor(0.9190, grad_fn=<NegBackward>)\n",
      "tensor(0.9189, grad_fn=<NegBackward>)\n"
     ]
    }
   ],
   "source": [
    "# def train(timesteps,actions,next_timesteps):\n",
    "    \n",
    "    \n",
    "\n",
    "for step in range(10000):\n",
    "    x=torch.hstack([hot_air_ballon_start_states,hot_air_ballon_start_actions])\n",
    "\n",
    "    dist=gmm(x)\n",
    "\n",
    "    opt.zero_grad()\n",
    "    loss=-torch.mean(dist.log_prob(next_timesteps))\n",
    "    loss.backward()\n",
    "    if step%1000==0:print(loss)\n",
    "    opt.step()"
   ]
  },
  {
   "cell_type": "code",
   "execution_count": 37,
   "metadata": {},
   "outputs": [
    {
     "data": {
      "text/plain": [
       "tensor([[-0.4743],\n",
       "        [-2.3610],\n",
       "        [-2.9763],\n",
       "        [-3.4747],\n",
       "        [-0.6640]])"
      ]
     },
     "execution_count": 37,
     "metadata": {},
     "output_type": "execute_result"
    }
   ],
   "source": [
    "hot_air_ballon_next_states"
   ]
  },
  {
   "cell_type": "code",
   "execution_count": 38,
   "metadata": {},
   "outputs": [],
   "source": [
    "x=torch.hstack([hot_air_ballon_start_states,hot_air_ballon_start_actions])\n",
    "dist=gmm(x)"
   ]
  },
  {
   "cell_type": "code",
   "execution_count": 39,
   "metadata": {},
   "outputs": [
    {
     "data": {
      "text/plain": [
       "tensor([[-0.4675],\n",
       "        [-1.4337],\n",
       "        [-1.7644],\n",
       "        [-0.1591],\n",
       "        [-0.9034]], grad_fn=<SumBackward1>)"
      ]
     },
     "execution_count": 39,
     "metadata": {},
     "output_type": "execute_result"
    }
   ],
   "source": [
    "dist.mean"
   ]
  },
  {
   "cell_type": "code",
   "execution_count": 40,
   "metadata": {},
   "outputs": [
    {
     "data": {
      "text/plain": [
       "tensor([[-0.4743],\n",
       "        [-2.3639],\n",
       "        [-2.9742],\n",
       "        [-3.4748],\n",
       "        [-0.6557]], grad_fn=<AddBackward0>)"
      ]
     },
     "execution_count": 40,
     "metadata": {},
     "output_type": "execute_result"
    }
   ],
   "source": [
    "hot_air_ballon_start_states+dist.mean"
   ]
  },
  {
   "cell_type": "code",
   "execution_count": null,
   "metadata": {},
   "outputs": [],
   "source": [
    "# export\n",
    "class Discriminator(Module):\n",
    "    \"`Module` for storing skills. Receives input (`num_inputs`+`num_actions`) -> `num_skills`.\"\n",
    "    def __init__(self, num_inputs,num_actions,num_skills,hidden_dim):\n",
    "        self.linear1 = nn.Linear(num_inputs+num_skills, hidden_dim)\n",
    "        self.linear2 = nn.Linear(hidden_dim, hidden_dim)\n",
    "        self.linear3 = nn.Linear(hidden_dim,num_skills)\n",
    "\n",
    "        self.apply(weights_init_)\n",
    "\n",
    "    def forward(self, state):\n",
    "        x = F.relu(self.linear1(state.float()))\n",
    "        x = F.relu(self.linear2(x))\n",
    "        return self.linear3(x)"
   ]
  },
  {
   "cell_type": "code",
   "execution_count": null,
   "metadata": {},
   "outputs": [],
   "source": [
    "# export\n",
    "@delegates(SAC)\n",
    "class DADS(SAC):\n",
    "    def __init__(self,num_inputs,action_space,discriminator:Module=None,num_skills:int=20,\n",
    "                 find_best_skill_interval:int=10,scale_entropy:float=1,\n",
    "                 best_skill_n_rollouts:int=10,include_actions:bool=False,\n",
    "                 learn_p_z:bool=False,add_p_z:bool=True,hidden_size=100,lr=0.003,**kwargs):\n",
    "        store_attr()\n",
    "        self.num_inputs=num_inputs+self.num_skills\n",
    "        self.original_num_inputs=num_inputs\n",
    "        self.p_z=np.full(self.num_skills,1.0/self.num_skills)\n",
    "        self.discriminator=Discriminator(self.original_num_inputs,action_space.shape[0],\n",
    "                                         num_skills,hidden_size)\n",
    "\n",
    "        self.discriminator_optim = Adam(self.discriminator.parameters(), lr=self.lr)\n",
    "\n",
    "        self.log_p_z_episode=[]\n",
    "        self.z=0\n",
    "        self.reset_z()\n",
    "\n",
    "\n",
    "        super().__init__(self.num_inputs,action_space,hidden_size=hidden_size,lr=lr,**kwargs)\n",
    "\n",
    "    def sample_z(self):\n",
    "        \"\"\"Samples z from p(z), using probabilities in self._p_z.\"\"\"\n",
    "        return np.random.choice(self.num_skills,p=self.p_z)\n",
    "\n",
    "    def reset_z(self): self.z=self.sample_z()\n",
    "    def __call__(self,s,asl):\n",
    "        aug_s=self.concat_obs_z(s,self.z)\n",
    "        return super().__call__(aug_s,asl)\n",
    "\n",
    "    def concat_obs_z(self,obs,z):\n",
    "        \"\"\"Concatenates the observation to a one-hot encoding of Z.\"\"\"\n",
    "        assert np.isscalar(z)\n",
    "        if type(obs)==list and len(obs)==1: obs=obs[0]\n",
    "        if len(obs.shape)==2 and obs.shape[0]==1: obs=obs[0]\n",
    "\n",
    "        z_one_hot=np.zeros(self.num_skills)\n",
    "        z_one_hot[z]=1\n",
    "        if type(obs)==Tensor: obs=obs.cpu()\n",
    "        return torch.FloatTensor(np.hstack([obs,z_one_hot])).reshape(1,-1)\n",
    "\n",
    "    def skill_p(self,skill,next_state):\n",
    "        unnorm_skill_dist=self.discriminator(next_state).unsqueeze(0)\n",
    "        skill_p=F.softmax(unnorm_skill_dist)[:,skill]\n",
    "        return skill_p,unnorm_skill_dist\n",
    "\n",
    "    def discriminator_learn(self,skill,out):\n",
    "        self.discriminator_optim.zero_grad()\n",
    "        loss=nn.CrossEntropyLoss()(out,torch.LongTensor([skill]))\n",
    "        loss.backward()\n",
    "        self.discriminator_optim.step()\n",
    "\n",
    "    def intrinsic_reward(self,next_state):\n",
    "        skill_p,disc_out=self.skill_p(self.z,next_state)\n",
    "        intrinsic_reward=np.log(skill_p.cpu().detach()+1e-8)-np.log(self.p_z[self.z])\n",
    "#         print(skill_p,self.p_z,intrinsic_reward)\n",
    "        return intrinsic_reward,disc_out\n"
   ]
  },
  {
   "cell_type": "code",
   "execution_count": null,
   "metadata": {},
   "outputs": [],
   "source": [
    "# export\n",
    "class DiscriminatorTrainer(ExperienceReplay):\n",
    "\n",
    "    def __init__(self,*args,**kwargs):\n",
    "        self.log_p_z_episode=[]\n",
    "        super().__init__(*args,**kwargs)\n",
    "        \n",
    "    def before_fit(self):\n",
    "        self.learn.agent.warming_up=True\n",
    "        while len(self.queue)<self.starting_els:\n",
    "            for i,o in enumerate(self.dls.train):\n",
    "                z=self.learn.agent.z\n",
    "                batch=[ExperienceFirstLast(state=self.learn.agent.concat_obs_z(o[0][i],z)[0],\n",
    "                                           action=o[1][i],\n",
    "                                           reward=o[2][i],\n",
    "                                           last_state=self.learn.agent.concat_obs_z(o[3][i],z)[0], \n",
    "                                           done=(o[4][i] and self.max_steps!=o[6][i]),\n",
    "                                           episode_reward=o[5][i],steps=o[6][i])\n",
    "                                    for i in range(len(o[0]))]\n",
    "#                 print(self.max_steps,max([o.steps for o in batch]))\n",
    "#                 print(batch[0])\n",
    "                for k in range(len(batch)):\n",
    "                    intrinsic_reward,disc_out=self.learn.agent.intrinsic_reward(Tensor(batch[k].last_state))\n",
    "                    self.learn.agent.discriminator_learn(self.agent.z,disc_out)\n",
    "                    batch[k]=ExperienceFirstLast(\n",
    "                        state=batch[k].state.to(device=default_device()),\n",
    "                        action=batch[k].action,\n",
    "                        reward=intrinsic_reward,\n",
    "                        last_state=batch[k].last_state.to(device=default_device()),\n",
    "                        done=batch[k].done,\n",
    "                        episode_reward=batch[k].episode_reward,\n",
    "                        steps=batch[k].steps\n",
    "                    )\n",
    "\n",
    "\n",
    "#                 print(batch[0])\n",
    "                for _b in batch:self.queue.append(_b)\n",
    "                if any([_b.done for _b in batch]): self.learn.agent.reset_z()\n",
    "                if len(self.queue)>self.starting_els:break\n",
    "        self.learn.agent.warming_up=False\n",
    "\n",
    "# #     def after_epoch(self):\n",
    "# #         print(len(self.queue))\n",
    "    def before_batch(self):\n",
    "#         print(len(self.queue))\n",
    "        b=list(self.learn.xb)+list(self.learn.yb)\n",
    "        z=self.learn.agent.z\n",
    "        batch=[ExperienceFirstLast(state=self.learn.agent.concat_obs_z(b[0][i],z)[0],\n",
    "                                   action=b[1][i],\n",
    "                                   reward=b[2][i],\n",
    "                                   last_state=self.learn.agent.concat_obs_z(b[3][i],z)[0], \n",
    "                                   done=(b[4][i] and self.max_steps!=b[6][i]),\n",
    "                                   episode_reward=b[5][i],steps=b[6][i])\n",
    "              for i in range(len(b[0]))]\n",
    "        \n",
    "        for k in range(len(batch)):\n",
    "            intrinsic_reward,disc_out=self.learn.agent.intrinsic_reward(Tensor(batch[k].last_state))\n",
    "            self.learn.agent.discriminator_learn(self.agent.z,disc_out)\n",
    "            batch[k]=ExperienceFirstLast(\n",
    "                state=batch[k].state.to(device=default_device()),\n",
    "                action=batch[k].action,\n",
    "                reward=intrinsic_reward,\n",
    "                last_state=batch[k].last_state.to(device=default_device()),\n",
    "                done=batch[k].done,\n",
    "                episode_reward=batch[k].episode_reward,\n",
    "                steps=batch[k].steps\n",
    "            )\n",
    "        \n",
    "#         print(self.learn.xb)\n",
    "        self.learn.xb=(torch.stack([e.state for e in batch]),)\n",
    "#         print(self.learn.yb)\n",
    "        self.learn.yb=(torch.stack([o.action for o in batch]),\n",
    "                       torch.stack([o.reward for o in batch]),\n",
    "                       torch.stack([o.last_state for o in batch]),\n",
    "                       torch.stack([o.done for o in batch]),\n",
    "                       torch.stack([o.episode_reward for o in batch]),\n",
    "                       torch.stack([o.steps for o in batch]))\n",
    "#         print(self.learn.yb)\n",
    "        \n",
    "        for _b in batch: self.queue.append(_b)\n",
    "        idxs=np.random.randint(0,len(self.queue), self.bs)\n",
    "        self.learn.sample_yb=[self.queue[i] for i in idxs]"
   ]
  },
  {
   "cell_type": "code",
   "execution_count": null,
   "metadata": {},
   "outputs": [],
   "source": [
    "from pybulletgym.envs import *\n",
    "\n",
    "env='InvertedPendulumPyBulletEnv-v0'\n",
    "agent=DADS(5,gym.make(env).action_space,gamma=0.99,tau=0.005,alpha=0.1,hidden_size=300,num_skills=5)\n",
    "block=FirstLastExperienceBlock(agent=agent,seed=0,n_steps=2,exclude_nones=True,\n",
    "                               dls_kwargs={'bs':1,'num_workers':0,'verbose':False,'indexed':True,'shuffle_train':False})\n",
    "blk=IterableDataBlock(blocks=(block),splitter=FuncSplitter(lambda x:False))\n",
    "dls=blk.dataloaders([env]*1,n=10,device=default_device())\n",
    "\n",
    "learner=SACLearner(dls,agent=agent,cbs=[DiscriminatorTrainer(sz=1000000,bs=64,starting_els=1000,max_steps=gym.make(env)._max_episode_steps),\n",
    "                                        SACCriticTrainer],\n",
    "                   metrics=[AvgEpisodeRewardMetric(experience_cls=ExperienceFirstLast)])\n",
    "learner.fit(1,lr=0.003,wd=0)"
   ]
  },
  {
   "cell_type": "code",
   "execution_count": null,
   "metadata": {},
   "outputs": [],
   "source": [
    "# hide\n",
    "# slow\n",
    "import gym\n",
    "from IPython import display\n",
    "import PIL.Image\n",
    "%matplotlib inline\n",
    "\n",
    "# env=gym.make('InvertedPendulumPyBulletEnv-v0')\n",
    "# s=env.reset()\n",
    "\n",
    "# for z in range(5):\n",
    "#     for i in range(0,100,20):\n",
    "#         s=env.reset()\n",
    "#         env.seed(i)\n",
    "#         for _ in range(200):\n",
    "#             display.clear_output(wait=True)\n",
    "#             display.display(PIL.Image.fromarray(env.render(mode='rgb_array')))\n",
    "\n",
    "#             agent.z=z\n",
    "#             a,_=agent(s,None)\n",
    "\n",
    "#             s,r,d,_=env.step(a)\n",
    "#             if d:\n",
    "#                 break"
   ]
  },
  {
   "cell_type": "code",
   "execution_count": null,
   "metadata": {},
   "outputs": [],
   "source": [
    "# hide\n",
    "from nbdev.export import *\n",
    "from nbdev.export2html import *\n",
    "notebook2script()\n",
    "notebook2html()"
   ]
  },
  {
   "cell_type": "code",
   "execution_count": null,
   "metadata": {},
   "outputs": [],
   "source": []
  }
 ],
 "metadata": {
  "kernelspec": {
   "display_name": "Python 3",
   "language": "python",
   "name": "python3"
  },
  "language_info": {
   "codemirror_mode": {
    "name": "ipython",
    "version": 3
   },
   "file_extension": ".py",
   "mimetype": "text/x-python",
   "name": "python",
   "nbconvert_exporter": "python",
   "pygments_lexer": "ipython3",
   "version": "3.7.9"
  }
 },
 "nbformat": 4,
 "nbformat_minor": 4
}
