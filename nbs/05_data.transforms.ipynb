{
 "cells": [
  {
   "cell_type": "code",
   "execution_count": null,
   "id": "unsigned-diamond",
   "metadata": {},
   "outputs": [],
   "source": [
    "# default_exp data.transforms\n",
    "# colab"
   ]
  },
  {
   "cell_type": "code",
   "execution_count": null,
   "id": "useful-constitution",
   "metadata": {},
   "outputs": [],
   "source": [
    "# hide\n",
    "from nbdev.showdoc import *\n",
    "from nbdev.imports import *\n",
    "if not os.environ.get(\"IN_TEST\", None):\n",
    "    assert IN_NOTEBOOK\n",
    "    assert not IN_COLAB\n",
    "    assert IN_IPYTHON"
   ]
  },
  {
   "cell_type": "code",
   "execution_count": null,
   "id": "ranging-mechanism",
   "metadata": {},
   "outputs": [],
   "source": [
    "# export\n",
    "from fastcore.all import *"
   ]
  },
  {
   "cell_type": "markdown",
   "id": "provincial-indonesian",
   "metadata": {},
   "source": [
    "# Data Transforms\n",
    "> Fastrl transforms for iterating through environments"
   ]
  },
  {
   "cell_type": "code",
   "execution_count": null,
   "id": "medium-mistress",
   "metadata": {},
   "outputs": [],
   "source": []
  },
  {
   "cell_type": "code",
   "execution_count": null,
   "id": "unnecessary-scott",
   "metadata": {},
   "outputs": [
    {
     "name": "stdout",
     "output_type": "stream",
     "text": [
      "converting /home/fastrl_user/fastrl/nbs/index.ipynb to README.md\n",
      "Converted 00_nbdev_extension.ipynb.\n",
      "Converted 05_data.transforms.ipynb.\n",
      "Converted index.ipynb.\n",
      "converting: /home/fastrl_user/fastrl/nbs/05_data.transforms.ipynb\n"
     ]
    }
   ],
   "source": [
    "# hide\n",
    "from nbdev.export import *\n",
    "from nbdev.export2html import *\n",
    "from nbdev.cli import make_readme\n",
    "make_readme()\n",
    "notebook2script()\n",
    "notebook2html()"
   ]
  }
 ],
 "metadata": {
  "kernelspec": {
   "display_name": "Python 3",
   "language": "python",
   "name": "python3"
  }
 },
 "nbformat": 4,
 "nbformat_minor": 5
}
