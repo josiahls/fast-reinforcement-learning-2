{
 "cells": [
  {
   "cell_type": "code",
   "execution_count": null,
   "id": "portuguese-athletics",
   "metadata": {},
   "outputs": [],
   "source": [
    "# default_exp nbdev_extensions"
   ]
  },
  {
   "cell_type": "code",
   "execution_count": null,
   "id": "celtic-brush",
   "metadata": {},
   "outputs": [],
   "source": [
    "# hide\n",
    "from nbdev.showdoc import *\n",
    "from nbdev.imports import *\n",
    "if not os.environ.get(\"IN_TEST\", None):\n",
    "    assert IN_NOTEBOOK\n",
    "    assert not IN_COLAB\n",
    "    assert IN_IPYTHON"
   ]
  },
  {
   "cell_type": "code",
   "execution_count": null,
   "id": "burning-phoenix",
   "metadata": {},
   "outputs": [
    {
     "name": "stdout",
     "output_type": "stream",
     "text": [
      "test\n"
     ]
    }
   ],
   "source": [
    "# export\n",
    "print('test')"
   ]
  },
  {
   "cell_type": "markdown",
   "id": "italic-drain",
   "metadata": {},
   "source": [
    "# Nbdev Extensions\n",
    "> Extensions on the nbdev library for conda yml creation and nightly build support"
   ]
  },
  {
   "cell_type": "code",
   "execution_count": null,
   "id": "liberal-straight",
   "metadata": {},
   "outputs": [
    {
     "name": "stdout",
     "output_type": "stream",
     "text": [
      "converting /home/fastrl/fastrl/nbs/index.ipynb to README.md\n",
      "Converted 00_nbdev_extension.ipynb.\n",
      "Converted index.ipynb.\n",
      "converting: /home/fastrl/fastrl/nbs/00_nbdev_extension.ipynb\n"
     ]
    }
   ],
   "source": [
    "# hide\n",
    "from nbdev.export import *\n",
    "from nbdev.export2html import *\n",
    "from nbdev.cli import make_readme\n",
    "make_readme()\n",
    "notebook2script()\n",
    "notebook2html()"
   ]
  },
  {
   "cell_type": "code",
   "execution_count": null,
   "id": "massive-behavior",
   "metadata": {},
   "outputs": [],
   "source": []
  }
 ],
 "metadata": {
  "kernelspec": {
   "display_name": "Python 3",
   "language": "python",
   "name": "python3"
  }
 },
 "nbformat": 4,
 "nbformat_minor": 5
}
