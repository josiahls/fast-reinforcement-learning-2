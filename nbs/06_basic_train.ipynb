{
 "cells": [
  {
   "cell_type": "code",
   "execution_count": null,
   "metadata": {},
   "outputs": [],
   "source": [
    "# default_exp basic_train\n",
    "%load_ext autoreload\n",
    "%autoreload 2"
   ]
  },
  {
   "cell_type": "code",
   "execution_count": null,
   "metadata": {},
   "outputs": [],
   "source": [
    "# hide\n",
    "from nbdev.showdoc import *\n",
    "from nbdev.imports import *\n",
    "from nbdev.export2html import *\n",
    "if not os.environ.get(\"IN_TEST\", None):\n",
    "    assert IN_NOTEBOOK\n",
    "    assert not IN_COLAB\n",
    "    assert IN_IPYTHON"
   ]
  },
  {
   "cell_type": "markdown",
   "metadata": {},
   "source": [
    "# Basic Train\n",
    "\n",
    "> Contains basic Learners and Agents"
   ]
  },
  {
   "cell_type": "code",
   "execution_count": null,
   "metadata": {},
   "outputs": [],
   "source": [
    "# export\n",
    "from fastai.basic_data import *\n",
    "from fastai.basic_train import *\n",
    "from fastai.torch_core import *\n",
    "from dataclasses import asdict\n",
    "import logging\n",
    "import gym\n",
    "\n",
    "from fastrl.basic_agents import *"
   ]
  },
  {
   "cell_type": "code",
   "execution_count": null,
   "metadata": {},
   "outputs": [],
   "source": [
    "# hide\n",
    "import gym\n",
    "\n",
    "logging.basicConfig(format='[%(asctime)s] p%(process)s line:%(lineno)d %(levelname)s - %(message)s',\n",
    "                    datefmt='%m-%d %H:%M:%S')\n",
    "_logger=logging.getLogger(__name__)\n",
    "_logger.setLevel('INFO')"
   ]
  },
  {
   "cell_type": "markdown",
   "metadata": {},
   "source": [
    "## Learners\n",
    "\n",
    "There is an important difference between `Learner`'s, `nn.Module`'s, and `Agent`'s. \n",
    "\n",
    "`Learners`:\n",
    "- Contain `Agent`'s, `DataBunch`'s, `Callback`'s, and auxiliary objects such as `Experience`. \n",
    "- Function as orchestrators which handle the entire training cycle.\n",
    "- Are not as portable / simple since they hold many different objects, some of which are not needed for simple execution.\n",
    "\n",
    "`nn.Module`:\n",
    "- Contain only `pytorch` related code.\n",
    "- Function as the brain of any of these agents and are the objects to be optimized.\n",
    "- Are highly portable, however for runtime usage are too \"dumb\" or simple to be practical. If by themselves, extra code needs to wrap them to handle environments.\n",
    "\n",
    "`Agent` (`agent_core`):\n",
    "- Ref `basic_agents`"
   ]
  },
  {
   "cell_type": "code",
   "execution_count": null,
   "metadata": {},
   "outputs": [],
   "source": [
    "# export\n",
    "@dataclass\n",
    "class AgentLearner():\n",
    "    data:DataBunch\n",
    "    model:nn.Module\n",
    "    agent:BaseAgent=BaseAgent()\n",
    "    training:bool=False\n",
    "    \n",
    "    def predict(self,s):\n",
    "        return self.agent(s,None)"
   ]
  },
  {
   "cell_type": "code",
   "execution_count": null,
   "metadata": {},
   "outputs": [
    {
     "name": "stdout",
     "output_type": "stream",
     "text": [
      "Converted 00_core.ipynb.\n",
      "Converted 01_wrappers.ipynb.\n",
      "Converted 02_callbacks.ipynb.\n",
      "Converted 03_basic_agents.ipynb.\n",
      "Converted 05_data_block.ipynb.\n",
      "Converted 06_basic_train.ipynb.\n",
      "Converted index.ipynb.\n",
      "Converted notes.ipynb.\n",
      "converting: /opt/project/fastrl/nbs/05_data_block.ipynb\n"
     ]
    }
   ],
   "source": [
    "# hide\n",
    "from nbdev.export import *\n",
    "notebook2script()\n",
    "notebook2html(n_workers=0)"
   ]
  },
  {
   "cell_type": "code",
   "execution_count": null,
   "metadata": {},
   "outputs": [],
   "source": []
  }
 ],
 "metadata": {
  "kernelspec": {
   "display_name": "Python 3",
   "language": "python",
   "name": "python3"
  }
 },
 "nbformat": 4,
 "nbformat_minor": 4
}
