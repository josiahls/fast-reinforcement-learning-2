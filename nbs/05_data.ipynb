{
 "cells": [
  {
   "cell_type": "code",
   "execution_count": 12,
   "metadata": {},
   "outputs": [],
   "source": [
    "# default_exp data"
   ]
  },
  {
   "cell_type": "code",
   "execution_count": 13,
   "metadata": {},
   "outputs": [],
   "source": [
    "#export\n",
    "from fastai.torch_basics import *\n",
    "from fastai.data.all import *\n",
    "from fastai.basics import *\n",
    "from dataclasses import field,asdict\n",
    "from typing import List,Any\n",
    "from collections import deque\n",
    "import gym\n",
    "\n",
    "if IN_NOTEBOOK:\n",
    "    from IPython import display\n",
    "    import PIL.Image"
   ]
  },
  {
   "cell_type": "code",
   "execution_count": 14,
   "metadata": {},
   "outputs": [],
   "source": [
    "# hide\n",
    "from nbdev.showdoc import *\n",
    "from nbdev.imports import *\n",
    "from nbdev.export2html import *\n",
    "if not os.environ.get(\"IN_TEST\", None):\n",
    "    assert IN_NOTEBOOK\n",
    "    assert not IN_COLAB\n",
    "    assert IN_IPYTHON"
   ]
  },
  {
   "cell_type": "markdown",
   "metadata": {},
   "source": [
    "# ExperienceSourceDatasets\n",
    "\n",
    "> Iterable datasets for returning environment outputs."
   ]
  },
  {
   "cell_type": "markdown",
   "metadata": {},
   "source": [
    "## EnvLists\n",
    "\n",
    "> Iterable lists for returning environment outputs."
   ]
  },
  {
   "cell_type": "code",
   "execution_count": 15,
   "metadata": {},
   "outputs": [],
   "source": [
    "# export\n",
    "@delegates(TfmdLists.__init__)\n",
    "class EnvLists(TfmdLists):\n",
    "    def __init__(self,items,tfms,**kwargs):\n",
    "        self.is_set=False\n",
    "        super().__init__(items,tfms,**kwargs)\n",
    "    \n",
    "    def __len__(self):\n",
    "        if (len(self.items)!=0 and not issubclass(type(self.items[0]),gym.Env)) or not self.is_set: return len(self.items) \n",
    "        else:                                                                                       return self.items[0].spec.max_episode_steps\n",
    "\n",
    "    def _get(self,i): return i if self.is_set else super()._get(i) \n",
    "        \n",
    "    def setup(self,train_setup=True):\n",
    "        super().setup(train_setup)\n",
    "        for f in self.fs:\n",
    "            if hasattr(f,'reset'):f.reset()\n",
    "        self.is_set=True"
   ]
  },
  {
   "cell_type": "markdown",
   "metadata": {},
   "source": [
    "### EnvMakeTfm\n",
    "\n",
    "> Make environments into their openai gym versions."
   ]
  },
  {
   "cell_type": "code",
   "execution_count": 16,
   "metadata": {},
   "outputs": [],
   "source": [
    "# export\n",
    "class EnvMakeTfm(Transform):    \n",
    "    def setup(self,items=None,train_setup=False):\n",
    "        for i,o in enumerate(items):items[i]=gym.make(o)\n",
    "        return super().setup(items,train_setup)"
   ]
  },
  {
   "cell_type": "markdown",
   "metadata": {},
   "source": [
    "Check that the correct environment was created."
   ]
  },
  {
   "cell_type": "code",
   "execution_count": 17,
   "metadata": {},
   "outputs": [],
   "source": [
    "tl=EnvLists(['CartPole-v1' for _ in range(5)],tfms=[EnvMakeTfm])\n",
    "test_eq(len(tl),500)\n",
    "for o in tl:test_stdout(lambda:print(tl.items[o%5]),'<TimeLimit<CartPoleEnv<CartPole-v1>>>')"
   ]
  },
  {
   "cell_type": "markdown",
   "metadata": {},
   "source": [
    "### EnvResetTfms\n",
    "\n",
    "> Handles environment resetting."
   ]
  },
  {
   "cell_type": "code",
   "execution_count": 18,
   "metadata": {},
   "outputs": [],
   "source": [
    "# export\n",
    "@dataclass\n",
    "class DoneStateEnv:d:bool;s:np.array;env:object\n",
    "DoneStateEnv.__repr__=lambda self:str((self.d,self.s,self.env))\n",
    "\n",
    "@dataclass\n",
    "class EnvResetTfm(Transform):\n",
    "    env_idx:int=0;seed:Optional[int]=None;s:Optional[np.ndarray]=None;d:bool=False;was_setup:bool=False\n",
    "    callback:DoneStateEnv=field(default_factory=lambda:DoneStateEnv(True,None,None))\n",
    "    items:List[gym.Env]=field(default_factory=list)\n",
    "\n",
    "    def setup(self,items=None,train_setup=False):\n",
    "        for o in items:self.items.append(o)\n",
    "        self._env_idx=len(items)\n",
    "        return self \n",
    "    \n",
    "    def reset(self):\n",
    "        self._env_idx=0\n",
    "        if self.seed is not None:[o.seed(self.seed) for o in self.items]\n",
    "        self.s=[_o.reset() for _o in self.items]\n",
    "        self.d=[False for _ in self.items]\n",
    "        self.callback=DoneStateEnv(d=self.d[self._env_idx],s=self.s[self._env_idx],env=self.items[self._env_idx])\n",
    "    \n",
    "    def encodes(self,o):        \n",
    "        if self.callback.d:\n",
    "#             print('was done lol')\n",
    "            self._env_idx+=1\n",
    "            if self._env_idx>=len(self.items):self.reset()\n",
    "            self.callback=DoneStateEnv(d=self.d[self._env_idx],s=self.s[self._env_idx],env=self.items[self._env_idx])\n",
    "#             print(self.callback.s)\n",
    "        return self.callback"
   ]
  },
  {
   "cell_type": "markdown",
   "metadata": {},
   "source": [
    "Check that the `_env_idx` is incremented per iter. The intention is that a generating `Transform` uses the value to generate many elements."
   ]
  },
  {
   "cell_type": "code",
   "execution_count": 19,
   "metadata": {},
   "outputs": [],
   "source": [
    "n_envs=5\n",
    "tl=EnvLists(['CartPole-v1' for _ in range(n_envs)],tfms=[EnvMakeTfm,EnvResetTfm(seed=0)])\n",
    "\n",
    "next_inc=0\n",
    "for ii in range(50):\n",
    "    for i,o in enumerate(tl):\n",
    "        if ii==0:test_eq(str(o.s),str(np.array([-0.04456399,  0.04653909,  0.01326909, -0.02099827])))\n",
    "        test_eq(tl.tfms[1]._env_idx,next_inc)\n",
    "        test_eq(tl.tfms[1].items.index(o.env),next_inc)\n",
    "        test_eq(str(o),str((False,np.array([-0.04456399,  0.04653909,  0.01326909, -0.02099827]),tl.items[0])))\n",
    "    o.d=True\n",
    "    next_inc=next_inc+1 if next_inc<n_envs-1 else 0\n",
    "# for o in tl:test_eq(str(o),str((False,np.array([-0.04456399,  0.04653909,  0.01326909, -0.02099827]),tl.items[0])))"
   ]
  },
  {
   "cell_type": "markdown",
   "metadata": {},
   "source": [
    "### EnvGenUnwrapTfm\n",
    "> Unwraps generators into 1d lists."
   ]
  },
  {
   "cell_type": "code",
   "execution_count": 20,
   "metadata": {},
   "outputs": [],
   "source": [
    "# export\n",
    "@dataclass\n",
    "class EnvGenUnwrapTfm(Transform):\n",
    "    step:int=0\n",
    "    \n",
    "    def encodes(self,o:Generator): \n",
    "        result= tuple([xx for x in o for xx in x]) \n",
    "        self.step+=1\n",
    "        return result"
   ]
  },
  {
   "cell_type": "code",
   "execution_count": null,
   "metadata": {},
   "outputs": [],
   "source": []
  },
  {
   "cell_type": "markdown",
   "metadata": {},
   "source": [
    "### EnvStepTfm\n",
    "\n",
    "> Handles stepping through environments. "
   ]
  },
  {
   "cell_type": "code",
   "execution_count": 21,
   "metadata": {},
   "outputs": [],
   "source": [
    "%matplotlib inline"
   ]
  },
  {
   "cell_type": "code",
   "execution_count": 22,
   "metadata": {},
   "outputs": [],
   "source": [
    "# export    \n",
    "def env_display(env:gym.Env):\n",
    "    img=env.render('rgb_array')\n",
    "    try:display.clear_output(wait=True)\n",
    "    except AttributeError:pass\n",
    "    new_im=PIL.Image.fromarray(img)\n",
    "    display.display(new_im)"
   ]
  },
  {
   "cell_type": "code",
   "execution_count": 23,
   "metadata": {},
   "outputs": [],
   "source": [
    "# export\n",
    "@dataclass\n",
    "class Experience:d:bool;s:np.ndarray;sp:np.ndarray;r:float;a:Any\n",
    "\n",
    "@dataclass\n",
    "class EnvStepTfm(Transform):\n",
    "    agent:Optional[object]=None;constant_action:Optional[int]=None;n_steps:int=1;steps_delta:int=1;step:int=-1\n",
    "    _reset_step:bool=False;history:deque=None;display:bool=False;enc_set:bool=False\n",
    "    \n",
    "    def __post_init__(self):     self.history=deque(maxlen=self.n_steps)\n",
    "    def bump_step_count(self,d): self.step=0 if d else self.step+1\n",
    "    def reset(self):             self.step=0; self.history.clear()\n",
    "        \n",
    "    def encodes(self,o:DoneStateEnv):\n",
    "        while True:\n",
    "            if self.agent is None: a=ifnone(self.constant_action,o.env.action_space.sample()) \n",
    "            else:                  a=self.agent(o.s)\n",
    "                \n",
    "            sp,r,o.d,_=o.env.step(a)\n",
    "            if self.display:env_display(o.env)\n",
    "            self.history.append(Experience(d=o.d,s=o.s.copy(),sp=sp.copy(),r=r,a=a))\n",
    "            o.s=sp.copy()\n",
    "            self.bump_step_count(o.d)\n",
    "            if o.d:\n",
    "                while len(self.history)>1: # We allow the a single element left to be yielded by the broken while\n",
    "                    yield tuple(self.history)\n",
    "                    self.history.popleft()\n",
    "                break\n",
    "#             print(len(self.history),((self.step-1)%self.steps_delta),self.step)\n",
    "            if len(self.history)==self.n_steps and ((self.step-1)%self.steps_delta)==0 and not o.d or \\\n",
    "                 (len(self.history)==self.step and len(self.history)==self.n_steps and not o.d):break\n",
    "            \n",
    "        history=tuple(copy(self.history))\n",
    "        if o.d:self.history.clear();self.reset()\n",
    "        yield tuple(history)\n",
    "        return None"
   ]
  },
  {
   "cell_type": "code",
   "execution_count": 24,
   "metadata": {},
   "outputs": [],
   "source": [
    "def validate_env(env_name,a,n_steps,steps_delta,n_envs,env_steps,dones,max_iter=800,n_episodes_break=-1,\n",
    "                 initial_s=str(np.array([-0.58912799 , 0.        ])),\n",
    "                 final_s=str(np.array([-0.71048047,  0.00427297]))):\n",
    "    tl=EnvLists([env_name for _ in range(n_envs)],tfms=[EnvMakeTfm,EnvResetTfm(seed=0),\n",
    "                                                        EnvStepTfm(constant_action=a,n_steps=n_steps,steps_delta=steps_delta,display=False),EnvGenUnwrapTfm])\n",
    "    print('Starting loop')\n",
    "    count=0\n",
    "    for k in range(n_envs):\n",
    "        print('\\n\\n')\n",
    "        for i,o in enumerate(tl):\n",
    "#             print(count,o)\n",
    "            count+=1\n",
    "#             print(o,i)\n",
    "            if i==0:test_eq(str(o[0].s),initial_s)\n",
    "            for exp in o:test_eq(exp.a,a)\n",
    "            \n",
    "            if any(_.d for _ in o):break\n",
    "        if any(_.d for _ in o):\n",
    "            test_eq(str(o[-1].sp),final_s)\n",
    "            dones+=1\n",
    "            if count>round((env_steps*n_envs)/steps_delta)-10:break\n",
    "                \n",
    "    \n",
    "#     test_eq(count-(steps_delta!=1)*n_envs+((n_steps-1)*n_envs),round((env_steps*n_envs)/steps_delta))\n",
    "    # If both are changed, the env will loop extra times at the start\n",
    "    extra_steps_on_start=0 if n_steps==1 or steps_delta==1 else min((steps_delta,n_steps))-1\n",
    "    \n",
    "    \n",
    "    test_eq(count-(steps_delta!=1)*n_envs+((n_steps-1)*n_envs),round((env_steps*n_envs)/steps_delta)+extra_steps_on_start)\n",
    "    test_eq(n_envs,dones)"
   ]
  },
  {
   "cell_type": "markdown",
   "metadata": {},
   "source": [
    "Check that `MountainCar-v0` with `steps_delta=2` has single episode lengths cut in half. Verify that each episode keeps its `done` signal."
   ]
  },
  {
   "cell_type": "code",
   "execution_count": 25,
   "metadata": {},
   "outputs": [
    {
     "name": "stdout",
     "output_type": "stream",
     "text": [
      "Starting loop\n",
      "\n",
      "\n",
      "\n"
     ]
    }
   ],
   "source": [
    "validate_env(\n",
    "    env_name='MountainCar-v0',\n",
    "    a=0,\n",
    "    n_steps=1,\n",
    "    steps_delta=2,\n",
    "    n_envs=1,\n",
    "    env_steps=200,\n",
    "    dones=0,\n",
    "    n_episodes_break=1\n",
    ")"
   ]
  },
  {
   "cell_type": "markdown",
   "metadata": {},
   "source": [
    "Check that `MountainCar-v0` at defaults, runs the full 200 iterations.\n",
    "Check that all actions are `a`"
   ]
  },
  {
   "cell_type": "code",
   "execution_count": 26,
   "metadata": {},
   "outputs": [
    {
     "name": "stdout",
     "output_type": "stream",
     "text": [
      "Starting loop\n",
      "\n",
      "\n",
      "\n"
     ]
    }
   ],
   "source": [
    "validate_env(\n",
    "    env_name='MountainCar-v0',\n",
    "    a=0,\n",
    "    n_steps=1,\n",
    "    steps_delta=1,\n",
    "    n_envs=1,\n",
    "    env_steps=200,\n",
    "    dones=0\n",
    ")"
   ]
  },
  {
   "cell_type": "markdown",
   "metadata": {},
   "source": [
    "Check that `MountainCar-v0` at defaults, with 2 envs, fully resets between episodes, and that the starting and ending states are always output."
   ]
  },
  {
   "cell_type": "code",
   "execution_count": 27,
   "metadata": {},
   "outputs": [
    {
     "name": "stdout",
     "output_type": "stream",
     "text": [
      "Starting loop\n",
      "\n",
      "\n",
      "\n",
      "\n",
      "\n",
      "\n"
     ]
    }
   ],
   "source": [
    "validate_env(\n",
    "    env_name='MountainCar-v0',\n",
    "    a=0,\n",
    "    n_steps=1,\n",
    "    steps_delta=1,\n",
    "    n_envs=2,\n",
    "    env_steps=200,\n",
    "    dones=0\n",
    ")"
   ]
  },
  {
   "cell_type": "markdown",
   "metadata": {},
   "source": [
    "Check that `MountainCar-v0` with `n_steps=2` has single episode iterations is cut in half. Verify that each episode keeps its `done` signal."
   ]
  },
  {
   "cell_type": "code",
   "execution_count": 28,
   "metadata": {},
   "outputs": [
    {
     "name": "stdout",
     "output_type": "stream",
     "text": [
      "Starting loop\n",
      "\n",
      "\n",
      "\n"
     ]
    }
   ],
   "source": [
    "validate_env(\n",
    "    env_name='MountainCar-v0',\n",
    "    a=0,\n",
    "    n_steps=2,\n",
    "    steps_delta=1,\n",
    "    n_envs=1,\n",
    "    env_steps=200,\n",
    "    dones=0\n",
    ")"
   ]
  },
  {
   "cell_type": "markdown",
   "metadata": {},
   "source": [
    "Check that `CartPole-v1` iterates correctly also."
   ]
  },
  {
   "cell_type": "code",
   "execution_count": 29,
   "metadata": {},
   "outputs": [
    {
     "data": {
      "image/png": "[encoded data removed]",
      "text/plain": [
       "<PIL.Image.Image image mode=RGB size=600x400 at 0x7F1BEA38E210>"
      ]
     },
     "metadata": {},
     "output_type": "display_data"
    },
    {
     "name": "stdout",
     "output_type": "stream",
     "text": [
      "8\n"
     ]
    }
   ],
   "source": [
    "count=0\n",
    "dones=0\n",
    "env_steps=10\n",
    "steps_delta=1\n",
    "n_steps=2\n",
    "n_envs=1\n",
    "\n",
    "tl=EnvLists(['CartPole-v0' for _ in range(n_envs)],tfms=[EnvMakeTfm,EnvResetTfm(seed=0),\n",
    "                                                    EnvStepTfm(constant_action=0,n_steps=n_steps,steps_delta=steps_delta,display=True),EnvGenUnwrapTfm])\n",
    "print('Starting loop')\n",
    "for k in range(n_envs):\n",
    "    print('\\n\\n')\n",
    "    for i,o in enumerate(tl):\n",
    "#             print(count,o)\n",
    "        count+=1\n",
    "#             print(o,i)\n",
    "        if i==0:test_eq(str(o[0].s),'[-0.04456399  0.04653909  0.01326909 -0.02099827]')\n",
    "        for exp in o:test_eq(exp.a,0)\n",
    "\n",
    "        if any(_.d for _ in o):break\n",
    "    if any(_.d for _ in o):\n",
    "        test_eq(str(o[-1].sp),'[-0.17695373 -1.71499924  0.22743892  2.78917835]')\n",
    "        dones+=1\n",
    "        if count>round((env_steps*n_envs)/steps_delta)-10:break\n",
    "\n",
    "print(count)"
   ]
  },
  {
   "cell_type": "code",
   "execution_count": 57,
   "metadata": {
    "pycharm": {
     "name": "#%%\n"
    }
   },
   "outputs": [],
   "source": [
    "@dataclass\n",
    "class ExperienceToDictTfm(Transform):\n",
    "    def encodes(self,o:Experience):return asdict(o)"
   ]
  },
  {
   "cell_type": "markdown",
   "metadata": {
    "pycharm": {
     "name": "#%% md\n"
    }
   },
   "source": [
    "## DataBlock \n",
    "\n",
    "> Generates DataBlock appropriate for running OpenAI envs."
   ]
  },
  {
   "cell_type": "code",
   "execution_count": null,
   "outputs": [],
   "source": [
    "tl=EnvLists(['MountainCar-v0' for _ in range(n_envs)],tfms=[EnvMakeTfm,EnvResetTfm(seed=0),\n",
    "                                                    EnvStepTfm(constant_action=0,n_steps=n_steps,steps_delta=steps_delta,display=False),EnvGenUnwrapTfm,\n",
    "                                                         ExperienceToDictTfm])\n",
    "\n",
    "block=DataBlock(item_tfms=tl)"
   ],
   "metadata": {
    "collapsed": false,
    "pycharm": {
     "name": "#%%\n"
    }
   }
  },
  {
   "cell_type": "code",
   "execution_count": null,
   "outputs": [],
   "source": [
    "dls=DataLoaders.from_dblock(DataBlock(),tl,bs=20)"
   ],
   "metadata": {
    "collapsed": false,
    "pycharm": {
     "name": "#%%\n"
    }
   }
  },
  {
   "cell_type": "code",
   "execution_count": null,
   "outputs": [],
   "source": [
    "dls[0].do_batch([dls[0].do_item(0)])"
   ],
   "metadata": {
    "collapsed": false,
    "pycharm": {
     "name": "#%%\n"
    }
   }
  },
  {
   "cell_type": "code",
   "execution_count": null,
   "outputs": [],
   "source": [
    "len(dls[0].dataset.items)"
   ],
   "metadata": {
    "collapsed": false,
    "pycharm": {
     "name": "#%%\n"
    }
   }
  },
  {
   "cell_type": "code",
   "execution_count": null,
   "outputs": [],
   "source": [
    "for x,y in dls[0]:\n",
    "    print(x,y)\n",
    "    break"
   ],
   "metadata": {
    "collapsed": false,
    "pycharm": {
     "name": "#%%\n"
    }
   }
  },
  {
   "cell_type": "code",
   "execution_count": 92,
   "metadata": {},
   "outputs": [],
   "source": [
    "## Export"
   ]
  },
  {
   "cell_type": "code",
   "execution_count": 104,
   "metadata": {},
   "outputs": [],
   "source": [
    "dls=DataLoaders.from_dblock(DataBlock(),tl,bs=20)"
   ]
  },
  {
   "cell_type": "code",
   "execution_count": 105,
   "metadata": {},
   "outputs": [
    {
     "data": {
      "text/plain": [
       "(({'d': tensor([False]),\n",
       "   's': tensor([[-5.8959e-01, -4.7963e-04]], dtype=torch.float64),\n",
       "   'sp': tensor([[-0.5906, -0.0010]], dtype=torch.float64),\n",
       "   'r': tensor([-1.], dtype=torch.float64),\n",
       "   'a': tensor([0])},\n",
       "  {'d': tensor([False]),\n",
       "   's': tensor([[-0.5906, -0.0010]], dtype=torch.float64),\n",
       "   'sp': tensor([[-0.5921, -0.0015]], dtype=torch.float64),\n",
       "   'r': tensor([-1.], dtype=torch.float64),\n",
       "   'a': tensor([0])}),\n",
       " ({'d': tensor([False]),\n",
       "   's': tensor([[-0.5906, -0.0010]], dtype=torch.float64),\n",
       "   'sp': tensor([[-0.5921, -0.0015]], dtype=torch.float64),\n",
       "   'r': tensor([-1.], dtype=torch.float64),\n",
       "   'a': tensor([0])},\n",
       "  {'d': tensor([False]),\n",
       "   's': tensor([[-0.5921, -0.0015]], dtype=torch.float64),\n",
       "   'sp': tensor([[-0.5940, -0.0020]], dtype=torch.float64),\n",
       "   'r': tensor([-1.], dtype=torch.float64),\n",
       "   'a': tensor([0])}))"
      ]
     },
     "execution_count": 105,
     "metadata": {},
     "output_type": "execute_result"
    }
   ],
   "source": [
    "dls[0].do_batch([dls[0].do_item(0)])"
   ]
  },
  {
   "cell_type": "code",
   "execution_count": 114,
   "metadata": {},
   "outputs": [
    {
     "data": {
      "text/plain": [
       "160"
      ]
     },
     "execution_count": 114,
     "metadata": {},
     "output_type": "execute_result"
    }
   ],
   "source": [
    "len(dls[0].dataset.items)"
   ]
  },
  {
   "cell_type": "code",
   "execution_count": 106,
   "metadata": {},
   "outputs": [
    {
     "name": "stdout",
     "output_type": "stream",
     "text": [
      "({'d': tensor([False, False, False, False, False, False, False, False, False, False,\n",
      "        False, False, False, False, False, False, False, False, False, False]), 's': tensor([[-0.6945, -0.0055],\n",
      "        [-0.6830, -0.0058],\n",
      "        [-0.6155, -0.0045],\n",
      "        [-0.7214, -0.0036],\n",
      "        [-0.5920, -0.0015],\n",
      "        [-0.5942, -0.0020],\n",
      "        [-0.6955,  0.0052],\n",
      "        [-0.6367,  0.0058],\n",
      "        [-0.6305, -0.0054],\n",
      "        [-0.5939, -0.0019],\n",
      "        [-0.6544,  0.0060],\n",
      "        [-0.5992, -0.0029],\n",
      "        [-0.7044, -0.0050],\n",
      "        [-0.7342, -0.0010],\n",
      "        [-0.7299, -0.0024],\n",
      "        [-0.6488,  0.0060],\n",
      "        [-0.6476, -0.0059],\n",
      "        [-0.6104, -0.0041],\n",
      "        [-0.6547,  0.0060],\n",
      "        [-0.5967, -0.0025]], dtype=torch.float64), 'sp': tensor([[-6.9970e-01, -5.2329e-03],\n",
      "        [-6.8866e-01, -5.6601e-03],\n",
      "        [-6.2030e-01, -4.8400e-03],\n",
      "        [-7.2459e-01, -3.2358e-03],\n",
      "        [-5.9391e-01, -1.9486e-03],\n",
      "        [-5.9667e-01, -2.4838e-03],\n",
      "        [-6.9005e-01,  5.4191e-03],\n",
      "        [-6.3114e-01,  5.5946e-03],\n",
      "        [-6.3603e-01, -5.5707e-03],\n",
      "        [-5.9634e-01, -2.4252e-03],\n",
      "        [-6.4839e-01,  5.9751e-03],\n",
      "        [-6.0254e-01, -3.3217e-03],\n",
      "        [-7.0907e-01, -4.6998e-03],\n",
      "        [-7.3472e-01, -5.2491e-04],\n",
      "        [-7.3183e-01, -1.9046e-03],\n",
      "        [-6.4287e-01,  5.8959e-03],\n",
      "        [-6.5361e-01, -5.9666e-03],\n",
      "        [-6.1487e-01, -4.4777e-03],\n",
      "        [-6.4876e-01,  5.9791e-03],\n",
      "        [-5.9961e-01, -2.9402e-03]], dtype=torch.float64), 'r': tensor([-1., -1., -1., -1., -1., -1., -1., -1., -1., -1., -1., -1., -1., -1.,\n",
      "        -1., -1., -1., -1., -1., -1.], dtype=torch.float64), 'a': tensor([0, 0, 0, 0, 0, 0, 0, 0, 0, 0, 0, 0, 0, 0, 0, 0, 0, 0, 0, 0])}, {'d': tensor([False, False, False, False, False, False, False, False, False, False,\n",
      "        False, False, False, False, False, False, False, False, False, False]), 's': tensor([[-6.9970e-01, -5.2329e-03],\n",
      "        [-6.8866e-01, -5.6601e-03],\n",
      "        [-6.2030e-01, -4.8400e-03],\n",
      "        [-7.2459e-01, -3.2358e-03],\n",
      "        [-5.9391e-01, -1.9486e-03],\n",
      "        [-5.9667e-01, -2.4838e-03],\n",
      "        [-6.9005e-01,  5.4191e-03],\n",
      "        [-6.3114e-01,  5.5946e-03],\n",
      "        [-6.3603e-01, -5.5707e-03],\n",
      "        [-5.9634e-01, -2.4252e-03],\n",
      "        [-6.4839e-01,  5.9751e-03],\n",
      "        [-6.0254e-01, -3.3217e-03],\n",
      "        [-7.0907e-01, -4.6998e-03],\n",
      "        [-7.3472e-01, -5.2491e-04],\n",
      "        [-7.3183e-01, -1.9046e-03],\n",
      "        [-6.4287e-01,  5.8959e-03],\n",
      "        [-6.5361e-01, -5.9666e-03],\n",
      "        [-6.1487e-01, -4.4777e-03],\n",
      "        [-6.4876e-01,  5.9791e-03],\n",
      "        [-5.9961e-01, -2.9402e-03]], dtype=torch.float64), 'sp': tensor([[-7.0467e-01, -4.9727e-03],\n",
      "        [-6.9413e-01, -5.4721e-03],\n",
      "        [-6.2543e-01, -5.1248e-03],\n",
      "        [-7.2741e-01, -2.8181e-03],\n",
      "        [-5.9634e-01, -2.4252e-03],\n",
      "        [-5.9961e-01, -2.9402e-03],\n",
      "        [-6.8444e-01,  5.6163e-03],\n",
      "        [-6.2576e-01,  5.3873e-03],\n",
      "        [-6.4177e-01, -5.7434e-03],\n",
      "        [-5.9922e-01, -2.8840e-03],\n",
      "        [-6.4250e-01,  5.8893e-03],\n",
      "        [-6.0628e-01, -3.7351e-03],\n",
      "        [-7.1345e-01, -4.3794e-03],\n",
      "        [-7.3477e-01, -4.5239e-05],\n",
      "        [-7.3327e-01, -1.4425e-03],\n",
      "        [-6.3710e-01,  5.7714e-03],\n",
      "        [-6.5963e-01, -6.0160e-03],\n",
      "        [-6.1968e-01, -4.8017e-03],\n",
      "        [-6.4287e-01,  5.8959e-03],\n",
      "        [-6.0299e-01, -3.3750e-03]], dtype=torch.float64), 'r': tensor([-1., -1., -1., -1., -1., -1., -1., -1., -1., -1., -1., -1., -1., -1.,\n",
      "        -1., -1., -1., -1., -1., -1.], dtype=torch.float64), 'a': tensor([0, 0, 0, 0, 0, 0, 0, 0, 0, 0, 0, 0, 0, 0, 0, 0, 0, 0, 0, 0])}) ({'d': tensor([False, False, False, False, False, False, False, False, False, False,\n",
      "        False, False, False, False, False, False, False, False, False, False]), 's': tensor([[-6.9970e-01, -5.2329e-03],\n",
      "        [-6.8866e-01, -5.6601e-03],\n",
      "        [-6.2030e-01, -4.8400e-03],\n",
      "        [-7.2459e-01, -3.2358e-03],\n",
      "        [-5.9391e-01, -1.9486e-03],\n",
      "        [-5.9667e-01, -2.4838e-03],\n",
      "        [-6.9005e-01,  5.4191e-03],\n",
      "        [-6.3114e-01,  5.5946e-03],\n",
      "        [-6.3603e-01, -5.5707e-03],\n",
      "        [-5.9634e-01, -2.4252e-03],\n",
      "        [-6.4839e-01,  5.9751e-03],\n",
      "        [-6.0254e-01, -3.3217e-03],\n",
      "        [-7.0907e-01, -4.6998e-03],\n",
      "        [-7.3472e-01, -5.2491e-04],\n",
      "        [-7.3183e-01, -1.9046e-03],\n",
      "        [-6.4287e-01,  5.8959e-03],\n",
      "        [-6.5361e-01, -5.9666e-03],\n",
      "        [-6.1487e-01, -4.4777e-03],\n",
      "        [-6.4876e-01,  5.9791e-03],\n",
      "        [-5.9961e-01, -2.9402e-03]], dtype=torch.float64), 'sp': tensor([[-7.0467e-01, -4.9727e-03],\n",
      "        [-6.9413e-01, -5.4721e-03],\n",
      "        [-6.2543e-01, -5.1248e-03],\n",
      "        [-7.2741e-01, -2.8181e-03],\n",
      "        [-5.9634e-01, -2.4252e-03],\n",
      "        [-5.9961e-01, -2.9402e-03],\n",
      "        [-6.8444e-01,  5.6163e-03],\n",
      "        [-6.2576e-01,  5.3873e-03],\n",
      "        [-6.4177e-01, -5.7434e-03],\n",
      "        [-5.9922e-01, -2.8840e-03],\n",
      "        [-6.4250e-01,  5.8893e-03],\n",
      "        [-6.0628e-01, -3.7351e-03],\n",
      "        [-7.1345e-01, -4.3794e-03],\n",
      "        [-7.3477e-01, -4.5239e-05],\n",
      "        [-7.3327e-01, -1.4425e-03],\n",
      "        [-6.3710e-01,  5.7714e-03],\n",
      "        [-6.5963e-01, -6.0160e-03],\n",
      "        [-6.1968e-01, -4.8017e-03],\n",
      "        [-6.4287e-01,  5.8959e-03],\n",
      "        [-6.0299e-01, -3.3750e-03]], dtype=torch.float64), 'r': tensor([-1., -1., -1., -1., -1., -1., -1., -1., -1., -1., -1., -1., -1., -1.,\n",
      "        -1., -1., -1., -1., -1., -1.], dtype=torch.float64), 'a': tensor([0, 0, 0, 0, 0, 0, 0, 0, 0, 0, 0, 0, 0, 0, 0, 0, 0, 0, 0, 0])}, {'d': tensor([False, False, False, False, False, False, False, False, False, False,\n",
      "        False, False, False, False, False, False, False, False, False, False]), 's': tensor([[-7.0467e-01, -4.9727e-03],\n",
      "        [-6.9413e-01, -5.4721e-03],\n",
      "        [-6.2543e-01, -5.1248e-03],\n",
      "        [-7.2741e-01, -2.8181e-03],\n",
      "        [-5.9634e-01, -2.4252e-03],\n",
      "        [-5.9961e-01, -2.9402e-03],\n",
      "        [-6.8444e-01,  5.6163e-03],\n",
      "        [-6.2576e-01,  5.3873e-03],\n",
      "        [-6.4177e-01, -5.7434e-03],\n",
      "        [-5.9922e-01, -2.8840e-03],\n",
      "        [-6.4250e-01,  5.8893e-03],\n",
      "        [-6.0628e-01, -3.7351e-03],\n",
      "        [-7.1345e-01, -4.3794e-03],\n",
      "        [-7.3477e-01, -4.5239e-05],\n",
      "        [-7.3327e-01, -1.4425e-03],\n",
      "        [-6.3710e-01,  5.7714e-03],\n",
      "        [-6.5963e-01, -6.0160e-03],\n",
      "        [-6.1968e-01, -4.8017e-03],\n",
      "        [-6.4287e-01,  5.8959e-03],\n",
      "        [-6.0299e-01, -3.3750e-03]], dtype=torch.float64), 'sp': tensor([[-7.0935e-01, -4.6805e-03],\n",
      "        [-6.9938e-01, -5.2481e-03],\n",
      "        [-6.3080e-01, -5.3729e-03],\n",
      "        [-7.2979e-01, -2.3830e-03],\n",
      "        [-5.9922e-01, -2.8840e-03],\n",
      "        [-6.0299e-01, -3.3750e-03],\n",
      "        [-6.7866e-01,  5.7763e-03],\n",
      "        [-6.2061e-01,  5.1415e-03],\n",
      "        [-6.4764e-01, -5.8756e-03],\n",
      "        [-6.0254e-01, -3.3217e-03],\n",
      "        [-6.3674e-01,  5.7623e-03],\n",
      "        [-6.1040e-01, -4.1214e-03],\n",
      "        [-7.1748e-01, -4.0313e-03],\n",
      "        [-7.3433e-01,  4.3470e-04],\n",
      "        [-7.3425e-01, -9.7163e-04],\n",
      "        [-6.3149e-01,  5.6063e-03],\n",
      "        [-6.6565e-01, -6.0239e-03],\n",
      "        [-6.2477e-01, -5.0910e-03],\n",
      "        [-6.3710e-01,  5.7714e-03],\n",
      "        [-6.0677e-01, -3.7852e-03]], dtype=torch.float64), 'r': tensor([-1., -1., -1., -1., -1., -1., -1., -1., -1., -1., -1., -1., -1., -1.,\n",
      "        -1., -1., -1., -1., -1., -1.], dtype=torch.float64), 'a': tensor([0, 0, 0, 0, 0, 0, 0, 0, 0, 0, 0, 0, 0, 0, 0, 0, 0, 0, 0, 0])})\n"
     ]
    }
   ],
   "source": [
    "for x,y in dls[0]:\n",
    "    print(x,y)\n",
    "    break"
   ]
  },
  {
   "cell_type": "markdown",
   "metadata": {},
   "source": [
    "## Export"
   ]
  },
  {
   "cell_type": "code",
   "execution_count": 31,
   "metadata": {},
   "outputs": [
    {
     "name": "stdout",
     "output_type": "stream",
     "text": [
      "Converted 00_core.ipynb.\n",
      "Converted 01_wrappers.ipynb.\n",
      "Converted 02_callbacks.ipynb.\n",
      "Converted 03_basic_agents.ipynb.\n",
      "Converted 04_metrics.ipynb.\n",
      "Converted 05_data.ipynb.\n",
      "Converted 06_basic_train.ipynb.\n",
      "Converted 12_a3c.a3c_data.ipynb.\n",
      "Converted index.ipynb.\n",
      "Converted notes.ipynb.\n"
     ]
    },
    {
     "data": {
      "text/html": [],
      "text/plain": [
       "<IPython.core.display.HTML object>"
      ]
     },
     "metadata": {},
     "output_type": "display_data"
    },
    {
     "name": "stdout",
     "output_type": "stream",
     "text": [
      "converting: /opt/project/fastrl/nbs/12_a3c.a3c_data.ipynb\n",
      "An error occurred while executing the following cell:\n",
      "------------------\n",
      "from nbdev.showdoc import show_doc\n",
      "from fastrl.a3c.a3c_data import *\n",
      "------------------\n",
      "\n",
      "\u001B[0;31m---------------------------------------------------------------------------\u001B[0m\n",
      "\u001B[0;31mModuleNotFoundError\u001B[0m                       Traceback (most recent call last)\n",
      "\u001B[0;32m<ipython-input-1-19dfa7b4de72>\u001B[0m in \u001B[0;36m<module>\u001B[0;34m\u001B[0m\n",
      "\u001B[1;32m      1\u001B[0m \u001B[0;32mfrom\u001B[0m \u001B[0mnbdev\u001B[0m\u001B[0;34m.\u001B[0m\u001B[0mshowdoc\u001B[0m \u001B[0;32mimport\u001B[0m \u001B[0mshow_doc\u001B[0m\u001B[0;34m\u001B[0m\u001B[0;34m\u001B[0m\u001B[0m\n",
      "\u001B[0;32m----> 2\u001B[0;31m \u001B[0;32mfrom\u001B[0m \u001B[0mfastrl\u001B[0m\u001B[0;34m.\u001B[0m\u001B[0ma3c\u001B[0m\u001B[0;34m.\u001B[0m\u001B[0ma3c_data\u001B[0m \u001B[0;32mimport\u001B[0m \u001B[0;34m*\u001B[0m\u001B[0;34m\u001B[0m\u001B[0;34m\u001B[0m\u001B[0m\n",
      "\u001B[0m\n",
      "\u001B[0;32m/opt/project/fastrl/fastrl/a3c/a3c_data.py\u001B[0m in \u001B[0;36m<module>\u001B[0;34m\u001B[0m\n",
      "\u001B[1;32m      7\u001B[0m \u001B[0;32mimport\u001B[0m \u001B[0mtorch\u001B[0m\u001B[0;34m.\u001B[0m\u001B[0mnn\u001B[0m\u001B[0;34m.\u001B[0m\u001B[0mutils\u001B[0m \u001B[0;32mas\u001B[0m \u001B[0mnn_utils\u001B[0m\u001B[0;34m\u001B[0m\u001B[0;34m\u001B[0m\u001B[0m\n",
      "\u001B[1;32m      8\u001B[0m \u001B[0;32mfrom\u001B[0m \u001B[0mfastai\u001B[0m\u001B[0;34m.\u001B[0m\u001B[0mtorch_core\u001B[0m \u001B[0;32mimport\u001B[0m \u001B[0;34m*\u001B[0m\u001B[0;34m\u001B[0m\u001B[0;34m\u001B[0m\u001B[0m\n",
      "\u001B[0;32m----> 9\u001B[0;31m \u001B[0;32mfrom\u001B[0m \u001B[0mfastai\u001B[0m\u001B[0;34m.\u001B[0m\u001B[0mcallbacks\u001B[0m \u001B[0;32mimport\u001B[0m \u001B[0;34m*\u001B[0m\u001B[0;34m\u001B[0m\u001B[0;34m\u001B[0m\u001B[0m\n",
      "\u001B[0m\u001B[1;32m     10\u001B[0m \u001B[0;32mfrom\u001B[0m \u001B[0mfastai\u001B[0m\u001B[0;34m.\u001B[0m\u001B[0mbasic_train\u001B[0m \u001B[0;32mimport\u001B[0m \u001B[0;34m*\u001B[0m\u001B[0;34m\u001B[0m\u001B[0;34m\u001B[0m\u001B[0m\n",
      "\u001B[1;32m     11\u001B[0m \u001B[0;32mfrom\u001B[0m \u001B[0mfastai\u001B[0m\u001B[0;34m.\u001B[0m\u001B[0mcallback\u001B[0m \u001B[0;32mimport\u001B[0m \u001B[0;34m*\u001B[0m\u001B[0;34m\u001B[0m\u001B[0;34m\u001B[0m\u001B[0m\n",
      "\n",
      "\u001B[0;31mModuleNotFoundError\u001B[0m: No module named 'fastai.callbacks'\n",
      "ModuleNotFoundError: No module named 'fastai.callbacks'\n",
      "\n",
      "converting: /opt/project/fastrl/nbs/05_data.ipynb\n",
      "An error occurred while executing the following cell:\n",
      "------------------\n",
      "show_doc(DoneStateEnv:d:bool;s:np.array;env, default_cls_level=2)\n",
      "------------------\n",
      "\n",
      "\u001B[0;36m  File \u001B[0;32m\"<ipython-input-5-881a7849cbe8>\"\u001B[0;36m, line \u001B[0;32m1\u001B[0m\n",
      "\u001B[0;31m    show_doc(DoneStateEnv:d:bool;s:np.array;env, default_cls_level=2)\u001B[0m\n",
      "\u001B[0m                         ^\u001B[0m\n",
      "\u001B[0;31mSyntaxError\u001B[0m\u001B[0;31m:\u001B[0m invalid syntax\n",
      "\n",
      "SyntaxError: invalid syntax (<ipython-input-5-881a7849cbe8>, line 1)\n",
      "\n"
     ]
    },
    {
     "ename": "Exception",
     "evalue": "Conversion failed on the following:\n12_a3c.a3c_data.ipynb\n05_data.ipynb",
     "output_type": "error",
     "traceback": [
      "\u001B[0;31m---------------------------------------------------------------------------\u001B[0m",
      "\u001B[0;31mException\u001B[0m                                 Traceback (most recent call last)",
      "\u001B[0;32m<ipython-input-31-3b122d1c3416>\u001B[0m in \u001B[0;36m<module>\u001B[0;34m\u001B[0m\n\u001B[1;32m      2\u001B[0m \u001B[0;32mfrom\u001B[0m \u001B[0mnbdev\u001B[0m\u001B[0;34m.\u001B[0m\u001B[0mexport\u001B[0m \u001B[0;32mimport\u001B[0m \u001B[0;34m*\u001B[0m\u001B[0;34m\u001B[0m\u001B[0;34m\u001B[0m\u001B[0m\n\u001B[1;32m      3\u001B[0m \u001B[0mnotebook2script\u001B[0m\u001B[0;34m(\u001B[0m\u001B[0;34m)\u001B[0m\u001B[0;34m\u001B[0m\u001B[0;34m\u001B[0m\u001B[0m\n\u001B[0;32m----> 4\u001B[0;31m \u001B[0mnotebook2html\u001B[0m\u001B[0;34m(\u001B[0m\u001B[0mn_workers\u001B[0m\u001B[0;34m=\u001B[0m\u001B[0;36m0\u001B[0m\u001B[0;34m)\u001B[0m\u001B[0;34m\u001B[0m\u001B[0;34m\u001B[0m\u001B[0m\n\u001B[0m",
      "\u001B[0;32m/opt/conda/envs/fastrl/lib/python3.7/site-packages/nbdev/export2html.py\u001B[0m in \u001B[0;36mnotebook2html\u001B[0;34m(fname, force_all, n_workers, cls, template_file, exporter, dest, pause)\u001B[0m\n\u001B[1;32m    580\u001B[0m         \u001B[0;32mif\u001B[0m \u001B[0;32mnot\u001B[0m \u001B[0mall\u001B[0m\u001B[0;34m(\u001B[0m\u001B[0mpassed\u001B[0m\u001B[0;34m)\u001B[0m\u001B[0;34m:\u001B[0m\u001B[0;34m\u001B[0m\u001B[0;34m\u001B[0m\u001B[0m\n\u001B[1;32m    581\u001B[0m             \u001B[0mmsg\u001B[0m \u001B[0;34m=\u001B[0m \u001B[0;34m\"Conversion failed on the following:\\n\"\u001B[0m\u001B[0;34m\u001B[0m\u001B[0;34m\u001B[0m\u001B[0m\n\u001B[0;32m--> 582\u001B[0;31m             \u001B[0;32mraise\u001B[0m \u001B[0mException\u001B[0m\u001B[0;34m(\u001B[0m\u001B[0mmsg\u001B[0m \u001B[0;34m+\u001B[0m \u001B[0;34m'\\n'\u001B[0m\u001B[0;34m.\u001B[0m\u001B[0mjoin\u001B[0m\u001B[0;34m(\u001B[0m\u001B[0;34m[\u001B[0m\u001B[0mf\u001B[0m\u001B[0;34m.\u001B[0m\u001B[0mname\u001B[0m \u001B[0;32mfor\u001B[0m \u001B[0mp\u001B[0m\u001B[0;34m,\u001B[0m\u001B[0mf\u001B[0m \u001B[0;32min\u001B[0m \u001B[0mzip\u001B[0m\u001B[0;34m(\u001B[0m\u001B[0mpassed\u001B[0m\u001B[0;34m,\u001B[0m\u001B[0mfiles\u001B[0m\u001B[0;34m)\u001B[0m \u001B[0;32mif\u001B[0m \u001B[0;32mnot\u001B[0m \u001B[0mp\u001B[0m\u001B[0;34m]\u001B[0m\u001B[0;34m)\u001B[0m\u001B[0;34m)\u001B[0m\u001B[0;34m\u001B[0m\u001B[0;34m\u001B[0m\u001B[0m\n\u001B[0m\u001B[1;32m    583\u001B[0m \u001B[0;34m\u001B[0m\u001B[0m\n\u001B[1;32m    584\u001B[0m \u001B[0;31m# Cell\u001B[0m\u001B[0;34m\u001B[0m\u001B[0;34m\u001B[0m\u001B[0;34m\u001B[0m\u001B[0m\n",
      "\u001B[0;31mException\u001B[0m: Conversion failed on the following:\n12_a3c.a3c_data.ipynb\n05_data.ipynb"
     ]
    }
   ],
   "source": [
    "# hide\n",
    "from nbdev.export import *\n",
    "notebook2script()\n",
    "notebook2html(n_workers=0)"
   ]
  },
  {
   "cell_type": "code",
   "execution_count": null,
   "metadata": {},
   "outputs": [],
   "source": []
  }
 ],
 "metadata": {
  "kernelspec": {
   "display_name": "Python 3",
   "language": "python",
   "name": "python3"
  },
  "language_info": {
   "codemirror_mode": {
    "name": "ipython",
    "version": 3
   },
   "file_extension": ".py",
   "mimetype": "text/x-python",
   "name": "python",
   "nbconvert_exporter": "python",
   "pygments_lexer": "ipython3",
   "version": "3.7.8"
  }
 },
 "nbformat": 4,
 "nbformat_minor": 4
}